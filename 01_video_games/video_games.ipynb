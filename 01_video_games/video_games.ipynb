{
 "cells": [
  {
   "cell_type": "markdown",
   "metadata": {},
   "source": [
    "# Выявление факторов, определяющих успешность видеоигр"
   ]
  },
  {
   "cell_type": "markdown",
   "metadata": {},
   "source": [
    "В нашем распоряжении данные из открытых источников о продажах игр, оценки пользователей и экспертов, жанры и платформы. Необходимо выявить определяющие успешность игры закономерности. Это позволит сделать ставку на потенциально популярный продукт и спланировать рекламные кампании.\n",
    "\n",
    "**Цели исследования:**\n",
    "- Проанализировать основные показатели, построить графики, определить основные тенденции.\n",
    "- Сравнить портреты пользователей разных регионов.\n",
    "- Проверить некоторые статистические гипотезы.\n",
    "\n",
    "**Описание данных:**\n",
    "- `Name` — название игры\n",
    "- `Platform` — платформа\n",
    "- `Year_of_Release` — год выпуска\n",
    "- `Genre` — жанр игры\n",
    "- `NA_sales` — продажи в Северной Америке (миллионы проданных копий)\n",
    "- `EU_sales` — продажи в Европе (миллионы проданных копий)\n",
    "- `JP_sales` — продажи в Японии (миллионы проданных копий)\n",
    "- `Other_sales` — продажи в других странах (миллионы проданных копий)\n",
    "- `Critic_Score` — оценка критиков (максимум 100)\n",
    "- `User_Score` — оценка пользователей (максимум 10)\n",
    "- `Rating` — возрастной рейтинг от организации ESRB.\n",
    "\n",
    "**Основные этапы работ:**\n",
    "1. Изучение и предобработка данных.\n",
    "2. Построение графиков по основным показателям.\n",
    "3. Выделение актуальных платформ.\n",
    "4. Сравнение продаж игр для различных платформ.\n",
    "5. Определение степени влияния оценок на продажи.\n",
    "6. Определение наиболее прибыльных жанров.\n",
    "7. Сравнение поведения пользователей из различных регионов.\n",
    "8. Проверка гипотез.\n",
    "9. Резюмирование результатов."
   ]
  },
  {
   "cell_type": "markdown",
   "metadata": {},
   "source": [
    "## Общая информация о данных"
   ]
  },
  {
   "cell_type": "code",
   "execution_count": 1,
   "metadata": {},
   "outputs": [],
   "source": [
    "from scipy import stats as st\n",
    "import pandas as pd\n",
    "import matplotlib as mpl\n",
    "import matplotlib.pyplot as plt\n",
    "import numpy as np\n",
    "import seaborn as sns\n",
    "import re\n",
    "sns.set_style('darkgrid')"
   ]
  },
  {
   "cell_type": "code",
   "execution_count": 2,
   "metadata": {},
   "outputs": [],
   "source": [
    "data = pd.read_csv('/datasets/games.csv')"
   ]
  },
  {
   "cell_type": "markdown",
   "metadata": {},
   "source": [
    "Вывод первых строк таблицы"
   ]
  },
  {
   "cell_type": "code",
   "execution_count": 3,
   "metadata": {},
   "outputs": [
    {
     "data": {
      "text/html": [
       "<div>\n",
       "<style scoped>\n",
       "    .dataframe tbody tr th:only-of-type {\n",
       "        vertical-align: middle;\n",
       "    }\n",
       "\n",
       "    .dataframe tbody tr th {\n",
       "        vertical-align: top;\n",
       "    }\n",
       "\n",
       "    .dataframe thead th {\n",
       "        text-align: right;\n",
       "    }\n",
       "</style>\n",
       "<table border=\"1\" class=\"dataframe\">\n",
       "  <thead>\n",
       "    <tr style=\"text-align: right;\">\n",
       "      <th></th>\n",
       "      <th>Name</th>\n",
       "      <th>Platform</th>\n",
       "      <th>Year_of_Release</th>\n",
       "      <th>Genre</th>\n",
       "      <th>NA_sales</th>\n",
       "      <th>EU_sales</th>\n",
       "      <th>JP_sales</th>\n",
       "      <th>Other_sales</th>\n",
       "      <th>Critic_Score</th>\n",
       "      <th>User_Score</th>\n",
       "      <th>Rating</th>\n",
       "    </tr>\n",
       "  </thead>\n",
       "  <tbody>\n",
       "    <tr>\n",
       "      <th>0</th>\n",
       "      <td>Wii Sports</td>\n",
       "      <td>Wii</td>\n",
       "      <td>2006.0</td>\n",
       "      <td>Sports</td>\n",
       "      <td>41.36</td>\n",
       "      <td>28.96</td>\n",
       "      <td>3.77</td>\n",
       "      <td>8.45</td>\n",
       "      <td>76.0</td>\n",
       "      <td>8</td>\n",
       "      <td>E</td>\n",
       "    </tr>\n",
       "    <tr>\n",
       "      <th>1</th>\n",
       "      <td>Super Mario Bros.</td>\n",
       "      <td>NES</td>\n",
       "      <td>1985.0</td>\n",
       "      <td>Platform</td>\n",
       "      <td>29.08</td>\n",
       "      <td>3.58</td>\n",
       "      <td>6.81</td>\n",
       "      <td>0.77</td>\n",
       "      <td>NaN</td>\n",
       "      <td>NaN</td>\n",
       "      <td>NaN</td>\n",
       "    </tr>\n",
       "    <tr>\n",
       "      <th>2</th>\n",
       "      <td>Mario Kart Wii</td>\n",
       "      <td>Wii</td>\n",
       "      <td>2008.0</td>\n",
       "      <td>Racing</td>\n",
       "      <td>15.68</td>\n",
       "      <td>12.76</td>\n",
       "      <td>3.79</td>\n",
       "      <td>3.29</td>\n",
       "      <td>82.0</td>\n",
       "      <td>8.3</td>\n",
       "      <td>E</td>\n",
       "    </tr>\n",
       "    <tr>\n",
       "      <th>3</th>\n",
       "      <td>Wii Sports Resort</td>\n",
       "      <td>Wii</td>\n",
       "      <td>2009.0</td>\n",
       "      <td>Sports</td>\n",
       "      <td>15.61</td>\n",
       "      <td>10.93</td>\n",
       "      <td>3.28</td>\n",
       "      <td>2.95</td>\n",
       "      <td>80.0</td>\n",
       "      <td>8</td>\n",
       "      <td>E</td>\n",
       "    </tr>\n",
       "    <tr>\n",
       "      <th>4</th>\n",
       "      <td>Pokemon Red/Pokemon Blue</td>\n",
       "      <td>GB</td>\n",
       "      <td>1996.0</td>\n",
       "      <td>Role-Playing</td>\n",
       "      <td>11.27</td>\n",
       "      <td>8.89</td>\n",
       "      <td>10.22</td>\n",
       "      <td>1.00</td>\n",
       "      <td>NaN</td>\n",
       "      <td>NaN</td>\n",
       "      <td>NaN</td>\n",
       "    </tr>\n",
       "    <tr>\n",
       "      <th>5</th>\n",
       "      <td>Tetris</td>\n",
       "      <td>GB</td>\n",
       "      <td>1989.0</td>\n",
       "      <td>Puzzle</td>\n",
       "      <td>23.20</td>\n",
       "      <td>2.26</td>\n",
       "      <td>4.22</td>\n",
       "      <td>0.58</td>\n",
       "      <td>NaN</td>\n",
       "      <td>NaN</td>\n",
       "      <td>NaN</td>\n",
       "    </tr>\n",
       "    <tr>\n",
       "      <th>6</th>\n",
       "      <td>New Super Mario Bros.</td>\n",
       "      <td>DS</td>\n",
       "      <td>2006.0</td>\n",
       "      <td>Platform</td>\n",
       "      <td>11.28</td>\n",
       "      <td>9.14</td>\n",
       "      <td>6.50</td>\n",
       "      <td>2.88</td>\n",
       "      <td>89.0</td>\n",
       "      <td>8.5</td>\n",
       "      <td>E</td>\n",
       "    </tr>\n",
       "    <tr>\n",
       "      <th>7</th>\n",
       "      <td>Wii Play</td>\n",
       "      <td>Wii</td>\n",
       "      <td>2006.0</td>\n",
       "      <td>Misc</td>\n",
       "      <td>13.96</td>\n",
       "      <td>9.18</td>\n",
       "      <td>2.93</td>\n",
       "      <td>2.84</td>\n",
       "      <td>58.0</td>\n",
       "      <td>6.6</td>\n",
       "      <td>E</td>\n",
       "    </tr>\n",
       "    <tr>\n",
       "      <th>8</th>\n",
       "      <td>New Super Mario Bros. Wii</td>\n",
       "      <td>Wii</td>\n",
       "      <td>2009.0</td>\n",
       "      <td>Platform</td>\n",
       "      <td>14.44</td>\n",
       "      <td>6.94</td>\n",
       "      <td>4.70</td>\n",
       "      <td>2.24</td>\n",
       "      <td>87.0</td>\n",
       "      <td>8.4</td>\n",
       "      <td>E</td>\n",
       "    </tr>\n",
       "    <tr>\n",
       "      <th>9</th>\n",
       "      <td>Duck Hunt</td>\n",
       "      <td>NES</td>\n",
       "      <td>1984.0</td>\n",
       "      <td>Shooter</td>\n",
       "      <td>26.93</td>\n",
       "      <td>0.63</td>\n",
       "      <td>0.28</td>\n",
       "      <td>0.47</td>\n",
       "      <td>NaN</td>\n",
       "      <td>NaN</td>\n",
       "      <td>NaN</td>\n",
       "    </tr>\n",
       "  </tbody>\n",
       "</table>\n",
       "</div>"
      ],
      "text/plain": [
       "                        Name Platform  Year_of_Release         Genre  \\\n",
       "0                 Wii Sports      Wii           2006.0        Sports   \n",
       "1          Super Mario Bros.      NES           1985.0      Platform   \n",
       "2             Mario Kart Wii      Wii           2008.0        Racing   \n",
       "3          Wii Sports Resort      Wii           2009.0        Sports   \n",
       "4   Pokemon Red/Pokemon Blue       GB           1996.0  Role-Playing   \n",
       "5                     Tetris       GB           1989.0        Puzzle   \n",
       "6      New Super Mario Bros.       DS           2006.0      Platform   \n",
       "7                   Wii Play      Wii           2006.0          Misc   \n",
       "8  New Super Mario Bros. Wii      Wii           2009.0      Platform   \n",
       "9                  Duck Hunt      NES           1984.0       Shooter   \n",
       "\n",
       "   NA_sales  EU_sales  JP_sales  Other_sales  Critic_Score User_Score Rating  \n",
       "0     41.36     28.96      3.77         8.45          76.0          8      E  \n",
       "1     29.08      3.58      6.81         0.77           NaN        NaN    NaN  \n",
       "2     15.68     12.76      3.79         3.29          82.0        8.3      E  \n",
       "3     15.61     10.93      3.28         2.95          80.0          8      E  \n",
       "4     11.27      8.89     10.22         1.00           NaN        NaN    NaN  \n",
       "5     23.20      2.26      4.22         0.58           NaN        NaN    NaN  \n",
       "6     11.28      9.14      6.50         2.88          89.0        8.5      E  \n",
       "7     13.96      9.18      2.93         2.84          58.0        6.6      E  \n",
       "8     14.44      6.94      4.70         2.24          87.0        8.4      E  \n",
       "9     26.93      0.63      0.28         0.47           NaN        NaN    NaN  "
      ]
     },
     "execution_count": 3,
     "metadata": {},
     "output_type": "execute_result"
    }
   ],
   "source": [
    "data.head(10)"
   ]
  },
  {
   "cell_type": "markdown",
   "metadata": {},
   "source": [
    "Основная информация о датафрейме"
   ]
  },
  {
   "cell_type": "code",
   "execution_count": 4,
   "metadata": {},
   "outputs": [
    {
     "name": "stdout",
     "output_type": "stream",
     "text": [
      "<class 'pandas.core.frame.DataFrame'>\n",
      "RangeIndex: 16715 entries, 0 to 16714\n",
      "Data columns (total 11 columns):\n",
      " #   Column           Non-Null Count  Dtype  \n",
      "---  ------           --------------  -----  \n",
      " 0   Name             16713 non-null  object \n",
      " 1   Platform         16715 non-null  object \n",
      " 2   Year_of_Release  16446 non-null  float64\n",
      " 3   Genre            16713 non-null  object \n",
      " 4   NA_sales         16715 non-null  float64\n",
      " 5   EU_sales         16715 non-null  float64\n",
      " 6   JP_sales         16715 non-null  float64\n",
      " 7   Other_sales      16715 non-null  float64\n",
      " 8   Critic_Score     8137 non-null   float64\n",
      " 9   User_Score       10014 non-null  object \n",
      " 10  Rating           9949 non-null   object \n",
      "dtypes: float64(6), object(5)\n",
      "memory usage: 1.4+ MB\n"
     ]
    }
   ],
   "source": [
    "data.info()"
   ]
  },
  {
   "cell_type": "markdown",
   "metadata": {},
   "source": [
    "Количество пропусков в каждой колонке, а так же их процент."
   ]
  },
  {
   "cell_type": "code",
   "execution_count": 5,
   "metadata": {},
   "outputs": [
    {
     "name": "stdout",
     "output_type": "stream",
     "text": [
      "Всего строк: 16715\n"
     ]
    },
    {
     "data": {
      "text/html": [
       "<style  type=\"text/css\" >\n",
       "#T_69a25_row0_col0,#T_69a25_row0_col1,#T_69a25_row1_col0,#T_69a25_row1_col1,#T_69a25_row3_col0,#T_69a25_row3_col1,#T_69a25_row4_col0,#T_69a25_row4_col1,#T_69a25_row5_col0,#T_69a25_row5_col1,#T_69a25_row6_col0,#T_69a25_row6_col1,#T_69a25_row7_col0,#T_69a25_row7_col1{\n",
       "            background-color:  #3b4cc0;\n",
       "            color:  #f1f1f1;\n",
       "        }#T_69a25_row2_col0,#T_69a25_row2_col1{\n",
       "            background-color:  #445acc;\n",
       "            color:  #f1f1f1;\n",
       "        }#T_69a25_row8_col0,#T_69a25_row8_col1{\n",
       "            background-color:  #b40426;\n",
       "            color:  #f1f1f1;\n",
       "        }#T_69a25_row9_col0,#T_69a25_row9_col1{\n",
       "            background-color:  #f18d6f;\n",
       "            color:  #000000;\n",
       "        }#T_69a25_row10_col0,#T_69a25_row10_col1{\n",
       "            background-color:  #f08a6c;\n",
       "            color:  #000000;\n",
       "        }</style><table id=\"T_69a25_\" ><thead>    <tr>        <th class=\"blank level0\" ></th>        <th class=\"col_heading level0 col0\" >percent</th>        <th class=\"col_heading level0 col1\" >sum</th>    </tr></thead><tbody>\n",
       "                <tr>\n",
       "                        <th id=\"T_69a25_level0_row0\" class=\"row_heading level0 row0\" >Name</th>\n",
       "                        <td id=\"T_69a25_row0_col0\" class=\"data row0 col0\" >0.010000</td>\n",
       "                        <td id=\"T_69a25_row0_col1\" class=\"data row0 col1\" >2</td>\n",
       "            </tr>\n",
       "            <tr>\n",
       "                        <th id=\"T_69a25_level0_row1\" class=\"row_heading level0 row1\" >Platform</th>\n",
       "                        <td id=\"T_69a25_row1_col0\" class=\"data row1 col0\" >0.000000</td>\n",
       "                        <td id=\"T_69a25_row1_col1\" class=\"data row1 col1\" >0</td>\n",
       "            </tr>\n",
       "            <tr>\n",
       "                        <th id=\"T_69a25_level0_row2\" class=\"row_heading level0 row2\" >Year_of_Release</th>\n",
       "                        <td id=\"T_69a25_row2_col0\" class=\"data row2 col0\" >1.610000</td>\n",
       "                        <td id=\"T_69a25_row2_col1\" class=\"data row2 col1\" >269</td>\n",
       "            </tr>\n",
       "            <tr>\n",
       "                        <th id=\"T_69a25_level0_row3\" class=\"row_heading level0 row3\" >Genre</th>\n",
       "                        <td id=\"T_69a25_row3_col0\" class=\"data row3 col0\" >0.010000</td>\n",
       "                        <td id=\"T_69a25_row3_col1\" class=\"data row3 col1\" >2</td>\n",
       "            </tr>\n",
       "            <tr>\n",
       "                        <th id=\"T_69a25_level0_row4\" class=\"row_heading level0 row4\" >NA_sales</th>\n",
       "                        <td id=\"T_69a25_row4_col0\" class=\"data row4 col0\" >0.000000</td>\n",
       "                        <td id=\"T_69a25_row4_col1\" class=\"data row4 col1\" >0</td>\n",
       "            </tr>\n",
       "            <tr>\n",
       "                        <th id=\"T_69a25_level0_row5\" class=\"row_heading level0 row5\" >EU_sales</th>\n",
       "                        <td id=\"T_69a25_row5_col0\" class=\"data row5 col0\" >0.000000</td>\n",
       "                        <td id=\"T_69a25_row5_col1\" class=\"data row5 col1\" >0</td>\n",
       "            </tr>\n",
       "            <tr>\n",
       "                        <th id=\"T_69a25_level0_row6\" class=\"row_heading level0 row6\" >JP_sales</th>\n",
       "                        <td id=\"T_69a25_row6_col0\" class=\"data row6 col0\" >0.000000</td>\n",
       "                        <td id=\"T_69a25_row6_col1\" class=\"data row6 col1\" >0</td>\n",
       "            </tr>\n",
       "            <tr>\n",
       "                        <th id=\"T_69a25_level0_row7\" class=\"row_heading level0 row7\" >Other_sales</th>\n",
       "                        <td id=\"T_69a25_row7_col0\" class=\"data row7 col0\" >0.000000</td>\n",
       "                        <td id=\"T_69a25_row7_col1\" class=\"data row7 col1\" >0</td>\n",
       "            </tr>\n",
       "            <tr>\n",
       "                        <th id=\"T_69a25_level0_row8\" class=\"row_heading level0 row8\" >Critic_Score</th>\n",
       "                        <td id=\"T_69a25_row8_col0\" class=\"data row8 col0\" >51.320000</td>\n",
       "                        <td id=\"T_69a25_row8_col1\" class=\"data row8 col1\" >8578</td>\n",
       "            </tr>\n",
       "            <tr>\n",
       "                        <th id=\"T_69a25_level0_row9\" class=\"row_heading level0 row9\" >User_Score</th>\n",
       "                        <td id=\"T_69a25_row9_col0\" class=\"data row9 col0\" >40.090000</td>\n",
       "                        <td id=\"T_69a25_row9_col1\" class=\"data row9 col1\" >6701</td>\n",
       "            </tr>\n",
       "            <tr>\n",
       "                        <th id=\"T_69a25_level0_row10\" class=\"row_heading level0 row10\" >Rating</th>\n",
       "                        <td id=\"T_69a25_row10_col0\" class=\"data row10 col0\" >40.480000</td>\n",
       "                        <td id=\"T_69a25_row10_col1\" class=\"data row10 col1\" >6766</td>\n",
       "            </tr>\n",
       "    </tbody></table>"
      ],
      "text/plain": [
       "<pandas.io.formats.style.Styler at 0x7f48c41c8940>"
      ]
     },
     "execution_count": 5,
     "metadata": {},
     "output_type": "execute_result"
    }
   ],
   "source": [
    "# Вывод общего количества строк\n",
    "print('Всего строк:', data.shape[0])\n",
    "# Таблица с пропусками в данных\n",
    "pd.DataFrame({'percent': (data.isna().mean()*100).round(2), 'sum': data.isna().sum()}).style.background_gradient('coolwarm')"
   ]
  },
  {
   "cell_type": "markdown",
   "metadata": {},
   "source": [
    "**Вывод:** для дальнейшей работы с данными необходимо выполнить следующее:\n",
    "1. привести к нижнему регистру названия столбцов\n",
    "2. по возможности заполнить пропуски в колонках: год релиза (**1.6%** пропусков), оценки от критиков и пользователей(**51%** и **40%** пропусков), возрастной рейтинг (**40%** пропусков). Так разобраться с двумя пустыми значениями в колонках Name и Genre.\n",
    "3. Тип данных в столбце User_Score преобразовать во `float`."
   ]
  },
  {
   "cell_type": "markdown",
   "metadata": {},
   "source": [
    "## Предобработка данных"
   ]
  },
  {
   "cell_type": "markdown",
   "metadata": {},
   "source": [
    "Приведем названия столбцов к нижнему регистру"
   ]
  },
  {
   "cell_type": "code",
   "execution_count": 6,
   "metadata": {},
   "outputs": [
    {
     "data": {
      "text/html": [
       "<div>\n",
       "<style scoped>\n",
       "    .dataframe tbody tr th:only-of-type {\n",
       "        vertical-align: middle;\n",
       "    }\n",
       "\n",
       "    .dataframe tbody tr th {\n",
       "        vertical-align: top;\n",
       "    }\n",
       "\n",
       "    .dataframe thead th {\n",
       "        text-align: right;\n",
       "    }\n",
       "</style>\n",
       "<table border=\"1\" class=\"dataframe\">\n",
       "  <thead>\n",
       "    <tr style=\"text-align: right;\">\n",
       "      <th></th>\n",
       "      <th>name</th>\n",
       "      <th>platform</th>\n",
       "      <th>year_of_release</th>\n",
       "      <th>genre</th>\n",
       "      <th>na_sales</th>\n",
       "      <th>eu_sales</th>\n",
       "      <th>jp_sales</th>\n",
       "      <th>other_sales</th>\n",
       "      <th>critic_score</th>\n",
       "      <th>user_score</th>\n",
       "      <th>rating</th>\n",
       "    </tr>\n",
       "  </thead>\n",
       "  <tbody>\n",
       "  </tbody>\n",
       "</table>\n",
       "</div>"
      ],
      "text/plain": [
       "Empty DataFrame\n",
       "Columns: [name, platform, year_of_release, genre, na_sales, eu_sales, jp_sales, other_sales, critic_score, user_score, rating]\n",
       "Index: []"
      ]
     },
     "execution_count": 6,
     "metadata": {},
     "output_type": "execute_result"
    }
   ],
   "source": [
    "data.columns = data.columns.str.lower()\n",
    "# Проверяем результат\n",
    "data.head(0)"
   ]
  },
  {
   "cell_type": "markdown",
   "metadata": {},
   "source": [
    "Проверим пропуски в столбцах `genre` и `name`"
   ]
  },
  {
   "cell_type": "code",
   "execution_count": 7,
   "metadata": {},
   "outputs": [
    {
     "data": {
      "text/html": [
       "<div>\n",
       "<style scoped>\n",
       "    .dataframe tbody tr th:only-of-type {\n",
       "        vertical-align: middle;\n",
       "    }\n",
       "\n",
       "    .dataframe tbody tr th {\n",
       "        vertical-align: top;\n",
       "    }\n",
       "\n",
       "    .dataframe thead th {\n",
       "        text-align: right;\n",
       "    }\n",
       "</style>\n",
       "<table border=\"1\" class=\"dataframe\">\n",
       "  <thead>\n",
       "    <tr style=\"text-align: right;\">\n",
       "      <th></th>\n",
       "      <th>name</th>\n",
       "      <th>platform</th>\n",
       "      <th>year_of_release</th>\n",
       "      <th>genre</th>\n",
       "      <th>na_sales</th>\n",
       "      <th>eu_sales</th>\n",
       "      <th>jp_sales</th>\n",
       "      <th>other_sales</th>\n",
       "      <th>critic_score</th>\n",
       "      <th>user_score</th>\n",
       "      <th>rating</th>\n",
       "    </tr>\n",
       "  </thead>\n",
       "  <tbody>\n",
       "    <tr>\n",
       "      <th>659</th>\n",
       "      <td>NaN</td>\n",
       "      <td>GEN</td>\n",
       "      <td>1993.0</td>\n",
       "      <td>NaN</td>\n",
       "      <td>1.78</td>\n",
       "      <td>0.53</td>\n",
       "      <td>0.00</td>\n",
       "      <td>0.08</td>\n",
       "      <td>NaN</td>\n",
       "      <td>NaN</td>\n",
       "      <td>NaN</td>\n",
       "    </tr>\n",
       "    <tr>\n",
       "      <th>14244</th>\n",
       "      <td>NaN</td>\n",
       "      <td>GEN</td>\n",
       "      <td>1993.0</td>\n",
       "      <td>NaN</td>\n",
       "      <td>0.00</td>\n",
       "      <td>0.00</td>\n",
       "      <td>0.03</td>\n",
       "      <td>0.00</td>\n",
       "      <td>NaN</td>\n",
       "      <td>NaN</td>\n",
       "      <td>NaN</td>\n",
       "    </tr>\n",
       "  </tbody>\n",
       "</table>\n",
       "</div>"
      ],
      "text/plain": [
       "      name platform  year_of_release genre  na_sales  eu_sales  jp_sales  \\\n",
       "659    NaN      GEN           1993.0   NaN      1.78      0.53      0.00   \n",
       "14244  NaN      GEN           1993.0   NaN      0.00      0.00      0.03   \n",
       "\n",
       "       other_sales  critic_score user_score rating  \n",
       "659           0.08           NaN        NaN    NaN  \n",
       "14244         0.00           NaN        NaN    NaN  "
      ]
     },
     "execution_count": 7,
     "metadata": {},
     "output_type": "execute_result"
    }
   ],
   "source": [
    "data.query('name.isna() or genre.isna()')"
   ]
  },
  {
   "cell_type": "markdown",
   "metadata": {},
   "source": [
    "Здесь не дастья установить названия игр, поэтому удалим данные строки"
   ]
  },
  {
   "cell_type": "code",
   "execution_count": 8,
   "metadata": {},
   "outputs": [],
   "source": [
    "data.dropna(subset=['name'], inplace=True)"
   ]
  },
  {
   "cell_type": "markdown",
   "metadata": {},
   "source": [
    "### Заполнение пропусков столбца `year_of_release` (год релиза)"
   ]
  },
  {
   "cell_type": "markdown",
   "metadata": {},
   "source": [
    "Некоторые игры выходят сразу на несколько платформ. Это значит, что одной и той же игры, к примеру, может быть пропущена дата релиза на XBox 360, но для PlayStation 3 она указана. Найдем такие игры, и заполним пропуски. Могут быть исключения, когда игры выходят с большими перерывами на разные платформы, поэтому в наш алгоритм добавим такое условие, что бы разница между самым ранним и самым поздним выходом одной и той же игры на разные платформы была максимум 1 год."
   ]
  },
  {
   "cell_type": "code",
   "execution_count": 9,
   "metadata": {},
   "outputs": [
    {
     "name": "stdout",
     "output_type": "stream",
     "text": [
      "Количество заполненных пропусков: 118\n"
     ]
    }
   ],
   "source": [
    "isna_before = data['year_of_release'].isna().sum()\n",
    "\n",
    "def year_find(name):\n",
    "    # для данной игры найдем уникальные даты релиза на других платформах и сложим их в массив\n",
    "    year = data.loc[data['name'] == name, 'year_of_release'].unique()\n",
    "    # из массива с датами удалим пропуски\n",
    "    year = year[~np.isnan(year)]\n",
    "    # если в массиве всего одна дата или (дат больше одной и разница между ними не превышает 2-х лет)\n",
    "    try:\n",
    "        if year.shape[0] == 1 or (year.shape[0] > 1 and year.max() - year.min() < 2):\n",
    "            # присвоим для данной строки единственную или минимальную дату из массива\n",
    "            return year.min()\n",
    "    except:\n",
    "        pass\n",
    "\n",
    "data['year_of_release'].fillna(data['name'].apply(year_find), inplace=True)\n",
    "\n",
    "print('Количество заполненных пропусков:', isna_before - data['year_of_release'].isna().sum())"
   ]
  },
  {
   "cell_type": "markdown",
   "metadata": {},
   "source": [
    "В названиях некоторых игр уже содержится год выпуска (или ему предшествующий). Для нас не так уж важна идеальная точность, поэтому везде примем год в названии за год выхода."
   ]
  },
  {
   "cell_type": "code",
   "execution_count": 10,
   "metadata": {},
   "outputs": [
    {
     "name": "stdout",
     "output_type": "stream",
     "text": [
      "Количество заполненных пропусков: 7\n"
     ]
    }
   ],
   "source": [
    "isna_before = data['year_of_release'].isna().sum()\n",
    "\n",
    "# Функция для извлечения года из названия игры\n",
    "def year_in_name(name):\n",
    "    try:\n",
    "        # если в названии игры есть последовательность из 4 цифр\n",
    "        if re.search(r'\\d{4}', name):\n",
    "            year_find = int(re.search(r'\\d{4}', name).group(0))\n",
    "            # условие - если последовательность из четырех чисел лежит в промежутке от 1970 до 2017\n",
    "            if 1970 < year_find < 2017:\n",
    "                return year_find\n",
    "    except:\n",
    "        pass\n",
    "\n",
    "# Применим функцию к стобцу 'year_of_release'\n",
    "data['year_of_release'].fillna(data['name'].apply(year_in_name), inplace=True)\n",
    "\n",
    "print('Количество заполненных пропусков:', isna_before - data['year_of_release'].isna().sum())"
   ]
  },
  {
   "cell_type": "markdown",
   "metadata": {},
   "source": [
    "**Вывод:** в столбце `year_of_release` нам удалось избавиться от **125** пропусков, взяв даты релизов из одноименных игр для других платформ, а так же, в ряде случаев, узнав дату из самого названия.\n",
    "\n",
    "Пропуски в дате релиза могли образоваться по нескольким вероятным причинам:\n",
    "- отсутствие данного показателя у очень старых игр\n",
    "- человеческий фактор (забыли указать)\n",
    "- потеря при выгрузке данных"
   ]
  },
  {
   "cell_type": "markdown",
   "metadata": {},
   "source": [
    "### Стобец `user_score` (оценка пользователей)"
   ]
  },
  {
   "cell_type": "markdown",
   "metadata": {},
   "source": [
    "Рассмотри подробнее уникальные значения столбца"
   ]
  },
  {
   "cell_type": "code",
   "execution_count": 11,
   "metadata": {},
   "outputs": [
    {
     "name": "stdout",
     "output_type": "stream",
     "text": [
      "tbd    2424\n",
      "7.8     324\n",
      "8       290\n",
      "8.2     282\n",
      "8.3     254\n",
      "       ... \n",
      "1         2\n",
      "0.6       2\n",
      "1.5       2\n",
      "0         1\n",
      "9.7       1\n",
      "Name: user_score, Length: 96, dtype: int64\n"
     ]
    }
   ],
   "source": [
    "print(data['user_score'].value_counts())\n",
    "\n",
    "isna_before = data['user_score'].isna().sum()\n",
    "tbd_before = data.query('user_score == \"tbd\"').shape[0]"
   ]
  },
  {
   "cell_type": "markdown",
   "metadata": {},
   "source": [
    "Во многих строках присутствует текстовое значение - tbd (To Be Determined - будет определено). В нашем случае это означает, что пользовательский рейтинг еще не сформирован, поэтому приравняем подобные значения к `NaN`."
   ]
  },
  {
   "cell_type": "code",
   "execution_count": 12,
   "metadata": {},
   "outputs": [
    {
     "name": "stdout",
     "output_type": "stream",
     "text": [
      "Количество новых пропусков: 2424\n",
      "Количество удаленных значений \"tbd\": 2424\n"
     ]
    }
   ],
   "source": [
    "data['user_score'].replace('tbd', np.nan, inplace=True)\n",
    "\n",
    "print('Количество новых пропусков:', abs(isna_before - data['user_score'].isna().sum()))\n",
    "print('Количество удаленных значений \"tbd\":', abs(tbd_before - data.query('user_score == \"tbd\"').shape[0]))"
   ]
  },
  {
   "cell_type": "markdown",
   "metadata": {},
   "source": [
    "**Промежуточный вывод:** замена строкового значения tbd на пустую строку произведено успешно."
   ]
  },
  {
   "cell_type": "markdown",
   "metadata": {},
   "source": [
    "Преобразуем тип данных во `float`"
   ]
  },
  {
   "cell_type": "code",
   "execution_count": 13,
   "metadata": {},
   "outputs": [],
   "source": [
    "data['user_score'] = data['user_score'].astype(float)"
   ]
  },
  {
   "cell_type": "markdown",
   "metadata": {},
   "source": [
    "Домножим каждое значение столбца на 10, что бы рейтинг был по 100-бальной шкале, по аналогии с колонкой `critic_score`, для единообразия"
   ]
  },
  {
   "cell_type": "code",
   "execution_count": 14,
   "metadata": {},
   "outputs": [
    {
     "data": {
      "text/html": [
       "<div>\n",
       "<style scoped>\n",
       "    .dataframe tbody tr th:only-of-type {\n",
       "        vertical-align: middle;\n",
       "    }\n",
       "\n",
       "    .dataframe tbody tr th {\n",
       "        vertical-align: top;\n",
       "    }\n",
       "\n",
       "    .dataframe thead th {\n",
       "        text-align: right;\n",
       "    }\n",
       "</style>\n",
       "<table border=\"1\" class=\"dataframe\">\n",
       "  <thead>\n",
       "    <tr style=\"text-align: right;\">\n",
       "      <th></th>\n",
       "      <th>name</th>\n",
       "      <th>platform</th>\n",
       "      <th>year_of_release</th>\n",
       "      <th>genre</th>\n",
       "      <th>na_sales</th>\n",
       "      <th>eu_sales</th>\n",
       "      <th>jp_sales</th>\n",
       "      <th>other_sales</th>\n",
       "      <th>critic_score</th>\n",
       "      <th>user_score</th>\n",
       "      <th>rating</th>\n",
       "    </tr>\n",
       "  </thead>\n",
       "  <tbody>\n",
       "    <tr>\n",
       "      <th>0</th>\n",
       "      <td>Wii Sports</td>\n",
       "      <td>Wii</td>\n",
       "      <td>2006.0</td>\n",
       "      <td>Sports</td>\n",
       "      <td>41.36</td>\n",
       "      <td>28.96</td>\n",
       "      <td>3.77</td>\n",
       "      <td>8.45</td>\n",
       "      <td>76.0</td>\n",
       "      <td>80.0</td>\n",
       "      <td>E</td>\n",
       "    </tr>\n",
       "    <tr>\n",
       "      <th>1</th>\n",
       "      <td>Super Mario Bros.</td>\n",
       "      <td>NES</td>\n",
       "      <td>1985.0</td>\n",
       "      <td>Platform</td>\n",
       "      <td>29.08</td>\n",
       "      <td>3.58</td>\n",
       "      <td>6.81</td>\n",
       "      <td>0.77</td>\n",
       "      <td>NaN</td>\n",
       "      <td>NaN</td>\n",
       "      <td>NaN</td>\n",
       "    </tr>\n",
       "    <tr>\n",
       "      <th>2</th>\n",
       "      <td>Mario Kart Wii</td>\n",
       "      <td>Wii</td>\n",
       "      <td>2008.0</td>\n",
       "      <td>Racing</td>\n",
       "      <td>15.68</td>\n",
       "      <td>12.76</td>\n",
       "      <td>3.79</td>\n",
       "      <td>3.29</td>\n",
       "      <td>82.0</td>\n",
       "      <td>83.0</td>\n",
       "      <td>E</td>\n",
       "    </tr>\n",
       "    <tr>\n",
       "      <th>3</th>\n",
       "      <td>Wii Sports Resort</td>\n",
       "      <td>Wii</td>\n",
       "      <td>2009.0</td>\n",
       "      <td>Sports</td>\n",
       "      <td>15.61</td>\n",
       "      <td>10.93</td>\n",
       "      <td>3.28</td>\n",
       "      <td>2.95</td>\n",
       "      <td>80.0</td>\n",
       "      <td>80.0</td>\n",
       "      <td>E</td>\n",
       "    </tr>\n",
       "    <tr>\n",
       "      <th>4</th>\n",
       "      <td>Pokemon Red/Pokemon Blue</td>\n",
       "      <td>GB</td>\n",
       "      <td>1996.0</td>\n",
       "      <td>Role-Playing</td>\n",
       "      <td>11.27</td>\n",
       "      <td>8.89</td>\n",
       "      <td>10.22</td>\n",
       "      <td>1.00</td>\n",
       "      <td>NaN</td>\n",
       "      <td>NaN</td>\n",
       "      <td>NaN</td>\n",
       "    </tr>\n",
       "  </tbody>\n",
       "</table>\n",
       "</div>"
      ],
      "text/plain": [
       "                       name platform  year_of_release         genre  na_sales  \\\n",
       "0                Wii Sports      Wii           2006.0        Sports     41.36   \n",
       "1         Super Mario Bros.      NES           1985.0      Platform     29.08   \n",
       "2            Mario Kart Wii      Wii           2008.0        Racing     15.68   \n",
       "3         Wii Sports Resort      Wii           2009.0        Sports     15.61   \n",
       "4  Pokemon Red/Pokemon Blue       GB           1996.0  Role-Playing     11.27   \n",
       "\n",
       "   eu_sales  jp_sales  other_sales  critic_score  user_score rating  \n",
       "0     28.96      3.77         8.45          76.0        80.0      E  \n",
       "1      3.58      6.81         0.77           NaN         NaN    NaN  \n",
       "2     12.76      3.79         3.29          82.0        83.0      E  \n",
       "3     10.93      3.28         2.95          80.0        80.0      E  \n",
       "4      8.89     10.22         1.00           NaN         NaN    NaN  "
      ]
     },
     "metadata": {},
     "output_type": "display_data"
    },
    {
     "name": "stdout",
     "output_type": "stream",
     "text": [
      "<class 'pandas.core.frame.DataFrame'>\n",
      "Int64Index: 16713 entries, 0 to 16714\n",
      "Data columns (total 11 columns):\n",
      " #   Column           Non-Null Count  Dtype  \n",
      "---  ------           --------------  -----  \n",
      " 0   name             16713 non-null  object \n",
      " 1   platform         16713 non-null  object \n",
      " 2   year_of_release  16569 non-null  float64\n",
      " 3   genre            16713 non-null  object \n",
      " 4   na_sales         16713 non-null  float64\n",
      " 5   eu_sales         16713 non-null  float64\n",
      " 6   jp_sales         16713 non-null  float64\n",
      " 7   other_sales      16713 non-null  float64\n",
      " 8   critic_score     8137 non-null   float64\n",
      " 9   user_score       7590 non-null   float64\n",
      " 10  rating           9949 non-null   object \n",
      "dtypes: float64(7), object(4)\n",
      "memory usage: 1.5+ MB\n"
     ]
    }
   ],
   "source": [
    "data['user_score'] *= 10\n",
    "\n",
    "# Удостоверимся в успешности изменений\n",
    "display(data.head())\n",
    "data.info()"
   ]
  },
  {
   "cell_type": "markdown",
   "metadata": {},
   "source": [
    "**Вывод:** мы избавились от \"заглушек\" в виде значения 'tbd', преобразовали тип столбца в числовой и привели рейтинг к сто-бальной шкале.<br>\n",
    "Какого либо адекватного способа заполнить пропуски в этих данных у нас нет. Среднее и медиана не подойдут, так как на рейтинг игры влияет слишком много параметров, которых у нас нет возможности учесть (специфика и успешность рекламной компании, манипуляция общественным мнением), а так же то, что этот показатель очень субъективен (разработчик или игровая серия могут быть переоценены за прошлые удачные релизы, либо же наоборот).<br>\n",
    "Взять рейтинг для одноименных игр с других платформ (как мы это делали с годом выпуска) так же плохая идея. Так как одна и та же игра может существенно отличаться в своей реализации на разных платформах. Их даже могут производить разные студии.\n",
    "\n",
    "Пропуски в этих данных могли образоваться по следующим причинам:\n",
    "- отсутствие достаточного количества голосов для формирования оценки (для старых, редких и недавно вышедших игр)\n",
    "- человеческий фактор\n",
    "- сбой при выгрузке данных"
   ]
  },
  {
   "cell_type": "markdown",
   "metadata": {},
   "source": [
    "### Стобец `critic_score` (оценка критиков)"
   ]
  },
  {
   "cell_type": "markdown",
   "metadata": {},
   "source": [
    "**Вывод:** как и столбец с пользовательским рейтингом, пропуски в оценке критиков мы так же не сможем адекватно восстановить, по схожим причинам.<br>\n",
    "Возможные причины пропусков так же совпадают с теми, что перечислены в предыдущем пункте."
   ]
  },
  {
   "cell_type": "markdown",
   "metadata": {},
   "source": [
    "### Столбец `rating` (возрастной рейтинг ESRB)"
   ]
  },
  {
   "cell_type": "markdown",
   "metadata": {},
   "source": [
    "Информация по данному рейтингу из wiki:\n",
    "- `EC` («Early childhood») — Для детей младшего возраста\n",
    "- `E` («Everyone») — Для всех. Первоначально \"K-A\" (\"Kids to Adults\"):\n",
    "- `E10+` («Everyone 10 and older») — Для всех от 10 лет и старше\n",
    "- `T` («Teen») — Подросткам (для лиц от 13 лет)\n",
    "- `M` («Mature») — Для взрослых (для лиц от 17 лет)\n",
    "- `AO` («Adults Only 18+») — Только для взрослых (для лиц от 18 лет)\n",
    "- `RP` («Rating Pending») — Рейтинг ожидается: продукт был отправлен в ESRB и ожидает присвоения рейтинга\n",
    "\n",
    "Рассмотрим уникальные значения столбца"
   ]
  },
  {
   "cell_type": "code",
   "execution_count": 15,
   "metadata": {},
   "outputs": [
    {
     "data": {
      "text/plain": [
       "array(['E', nan, 'M', 'T', 'E10+', 'K-A', 'AO', 'EC', 'RP'], dtype=object)"
      ]
     },
     "execution_count": 15,
     "metadata": {},
     "output_type": "execute_result"
    }
   ],
   "source": [
    "data['rating'].unique()"
   ]
  },
  {
   "cell_type": "markdown",
   "metadata": {},
   "source": [
    "`K-A` переименуем `E`, потому, что это старое и новое название одного и того же рейтинга.<br>\n",
    "`RP` фактически означает отсутствие рейтинга у игры, поэтому заменим данное значение на `NaN`"
   ]
  },
  {
   "cell_type": "code",
   "execution_count": 16,
   "metadata": {},
   "outputs": [
    {
     "data": {
      "text/plain": [
       "array(['E', nan, 'M', 'T', 'E10+', 'AO', 'EC'], dtype=object)"
      ]
     },
     "execution_count": 16,
     "metadata": {},
     "output_type": "execute_result"
    }
   ],
   "source": [
    "data['rating'].replace('K-A', 'E', inplace=True)\n",
    "data['rating'].replace('RP', np.nan, inplace=True)\n",
    "\n",
    "# Проверим результат\n",
    "data['rating'].unique()"
   ]
  },
  {
   "cell_type": "markdown",
   "metadata": {},
   "source": [
    "**Промежуточный вывод:** замена значений произведена успешно"
   ]
  },
  {
   "cell_type": "markdown",
   "metadata": {},
   "source": [
    "Заполним часть пропусков по аналогии с годом выпуска. Применим следующую логику: если на одноименной игре на других платформах рейтинг указан минимум у двух релизов, и совпадает между собой, то в таком случае воспользуемся данным значением для заполнения пропуска."
   ]
  },
  {
   "cell_type": "code",
   "execution_count": 17,
   "metadata": {},
   "outputs": [
    {
     "name": "stdout",
     "output_type": "stream",
     "text": [
      "Количество заполненных пропусков: 180\n"
     ]
    }
   ],
   "source": [
    "isna_before = data['rating'].isna().sum()\n",
    "\n",
    "def year_find(name):\n",
    "    # для данной игры найдем уникальные значения возрастного рейтинга на других платформах и сложим их в массив\n",
    "    # удалим пропуски NaN\n",
    "    rate = data.loc[data['name'] == name, 'rating'].dropna().reset_index(drop=True)\n",
    "    rate_count = rate.shape[0]\n",
    "    rate_unique = rate.unique().shape[0]\n",
    "    try:\n",
    "        # если возрастной рейтинг у одноименных игр на других платформах указан 2 и более раза\n",
    "        # а так же совпадает между собой\n",
    "        if rate_count > 1 and rate_unique == 1:\n",
    "            return rate[0]\n",
    "    except:\n",
    "        pass\n",
    "\n",
    "data['rating'].fillna(data['name'].apply(year_find), inplace=True)\n",
    "\n",
    "print('Количество заполненных пропусков:', isna_before - data['rating'].isna().sum())"
   ]
  },
  {
   "cell_type": "markdown",
   "metadata": {},
   "source": [
    "**Вывод:** в данном столбце мы избавились от неявных дубликатов, а так же заполнили 180 строк с пропусками. Пропуски могли возникнуть по причине того, что не все игры проходят сертификацию ESRB, а новые проекты ее еще не успели получить. Так же пропуски будут у тех проектов, что вышли до 1994 года - года основания организации. К тому же, в некоторых случаях, возможен сбой при выгрузке данных или же человеческий фактор."
   ]
  },
  {
   "cell_type": "markdown",
   "metadata": {},
   "source": [
    "### Добавление столбца `total_sales` с сумарными продажами во всех регионах"
   ]
  },
  {
   "cell_type": "code",
   "execution_count": 18,
   "metadata": {},
   "outputs": [
    {
     "data": {
      "text/html": [
       "<div>\n",
       "<style scoped>\n",
       "    .dataframe tbody tr th:only-of-type {\n",
       "        vertical-align: middle;\n",
       "    }\n",
       "\n",
       "    .dataframe tbody tr th {\n",
       "        vertical-align: top;\n",
       "    }\n",
       "\n",
       "    .dataframe thead th {\n",
       "        text-align: right;\n",
       "    }\n",
       "</style>\n",
       "<table border=\"1\" class=\"dataframe\">\n",
       "  <thead>\n",
       "    <tr style=\"text-align: right;\">\n",
       "      <th></th>\n",
       "      <th>name</th>\n",
       "      <th>platform</th>\n",
       "      <th>year_of_release</th>\n",
       "      <th>genre</th>\n",
       "      <th>na_sales</th>\n",
       "      <th>eu_sales</th>\n",
       "      <th>jp_sales</th>\n",
       "      <th>other_sales</th>\n",
       "      <th>critic_score</th>\n",
       "      <th>user_score</th>\n",
       "      <th>rating</th>\n",
       "      <th>total_sales</th>\n",
       "    </tr>\n",
       "  </thead>\n",
       "  <tbody>\n",
       "    <tr>\n",
       "      <th>0</th>\n",
       "      <td>Wii Sports</td>\n",
       "      <td>Wii</td>\n",
       "      <td>2006.0</td>\n",
       "      <td>Sports</td>\n",
       "      <td>41.36</td>\n",
       "      <td>28.96</td>\n",
       "      <td>3.77</td>\n",
       "      <td>8.45</td>\n",
       "      <td>76.0</td>\n",
       "      <td>80.0</td>\n",
       "      <td>E</td>\n",
       "      <td>82.54</td>\n",
       "    </tr>\n",
       "    <tr>\n",
       "      <th>1</th>\n",
       "      <td>Super Mario Bros.</td>\n",
       "      <td>NES</td>\n",
       "      <td>1985.0</td>\n",
       "      <td>Platform</td>\n",
       "      <td>29.08</td>\n",
       "      <td>3.58</td>\n",
       "      <td>6.81</td>\n",
       "      <td>0.77</td>\n",
       "      <td>NaN</td>\n",
       "      <td>NaN</td>\n",
       "      <td>None</td>\n",
       "      <td>40.24</td>\n",
       "    </tr>\n",
       "    <tr>\n",
       "      <th>2</th>\n",
       "      <td>Mario Kart Wii</td>\n",
       "      <td>Wii</td>\n",
       "      <td>2008.0</td>\n",
       "      <td>Racing</td>\n",
       "      <td>15.68</td>\n",
       "      <td>12.76</td>\n",
       "      <td>3.79</td>\n",
       "      <td>3.29</td>\n",
       "      <td>82.0</td>\n",
       "      <td>83.0</td>\n",
       "      <td>E</td>\n",
       "      <td>35.52</td>\n",
       "    </tr>\n",
       "    <tr>\n",
       "      <th>3</th>\n",
       "      <td>Wii Sports Resort</td>\n",
       "      <td>Wii</td>\n",
       "      <td>2009.0</td>\n",
       "      <td>Sports</td>\n",
       "      <td>15.61</td>\n",
       "      <td>10.93</td>\n",
       "      <td>3.28</td>\n",
       "      <td>2.95</td>\n",
       "      <td>80.0</td>\n",
       "      <td>80.0</td>\n",
       "      <td>E</td>\n",
       "      <td>32.77</td>\n",
       "    </tr>\n",
       "    <tr>\n",
       "      <th>4</th>\n",
       "      <td>Pokemon Red/Pokemon Blue</td>\n",
       "      <td>GB</td>\n",
       "      <td>1996.0</td>\n",
       "      <td>Role-Playing</td>\n",
       "      <td>11.27</td>\n",
       "      <td>8.89</td>\n",
       "      <td>10.22</td>\n",
       "      <td>1.00</td>\n",
       "      <td>NaN</td>\n",
       "      <td>NaN</td>\n",
       "      <td>None</td>\n",
       "      <td>31.38</td>\n",
       "    </tr>\n",
       "  </tbody>\n",
       "</table>\n",
       "</div>"
      ],
      "text/plain": [
       "                       name platform  year_of_release         genre  na_sales  \\\n",
       "0                Wii Sports      Wii           2006.0        Sports     41.36   \n",
       "1         Super Mario Bros.      NES           1985.0      Platform     29.08   \n",
       "2            Mario Kart Wii      Wii           2008.0        Racing     15.68   \n",
       "3         Wii Sports Resort      Wii           2009.0        Sports     15.61   \n",
       "4  Pokemon Red/Pokemon Blue       GB           1996.0  Role-Playing     11.27   \n",
       "\n",
       "   eu_sales  jp_sales  other_sales  critic_score  user_score rating  \\\n",
       "0     28.96      3.77         8.45          76.0        80.0      E   \n",
       "1      3.58      6.81         0.77           NaN         NaN   None   \n",
       "2     12.76      3.79         3.29          82.0        83.0      E   \n",
       "3     10.93      3.28         2.95          80.0        80.0      E   \n",
       "4      8.89     10.22         1.00           NaN         NaN   None   \n",
       "\n",
       "   total_sales  \n",
       "0        82.54  \n",
       "1        40.24  \n",
       "2        35.52  \n",
       "3        32.77  \n",
       "4        31.38  "
      ]
     },
     "execution_count": 18,
     "metadata": {},
     "output_type": "execute_result"
    }
   ],
   "source": [
    "data['total_sales'] = data['na_sales'] + data['eu_sales'] + data['jp_sales'] + data['other_sales']\n",
    "# Проверим результат\n",
    "data.head()"
   ]
  },
  {
   "cell_type": "markdown",
   "metadata": {},
   "source": [
    "**Вывод:** столбец `total_sales` с суммарными продажами (в миллионах проданных копий) успешно добавлен."
   ]
  },
  {
   "cell_type": "markdown",
   "metadata": {},
   "source": [
    "### Проверка наличия явных дубликатов"
   ]
  },
  {
   "cell_type": "code",
   "execution_count": 19,
   "metadata": {},
   "outputs": [
    {
     "data": {
      "text/plain": [
       "0"
      ]
     },
     "execution_count": 19,
     "metadata": {},
     "output_type": "execute_result"
    }
   ],
   "source": [
    "data.duplicated().sum()"
   ]
  },
  {
   "cell_type": "markdown",
   "metadata": {},
   "source": [
    "**Вывод:** явных дубликатов в данных не обнаружено."
   ]
  },
  {
   "cell_type": "markdown",
   "metadata": {},
   "source": [
    "Информация о данных после предварительной обработки:"
   ]
  },
  {
   "cell_type": "code",
   "execution_count": 20,
   "metadata": {},
   "outputs": [
    {
     "name": "stdout",
     "output_type": "stream",
     "text": [
      "<class 'pandas.core.frame.DataFrame'>\n",
      "Int64Index: 16713 entries, 0 to 16714\n",
      "Data columns (total 12 columns):\n",
      " #   Column           Non-Null Count  Dtype  \n",
      "---  ------           --------------  -----  \n",
      " 0   name             16713 non-null  object \n",
      " 1   platform         16713 non-null  object \n",
      " 2   year_of_release  16569 non-null  float64\n",
      " 3   genre            16713 non-null  object \n",
      " 4   na_sales         16713 non-null  float64\n",
      " 5   eu_sales         16713 non-null  float64\n",
      " 6   jp_sales         16713 non-null  float64\n",
      " 7   other_sales      16713 non-null  float64\n",
      " 8   critic_score     8137 non-null   float64\n",
      " 9   user_score       7590 non-null   float64\n",
      " 10  rating           10126 non-null  object \n",
      " 11  total_sales      16713 non-null  float64\n",
      "dtypes: float64(8), object(4)\n",
      "memory usage: 1.7+ MB\n"
     ]
    }
   ],
   "source": [
    "data.info()"
   ]
  },
  {
   "cell_type": "code",
   "execution_count": 21,
   "metadata": {},
   "outputs": [
    {
     "name": "stdout",
     "output_type": "stream",
     "text": [
      "Всего строк: 16713\n"
     ]
    },
    {
     "data": {
      "text/html": [
       "<style  type=\"text/css\" >\n",
       "#T_357d3_row0_col0,#T_357d3_row0_col1,#T_357d3_row1_col0,#T_357d3_row1_col1,#T_357d3_row3_col0,#T_357d3_row3_col1,#T_357d3_row4_col0,#T_357d3_row4_col1,#T_357d3_row5_col0,#T_357d3_row5_col1,#T_357d3_row6_col0,#T_357d3_row6_col1,#T_357d3_row7_col0,#T_357d3_row7_col1,#T_357d3_row11_col0,#T_357d3_row11_col1{\n",
       "            background-color:  #3b4cc0;\n",
       "            color:  #f1f1f1;\n",
       "        }#T_357d3_row2_col0,#T_357d3_row2_col1{\n",
       "            background-color:  #3f53c6;\n",
       "            color:  #f1f1f1;\n",
       "        }#T_357d3_row8_col0,#T_357d3_row8_col1{\n",
       "            background-color:  #ca3b37;\n",
       "            color:  #f1f1f1;\n",
       "        }#T_357d3_row9_col0,#T_357d3_row9_col1{\n",
       "            background-color:  #b40426;\n",
       "            color:  #f1f1f1;\n",
       "        }#T_357d3_row10_col0,#T_357d3_row10_col1{\n",
       "            background-color:  #f6a586;\n",
       "            color:  #000000;\n",
       "        }</style><table id=\"T_357d3_\" ><thead>    <tr>        <th class=\"blank level0\" ></th>        <th class=\"col_heading level0 col0\" >percent</th>        <th class=\"col_heading level0 col1\" >sum</th>    </tr></thead><tbody>\n",
       "                <tr>\n",
       "                        <th id=\"T_357d3_level0_row0\" class=\"row_heading level0 row0\" >name</th>\n",
       "                        <td id=\"T_357d3_row0_col0\" class=\"data row0 col0\" >0.000000</td>\n",
       "                        <td id=\"T_357d3_row0_col1\" class=\"data row0 col1\" >0</td>\n",
       "            </tr>\n",
       "            <tr>\n",
       "                        <th id=\"T_357d3_level0_row1\" class=\"row_heading level0 row1\" >platform</th>\n",
       "                        <td id=\"T_357d3_row1_col0\" class=\"data row1 col0\" >0.000000</td>\n",
       "                        <td id=\"T_357d3_row1_col1\" class=\"data row1 col1\" >0</td>\n",
       "            </tr>\n",
       "            <tr>\n",
       "                        <th id=\"T_357d3_level0_row2\" class=\"row_heading level0 row2\" >year_of_release</th>\n",
       "                        <td id=\"T_357d3_row2_col0\" class=\"data row2 col0\" >0.860000</td>\n",
       "                        <td id=\"T_357d3_row2_col1\" class=\"data row2 col1\" >144</td>\n",
       "            </tr>\n",
       "            <tr>\n",
       "                        <th id=\"T_357d3_level0_row3\" class=\"row_heading level0 row3\" >genre</th>\n",
       "                        <td id=\"T_357d3_row3_col0\" class=\"data row3 col0\" >0.000000</td>\n",
       "                        <td id=\"T_357d3_row3_col1\" class=\"data row3 col1\" >0</td>\n",
       "            </tr>\n",
       "            <tr>\n",
       "                        <th id=\"T_357d3_level0_row4\" class=\"row_heading level0 row4\" >na_sales</th>\n",
       "                        <td id=\"T_357d3_row4_col0\" class=\"data row4 col0\" >0.000000</td>\n",
       "                        <td id=\"T_357d3_row4_col1\" class=\"data row4 col1\" >0</td>\n",
       "            </tr>\n",
       "            <tr>\n",
       "                        <th id=\"T_357d3_level0_row5\" class=\"row_heading level0 row5\" >eu_sales</th>\n",
       "                        <td id=\"T_357d3_row5_col0\" class=\"data row5 col0\" >0.000000</td>\n",
       "                        <td id=\"T_357d3_row5_col1\" class=\"data row5 col1\" >0</td>\n",
       "            </tr>\n",
       "            <tr>\n",
       "                        <th id=\"T_357d3_level0_row6\" class=\"row_heading level0 row6\" >jp_sales</th>\n",
       "                        <td id=\"T_357d3_row6_col0\" class=\"data row6 col0\" >0.000000</td>\n",
       "                        <td id=\"T_357d3_row6_col1\" class=\"data row6 col1\" >0</td>\n",
       "            </tr>\n",
       "            <tr>\n",
       "                        <th id=\"T_357d3_level0_row7\" class=\"row_heading level0 row7\" >other_sales</th>\n",
       "                        <td id=\"T_357d3_row7_col0\" class=\"data row7 col0\" >0.000000</td>\n",
       "                        <td id=\"T_357d3_row7_col1\" class=\"data row7 col1\" >0</td>\n",
       "            </tr>\n",
       "            <tr>\n",
       "                        <th id=\"T_357d3_level0_row8\" class=\"row_heading level0 row8\" >critic_score</th>\n",
       "                        <td id=\"T_357d3_row8_col0\" class=\"data row8 col0\" >51.310000</td>\n",
       "                        <td id=\"T_357d3_row8_col1\" class=\"data row8 col1\" >8576</td>\n",
       "            </tr>\n",
       "            <tr>\n",
       "                        <th id=\"T_357d3_level0_row9\" class=\"row_heading level0 row9\" >user_score</th>\n",
       "                        <td id=\"T_357d3_row9_col0\" class=\"data row9 col0\" >54.590000</td>\n",
       "                        <td id=\"T_357d3_row9_col1\" class=\"data row9 col1\" >9123</td>\n",
       "            </tr>\n",
       "            <tr>\n",
       "                        <th id=\"T_357d3_level0_row10\" class=\"row_heading level0 row10\" >rating</th>\n",
       "                        <td id=\"T_357d3_row10_col0\" class=\"data row10 col0\" >39.410000</td>\n",
       "                        <td id=\"T_357d3_row10_col1\" class=\"data row10 col1\" >6587</td>\n",
       "            </tr>\n",
       "            <tr>\n",
       "                        <th id=\"T_357d3_level0_row11\" class=\"row_heading level0 row11\" >total_sales</th>\n",
       "                        <td id=\"T_357d3_row11_col0\" class=\"data row11 col0\" >0.000000</td>\n",
       "                        <td id=\"T_357d3_row11_col1\" class=\"data row11 col1\" >0</td>\n",
       "            </tr>\n",
       "    </tbody></table>"
      ],
      "text/plain": [
       "<pandas.io.formats.style.Styler at 0x7f48c41c8040>"
      ]
     },
     "execution_count": 21,
     "metadata": {},
     "output_type": "execute_result"
    }
   ],
   "source": [
    "# Вывод общего количества строк\n",
    "print('Всего строк:', data.shape[0])\n",
    "# Таблица с пропусками в данных\n",
    "pd.DataFrame({'percent': (data.isna().mean()*100).round(2), 'sum': data.isna().sum()}).style.background_gradient('coolwarm')"
   ]
  },
  {
   "cell_type": "markdown",
   "metadata": {},
   "source": [
    "**Общий вывод по разделу:** мы провели предварительную обработку данных. Удалили неявные дубликаты, установили корректный тип данных там, где это требовалось, а так же заполнили пропуски, где была такая возможность. Добавили столбец с суммарными продажами по всем регионам."
   ]
  },
  {
   "cell_type": "markdown",
   "metadata": {},
   "source": [
    "## Исследовательский анализ данных"
   ]
  },
  {
   "cell_type": "markdown",
   "metadata": {},
   "source": [
    "### Количество выпускаемых игр в разные годы"
   ]
  },
  {
   "cell_type": "code",
   "execution_count": 22,
   "metadata": {},
   "outputs": [
    {
     "data": {
      "image/png": "[encoded data removed]",
      "text/plain": [
       "<Figure size 792x345.6 with 1 Axes>"
      ]
     },
     "metadata": {},
     "output_type": "display_data"
    }
   ],
   "source": [
    "year_group = data.groupby('year_of_release')['year_of_release'].count()\n",
    "# Уберем у названий годов дробную часть, изменив тип данных на int\n",
    "year_group.index = year_group.index.astype(int)\n",
    "year_group.plot(kind='bar', alpha=0.75, figsize=(11, 4.8))\n",
    "plt.title('Количество релизов в зависимости от года')\n",
    "plt.grid(axis='x')\n",
    "plt.xlabel('')\n",
    "plt.ylabel('количество релизов')\n",
    "plt.show()"
   ]
  },
  {
   "cell_type": "markdown",
   "metadata": {},
   "source": [
    "**Вывод:** видим, что с 1994 года начался бурный рост рынка видеоигр, тогда суммарное количество релизов удвоилось, по сравнению с 1993 годом. В 1995 году количество релизов так же почти удвоилось по сравнению с предыдущим годом, в этот период на рынок вышла PlayStation первого поколения. В 2002 году, относительно 2001 так же случилось практически двукратное увеличение количество новых игр, в этот момент появился Xbox первого поколения и активно набирала популярность PS2.<br>\n",
    "Отметку в 1000 новых релизов за год рынок преодолел в 2006 году, достигнув пика по данному показателю в 2008-2009 годах. Затем данный показатель начал сокращаться. Скорее всего это связано с увеличением качества и масштабности проектов, что растягивает производственный цикл; бурным развитием мобильных устройств и соцсетей, что забрало на себя часть аудитории геймеров."
   ]
  },
  {
   "cell_type": "markdown",
   "metadata": {},
   "source": [
    "### Распределение по платформам и годам"
   ]
  },
  {
   "cell_type": "markdown",
   "metadata": {},
   "source": [
    "Для начала взглянем на какие платформы вышло больше всего игр."
   ]
  },
  {
   "cell_type": "code",
   "execution_count": 23,
   "metadata": {},
   "outputs": [
    {
     "data": {
      "image/png": "[encoded data removed]",
      "text/plain": [
       "<Figure size 504x648 with 1 Axes>"
      ]
     },
     "metadata": {},
     "output_type": "display_data"
    }
   ],
   "source": [
    "(\n",
    "    data\n",
    "    .groupby('platform')['platform']\n",
    "    .count().sort_values()\n",
    "    .plot(kind='barh', alpha=0.75, figsize=(7, 9))\n",
    ")\n",
    "plt.title('Количество релизов в зависимости от платформы')\n",
    "plt.grid(axis='y')\n",
    "plt.xlabel('')\n",
    "plt.ylabel('количество релизов')\n",
    "plt.show()"
   ]
  },
  {
   "cell_type": "code",
   "execution_count": 24,
   "metadata": {},
   "outputs": [
    {
     "name": "stdout",
     "output_type": "stream",
     "text": [
      "Топ-10 наиболее популярных платформ по количеству релизов:\n"
     ]
    },
    {
     "data": {
      "text/plain": [
       "platform\n",
       "PS2     2161\n",
       "DS      2151\n",
       "PS3     1331\n",
       "Wii     1320\n",
       "X360    1262\n",
       "PSP     1209\n",
       "PS      1197\n",
       "PC       974\n",
       "XB       824\n",
       "GBA      822\n",
       "Name: platform, dtype: int64"
      ]
     },
     "execution_count": 24,
     "metadata": {},
     "output_type": "execute_result"
    }
   ],
   "source": [
    "print('Топ-10 наиболее популярных платформ по количеству релизов:')\n",
    "data.groupby('platform')['platform'].count().sort_values(ascending=False).head(10)"
   ]
  },
  {
   "cell_type": "markdown",
   "metadata": {},
   "source": [
    "**Вывод:** с большим отрывом от конкурентов по количеству выпущенных игр лидируют две платформы: **PlayStation 2** и **Nintendo DS** (более чем 2100 релизов на каждую). Тройку лидеров замыкает **PlayStation 3** (около 1300 игр). **ПК**, как платформа для игр, занимает только 8 строчку (менее 1000 релизов)."
   ]
  },
  {
   "cell_type": "markdown",
   "metadata": {},
   "source": [
    "Взглянем на сводную информацию о том, в какие года какие платформы были актуальны."
   ]
  },
  {
   "cell_type": "code",
   "execution_count": 25,
   "metadata": {},
   "outputs": [
    {
     "data": {
      "image/png": "[encoded data removed]",
      "text/plain": [
       "<Figure size 576x576 with 1 Axes>"
      ]
     },
     "metadata": {},
     "output_type": "display_data"
    }
   ],
   "source": [
    "sales_sum = (\n",
    "    data\n",
    "    .pivot_table(index=['year_of_release', 'platform'], aggfunc={'total_sales': 'sum'})\n",
    "    .reset_index()\n",
    "    .sort_values(by='year_of_release', ascending=False)\n",
    ")\n",
    "\n",
    "# Оставим только те платформы где за год суммарные продажи игр превышают 100 тыс. копий\n",
    "sales_sum_100k = sales_sum.query('total_sales > 0.1')\n",
    "\n",
    "plt.figure(figsize=(8,8))\n",
    "plt.scatter(sales_sum_100k['year_of_release'], sales_sum_100k['platform'], marker=\"s\", linewidths=4)\n",
    "plt.title('Отмечены года, когда суммарное количество проданных игровых копий\\nдля каждой отдельной платформы за данный год превышало 100 тыс.')\n",
    "plt.xlabel('Год')\n",
    "plt.ylabel('Платформа')\n",
    "plt.show()"
   ]
  },
  {
   "cell_type": "code",
   "execution_count": 26,
   "metadata": {},
   "outputs": [
    {
     "data": {
      "text/plain": [
       "['XOne', 'X360', 'WiiU', 'Wii', 'PSV', 'PS4', 'PS3', 'PC', '3DS']"
      ]
     },
     "execution_count": 26,
     "metadata": {},
     "output_type": "execute_result"
    }
   ],
   "source": [
    "# формируем список актуальных игровых платформ\n",
    "actual_platforms = sales_sum.query('year_of_release == 2016')['platform'].tolist()\n",
    "actual_platforms"
   ]
  },
  {
   "cell_type": "code",
   "execution_count": 27,
   "metadata": {},
   "outputs": [
    {
     "data": {
      "text/html": [
       "<div>\n",
       "<style scoped>\n",
       "    .dataframe tbody tr th:only-of-type {\n",
       "        vertical-align: middle;\n",
       "    }\n",
       "\n",
       "    .dataframe tbody tr th {\n",
       "        vertical-align: top;\n",
       "    }\n",
       "\n",
       "    .dataframe thead th {\n",
       "        text-align: right;\n",
       "    }\n",
       "</style>\n",
       "<table border=\"1\" class=\"dataframe\">\n",
       "  <thead>\n",
       "    <tr style=\"text-align: right;\">\n",
       "      <th></th>\n",
       "      <th>year_of_release</th>\n",
       "    </tr>\n",
       "  </thead>\n",
       "  <tbody>\n",
       "    <tr>\n",
       "      <th>count</th>\n",
       "      <td>22.000000</td>\n",
       "    </tr>\n",
       "    <tr>\n",
       "      <th>mean</th>\n",
       "      <td>7.000000</td>\n",
       "    </tr>\n",
       "    <tr>\n",
       "      <th>std</th>\n",
       "      <td>4.070802</td>\n",
       "    </tr>\n",
       "    <tr>\n",
       "      <th>min</th>\n",
       "      <td>1.000000</td>\n",
       "    </tr>\n",
       "    <tr>\n",
       "      <th>25%</th>\n",
       "      <td>3.250000</td>\n",
       "    </tr>\n",
       "    <tr>\n",
       "      <th>50%</th>\n",
       "      <td>7.500000</td>\n",
       "    </tr>\n",
       "    <tr>\n",
       "      <th>75%</th>\n",
       "      <td>10.000000</td>\n",
       "    </tr>\n",
       "    <tr>\n",
       "      <th>max</th>\n",
       "      <td>13.000000</td>\n",
       "    </tr>\n",
       "  </tbody>\n",
       "</table>\n",
       "</div>"
      ],
      "text/plain": [
       "       year_of_release\n",
       "count        22.000000\n",
       "mean          7.000000\n",
       "std           4.070802\n",
       "min           1.000000\n",
       "25%           3.250000\n",
       "50%           7.500000\n",
       "75%          10.000000\n",
       "max          13.000000"
      ]
     },
     "execution_count": 27,
     "metadata": {},
     "output_type": "execute_result"
    }
   ],
   "source": [
    "# Оцениваем срок жизни ныне не актуальных платформ\n",
    "(\n",
    "    sales_sum\n",
    "    .query('platform not in @actual_platforms')\n",
    "    .pivot_table(index='platform', aggfunc={'year_of_release': 'count'})\n",
    "    .describe()\n",
    ")"
   ]
  },
  {
   "cell_type": "markdown",
   "metadata": {},
   "source": [
    "**Вывод:** как мы видим на графике, многие платформы устарели и потеряли актуальность.<br>\n",
    "На 2016 год разработчиками поддерживаются **9** платформ: **XOne, X360, WiiU, Wii, PSV, PS4, PS3, PC, 3DS**.<br>\n",
    "Самой долгоживущей и ныне актуальной платформой для игр являются персональные компьютеры.<br>\n",
    "Средний период жизни **ныне не актуальных** платформ составляет около **7 лет**."
   ]
  },
  {
   "cell_type": "markdown",
   "metadata": {},
   "source": [
    "Рассмотрим, какие из актуальных платформ самые популярные по продажам игр на них"
   ]
  },
  {
   "cell_type": "code",
   "execution_count": 28,
   "metadata": {},
   "outputs": [
    {
     "data": {
      "image/png": "[encoded data removed]",
      "text/plain": [
       "<Figure size 432x288 with 1 Axes>"
      ]
     },
     "metadata": {},
     "output_type": "display_data"
    },
    {
     "data": {
      "text/html": [
       "<div>\n",
       "<style scoped>\n",
       "    .dataframe tbody tr th:only-of-type {\n",
       "        vertical-align: middle;\n",
       "    }\n",
       "\n",
       "    .dataframe tbody tr th {\n",
       "        vertical-align: top;\n",
       "    }\n",
       "\n",
       "    .dataframe thead th {\n",
       "        text-align: right;\n",
       "    }\n",
       "</style>\n",
       "<table border=\"1\" class=\"dataframe\">\n",
       "  <thead>\n",
       "    <tr style=\"text-align: right;\">\n",
       "      <th></th>\n",
       "      <th>total_sales</th>\n",
       "    </tr>\n",
       "    <tr>\n",
       "      <th>platform</th>\n",
       "      <th></th>\n",
       "    </tr>\n",
       "  </thead>\n",
       "  <tbody>\n",
       "    <tr>\n",
       "      <th>X360</th>\n",
       "      <td>966.67</td>\n",
       "    </tr>\n",
       "    <tr>\n",
       "      <th>PS3</th>\n",
       "      <td>934.71</td>\n",
       "    </tr>\n",
       "    <tr>\n",
       "      <th>Wii</th>\n",
       "      <td>903.31</td>\n",
       "    </tr>\n",
       "    <tr>\n",
       "      <th>PS4</th>\n",
       "      <td>314.14</td>\n",
       "    </tr>\n",
       "    <tr>\n",
       "      <th>PC</th>\n",
       "      <td>258.86</td>\n",
       "    </tr>\n",
       "    <tr>\n",
       "      <th>3DS</th>\n",
       "      <td>258.51</td>\n",
       "    </tr>\n",
       "    <tr>\n",
       "      <th>XOne</th>\n",
       "      <td>159.32</td>\n",
       "    </tr>\n",
       "    <tr>\n",
       "      <th>WiiU</th>\n",
       "      <td>82.19</td>\n",
       "    </tr>\n",
       "    <tr>\n",
       "      <th>PSV</th>\n",
       "      <td>53.81</td>\n",
       "    </tr>\n",
       "  </tbody>\n",
       "</table>\n",
       "</div>"
      ],
      "text/plain": [
       "          total_sales\n",
       "platform             \n",
       "X360           966.67\n",
       "PS3            934.71\n",
       "Wii            903.31\n",
       "PS4            314.14\n",
       "PC             258.86\n",
       "3DS            258.51\n",
       "XOne           159.32\n",
       "WiiU            82.19\n",
       "PSV             53.81"
      ]
     },
     "execution_count": 28,
     "metadata": {},
     "output_type": "execute_result"
    }
   ],
   "source": [
    "(\n",
    "    sales_sum\n",
    "    .query('platform in @actual_platforms')\n",
    "    .pivot_table(index='platform', aggfunc={'total_sales': 'sum'})\n",
    "    .sort_values(by='total_sales')\n",
    "    .plot(kind='barh', alpha=0.75, legend=False)\n",
    ")\n",
    "plt.title('Количество проданных игровых копий для актуальных на 2016 год платформ')\n",
    "plt.grid(axis='y')\n",
    "plt.xlabel('млн игровых копий')\n",
    "plt.ylabel('')\n",
    "plt.show()\n",
    "\n",
    "sales_sum.query('platform in @actual_platforms').pivot_table(index='platform', aggfunc={'total_sales': 'sum'}).sort_values(by='total_sales', ascending=False)"
   ]
  },
  {
   "cell_type": "markdown",
   "metadata": {},
   "source": [
    "**Вывод:** с большим отрывом по продажам лидируют представители седьмого поколения игровых систем: **XBOX 360** и **PlayStation 3**, на каждую из этих консолей продано почти по миллиарду игровых копий. От лидеров примерно с трехкратным отрывом отстает консоль следующего поколения **PlayStation 4**. Далее следует платформа **ПК**, что очень удивительно, ведь судя по нашей сводке, игры для ПК выходят с 1985 года, а PS4 появилась только в 2013 году. Получается на одну консоль за 3 с небольшим года продано игр больше, чем на ПК за 31 год (на момент 2016 года)."
   ]
  },
  {
   "cell_type": "markdown",
   "metadata": {},
   "source": [
    "### Тенденции игровых продаж для поддерживающихся разработчиками игровых платформ за последние 10 лет"
   ]
  },
  {
   "cell_type": "code",
   "execution_count": 29,
   "metadata": {},
   "outputs": [
    {
     "data": {
      "text/html": [
       "<style  type=\"text/css\" >\n",
       "#T_645ac_row0_col0,#T_645ac_row0_col3,#T_645ac_row0_col4,#T_645ac_row0_col6,#T_645ac_row0_col8,#T_645ac_row1_col0,#T_645ac_row1_col3,#T_645ac_row1_col4,#T_645ac_row1_col6,#T_645ac_row1_col8,#T_645ac_row2_col0,#T_645ac_row2_col3,#T_645ac_row2_col4,#T_645ac_row2_col6,#T_645ac_row2_col8,#T_645ac_row3_col3,#T_645ac_row3_col4,#T_645ac_row3_col6,#T_645ac_row3_col8,#T_645ac_row4_col3,#T_645ac_row4_col6,#T_645ac_row4_col8,#T_645ac_row5_col3,#T_645ac_row5_col8{\n",
       "            background-color:  #000000;\n",
       "            color:  #f1f1f1;\n",
       "            background-color:  white;\n",
       "        }#T_645ac_row0_col1{\n",
       "            background-color:  #dceaf6;\n",
       "            color:  #000000;\n",
       "        }#T_645ac_row0_col2{\n",
       "            background-color:  #7fb9da;\n",
       "            color:  #000000;\n",
       "        }#T_645ac_row0_col5{\n",
       "            background-color:  #2373b6;\n",
       "            color:  #f1f1f1;\n",
       "        }#T_645ac_row0_col7{\n",
       "            background-color:  #58a1cf;\n",
       "            color:  #000000;\n",
       "        }#T_645ac_row1_col1{\n",
       "            background-color:  #c8dcf0;\n",
       "            color:  #000000;\n",
       "        }#T_645ac_row1_col2{\n",
       "            background-color:  #2171b5;\n",
       "            color:  #f1f1f1;\n",
       "        }#T_645ac_row1_col5{\n",
       "            background-color:  #0b559f;\n",
       "            color:  #f1f1f1;\n",
       "        }#T_645ac_row1_col7,#T_645ac_row7_col3{\n",
       "            background-color:  #1865ac;\n",
       "            color:  #f1f1f1;\n",
       "        }#T_645ac_row2_col1{\n",
       "            background-color:  #97c6df;\n",
       "            color:  #000000;\n",
       "        }#T_645ac_row2_col2{\n",
       "            background-color:  #125da6;\n",
       "            color:  #f1f1f1;\n",
       "        }#T_645ac_row2_col5,#T_645ac_row3_col7,#T_645ac_row4_col0,#T_645ac_row4_col1,#T_645ac_row4_col2,#T_645ac_row5_col4,#T_645ac_row7_col6,#T_645ac_row8_col3,#T_645ac_row8_col8{\n",
       "            background-color:  #08306b;\n",
       "            color:  #f1f1f1;\n",
       "        }#T_645ac_row2_col7{\n",
       "            background-color:  #2d7dbb;\n",
       "            color:  #000000;\n",
       "        }#T_645ac_row3_col0,#T_645ac_row6_col3,#T_645ac_row6_col8,#T_645ac_row9_col1,#T_645ac_row9_col2,#T_645ac_row9_col4,#T_645ac_row9_col5,#T_645ac_row9_col6,#T_645ac_row9_col7{\n",
       "            background-color:  #f7fbff;\n",
       "            color:  #000000;\n",
       "        }#T_645ac_row3_col1{\n",
       "            background-color:  #2f7fbc;\n",
       "            color:  #000000;\n",
       "        }#T_645ac_row3_col2{\n",
       "            background-color:  #084990;\n",
       "            color:  #f1f1f1;\n",
       "        }#T_645ac_row3_col5{\n",
       "            background-color:  #4292c6;\n",
       "            color:  #000000;\n",
       "        }#T_645ac_row4_col4{\n",
       "            background-color:  #f1f7fd;\n",
       "            color:  #000000;\n",
       "        }#T_645ac_row4_col5,#T_645ac_row7_col2{\n",
       "            background-color:  #bad6eb;\n",
       "            color:  #000000;\n",
       "        }#T_645ac_row4_col7{\n",
       "            background-color:  #0d57a1;\n",
       "            color:  #f1f1f1;\n",
       "        }#T_645ac_row5_col0{\n",
       "            background-color:  #135fa7;\n",
       "            color:  #f1f1f1;\n",
       "        }#T_645ac_row5_col1{\n",
       "            background-color:  #4896c8;\n",
       "            color:  #000000;\n",
       "        }#T_645ac_row5_col2{\n",
       "            background-color:  #3484bf;\n",
       "            color:  #000000;\n",
       "        }#T_645ac_row5_col5{\n",
       "            background-color:  #e1edf8;\n",
       "            color:  #000000;\n",
       "        }#T_645ac_row5_col6{\n",
       "            background-color:  #2272b6;\n",
       "            color:  #f1f1f1;\n",
       "        }#T_645ac_row5_col7{\n",
       "            background-color:  #4e9acb;\n",
       "            color:  #000000;\n",
       "        }#T_645ac_row6_col0{\n",
       "            background-color:  #084b93;\n",
       "            color:  #f1f1f1;\n",
       "        }#T_645ac_row6_col1{\n",
       "            background-color:  #c3daee;\n",
       "            color:  #000000;\n",
       "        }#T_645ac_row6_col2{\n",
       "            background-color:  #2c7cba;\n",
       "            color:  #000000;\n",
       "        }#T_645ac_row6_col4{\n",
       "            background-color:  #61a7d2;\n",
       "            color:  #000000;\n",
       "        }#T_645ac_row6_col5{\n",
       "            background-color:  #eff6fc;\n",
       "            color:  #000000;\n",
       "        }#T_645ac_row6_col6{\n",
       "            background-color:  #083573;\n",
       "            color:  #f1f1f1;\n",
       "        }#T_645ac_row6_col7{\n",
       "            background-color:  #66abd4;\n",
       "            color:  #000000;\n",
       "        }#T_645ac_row7_col0{\n",
       "            background-color:  #3181bd;\n",
       "            color:  #000000;\n",
       "        }#T_645ac_row7_col1{\n",
       "            background-color:  #c1d9ed;\n",
       "            color:  #000000;\n",
       "        }#T_645ac_row7_col4{\n",
       "            background-color:  #3d8dc4;\n",
       "            color:  #000000;\n",
       "        }#T_645ac_row7_col5{\n",
       "            background-color:  #f4f9fe;\n",
       "            color:  #000000;\n",
       "        }#T_645ac_row7_col7{\n",
       "            background-color:  #d0e2f2;\n",
       "            color:  #000000;\n",
       "        }#T_645ac_row7_col8{\n",
       "            background-color:  #0c56a0;\n",
       "            color:  #f1f1f1;\n",
       "        }#T_645ac_row8_col0{\n",
       "            background-color:  #85bcdc;\n",
       "            color:  #000000;\n",
       "        }#T_645ac_row8_col1{\n",
       "            background-color:  #e2edf8;\n",
       "            color:  #000000;\n",
       "        }#T_645ac_row8_col2{\n",
       "            background-color:  #e7f0fa;\n",
       "            color:  #000000;\n",
       "        }#T_645ac_row8_col4{\n",
       "            background-color:  #d6e6f4;\n",
       "            color:  #000000;\n",
       "        }#T_645ac_row8_col5{\n",
       "            background-color:  #f6faff;\n",
       "            color:  #000000;\n",
       "        }#T_645ac_row8_col6{\n",
       "            background-color:  #3585bf;\n",
       "            color:  #000000;\n",
       "        }#T_645ac_row8_col7{\n",
       "            background-color:  #ebf3fb;\n",
       "            color:  #000000;\n",
       "        }#T_645ac_row9_col0{\n",
       "            background-color:  #c9ddf0;\n",
       "            color:  #000000;\n",
       "        }#T_645ac_row9_col3{\n",
       "            background-color:  #79b5d9;\n",
       "            color:  #000000;\n",
       "        }#T_645ac_row9_col8{\n",
       "            background-color:  #d5e5f4;\n",
       "            color:  #000000;\n",
       "        }</style><table id=\"T_645ac_\" ><thead>    <tr>        <th class=\"index_name level0\" >platform</th>        <th class=\"col_heading level0 col0\" >3DS</th>        <th class=\"col_heading level0 col1\" >PC</th>        <th class=\"col_heading level0 col2\" >PS3</th>        <th class=\"col_heading level0 col3\" >PS4</th>        <th class=\"col_heading level0 col4\" >PSV</th>        <th class=\"col_heading level0 col5\" >Wii</th>        <th class=\"col_heading level0 col6\" >WiiU</th>        <th class=\"col_heading level0 col7\" >X360</th>        <th class=\"col_heading level0 col8\" >XOne</th>    </tr>    <tr>        <th class=\"index_name level0\" >year_of_release</th>        <th class=\"blank\" ></th>        <th class=\"blank\" ></th>        <th class=\"blank\" ></th>        <th class=\"blank\" ></th>        <th class=\"blank\" ></th>        <th class=\"blank\" ></th>        <th class=\"blank\" ></th>        <th class=\"blank\" ></th>        <th class=\"blank\" ></th>    </tr></thead><tbody>\n",
       "                <tr>\n",
       "                        <th id=\"T_645ac_level0_row0\" class=\"row_heading level0 row0\" >2007</th>\n",
       "                        <td id=\"T_645ac_row0_col0\" class=\"data row0 col0\" >nan</td>\n",
       "                        <td id=\"T_645ac_row0_col1\" class=\"data row0 col1\" >9.280000</td>\n",
       "                        <td id=\"T_645ac_row0_col2\" class=\"data row0 col2\" >73.190000</td>\n",
       "                        <td id=\"T_645ac_row0_col3\" class=\"data row0 col3\" >nan</td>\n",
       "                        <td id=\"T_645ac_row0_col4\" class=\"data row0 col4\" >nan</td>\n",
       "                        <td id=\"T_645ac_row0_col5\" class=\"data row0 col5\" >153.410000</td>\n",
       "                        <td id=\"T_645ac_row0_col6\" class=\"data row0 col6\" >nan</td>\n",
       "                        <td id=\"T_645ac_row0_col7\" class=\"data row0 col7\" >95.420000</td>\n",
       "                        <td id=\"T_645ac_row0_col8\" class=\"data row0 col8\" >nan</td>\n",
       "            </tr>\n",
       "            <tr>\n",
       "                        <th id=\"T_645ac_level0_row1\" class=\"row_heading level0 row1\" >2008</th>\n",
       "                        <td id=\"T_645ac_row1_col0\" class=\"data row1 col0\" >nan</td>\n",
       "                        <td id=\"T_645ac_row1_col1\" class=\"data row1 col1\" >12.460000</td>\n",
       "                        <td id=\"T_645ac_row1_col2\" class=\"data row1 col2\" >118.790000</td>\n",
       "                        <td id=\"T_645ac_row1_col3\" class=\"data row1 col3\" >nan</td>\n",
       "                        <td id=\"T_645ac_row1_col4\" class=\"data row1 col4\" >nan</td>\n",
       "                        <td id=\"T_645ac_row1_col5\" class=\"data row1 col5\" >177.680000</td>\n",
       "                        <td id=\"T_645ac_row1_col6\" class=\"data row1 col6\" >nan</td>\n",
       "                        <td id=\"T_645ac_row1_col7\" class=\"data row1 col7\" >136.070000</td>\n",
       "                        <td id=\"T_645ac_row1_col8\" class=\"data row1 col8\" >nan</td>\n",
       "            </tr>\n",
       "            <tr>\n",
       "                        <th id=\"T_645ac_level0_row2\" class=\"row_heading level0 row2\" >2009</th>\n",
       "                        <td id=\"T_645ac_row2_col0\" class=\"data row2 col0\" >nan</td>\n",
       "                        <td id=\"T_645ac_row2_col1\" class=\"data row2 col1\" >17.050000</td>\n",
       "                        <td id=\"T_645ac_row2_col2\" class=\"data row2 col2\" >130.930000</td>\n",
       "                        <td id=\"T_645ac_row2_col3\" class=\"data row2 col3\" >nan</td>\n",
       "                        <td id=\"T_645ac_row2_col4\" class=\"data row2 col4\" >nan</td>\n",
       "                        <td id=\"T_645ac_row2_col5\" class=\"data row2 col5\" >206.970000</td>\n",
       "                        <td id=\"T_645ac_row2_col6\" class=\"data row2 col6\" >nan</td>\n",
       "                        <td id=\"T_645ac_row2_col7\" class=\"data row2 col7\" >120.820000</td>\n",
       "                        <td id=\"T_645ac_row2_col8\" class=\"data row2 col8\" >nan</td>\n",
       "            </tr>\n",
       "            <tr>\n",
       "                        <th id=\"T_645ac_level0_row3\" class=\"row_heading level0 row3\" >2010</th>\n",
       "                        <td id=\"T_645ac_row3_col0\" class=\"data row3 col0\" >0.300000</td>\n",
       "                        <td id=\"T_645ac_row3_col1\" class=\"data row3 col1\" >26.150000</td>\n",
       "                        <td id=\"T_645ac_row3_col2\" class=\"data row3 col2\" >142.960000</td>\n",
       "                        <td id=\"T_645ac_row3_col3\" class=\"data row3 col3\" >nan</td>\n",
       "                        <td id=\"T_645ac_row3_col4\" class=\"data row3 col4\" >nan</td>\n",
       "                        <td id=\"T_645ac_row3_col5\" class=\"data row3 col5\" >128.670000</td>\n",
       "                        <td id=\"T_645ac_row3_col6\" class=\"data row3 col6\" >nan</td>\n",
       "                        <td id=\"T_645ac_row3_col7\" class=\"data row3 col7\" >170.550000</td>\n",
       "                        <td id=\"T_645ac_row3_col8\" class=\"data row3 col8\" >nan</td>\n",
       "            </tr>\n",
       "            <tr>\n",
       "                        <th id=\"T_645ac_level0_row4\" class=\"row_heading level0 row4\" >2011</th>\n",
       "                        <td id=\"T_645ac_row4_col0\" class=\"data row4 col0\" >63.200000</td>\n",
       "                        <td id=\"T_645ac_row4_col1\" class=\"data row4 col1\" >35.160000</td>\n",
       "                        <td id=\"T_645ac_row4_col2\" class=\"data row4 col2\" >157.980000</td>\n",
       "                        <td id=\"T_645ac_row4_col3\" class=\"data row4 col3\" >nan</td>\n",
       "                        <td id=\"T_645ac_row4_col4\" class=\"data row4 col4\" >4.630000</td>\n",
       "                        <td id=\"T_645ac_row4_col5\" class=\"data row4 col5\" >59.790000</td>\n",
       "                        <td id=\"T_645ac_row4_col6\" class=\"data row4 col6\" >nan</td>\n",
       "                        <td id=\"T_645ac_row4_col7\" class=\"data row4 col7\" >145.280000</td>\n",
       "                        <td id=\"T_645ac_row4_col8\" class=\"data row4 col8\" >nan</td>\n",
       "            </tr>\n",
       "            <tr>\n",
       "                        <th id=\"T_645ac_level0_row5\" class=\"row_heading level0 row5\" >2012</th>\n",
       "                        <td id=\"T_645ac_row5_col0\" class=\"data row5 col0\" >51.760000</td>\n",
       "                        <td id=\"T_645ac_row5_col1\" class=\"data row5 col1\" >23.450000</td>\n",
       "                        <td id=\"T_645ac_row5_col2\" class=\"data row5 col2\" >108.280000</td>\n",
       "                        <td id=\"T_645ac_row5_col3\" class=\"data row5 col3\" >nan</td>\n",
       "                        <td id=\"T_645ac_row5_col4\" class=\"data row5 col4\" >16.190000</td>\n",
       "                        <td id=\"T_645ac_row5_col5\" class=\"data row5 col5\" >22.940000</td>\n",
       "                        <td id=\"T_645ac_row5_col6\" class=\"data row5 col6\" >17.560000</td>\n",
       "                        <td id=\"T_645ac_row5_col7\" class=\"data row5 col7\" >100.720000</td>\n",
       "                        <td id=\"T_645ac_row5_col8\" class=\"data row5 col8\" >nan</td>\n",
       "            </tr>\n",
       "            <tr>\n",
       "                        <th id=\"T_645ac_level0_row6\" class=\"row_heading level0 row6\" >2013</th>\n",
       "                        <td id=\"T_645ac_row6_col0\" class=\"data row6 col0\" >56.570000</td>\n",
       "                        <td id=\"T_645ac_row6_col1\" class=\"data row6 col1\" >13.010000</td>\n",
       "                        <td id=\"T_645ac_row6_col2\" class=\"data row6 col2\" >113.250000</td>\n",
       "                        <td id=\"T_645ac_row6_col3\" class=\"data row6 col3\" >25.990000</td>\n",
       "                        <td id=\"T_645ac_row6_col4\" class=\"data row6 col4\" >10.590000</td>\n",
       "                        <td id=\"T_645ac_row6_col5\" class=\"data row6 col5\" >8.590000</td>\n",
       "                        <td id=\"T_645ac_row6_col6\" class=\"data row6 col6\" >21.650000</td>\n",
       "                        <td id=\"T_645ac_row6_col7\" class=\"data row6 col7\" >88.580000</td>\n",
       "                        <td id=\"T_645ac_row6_col8\" class=\"data row6 col8\" >18.960000</td>\n",
       "            </tr>\n",
       "            <tr>\n",
       "                        <th id=\"T_645ac_level0_row7\" class=\"row_heading level0 row7\" >2014</th>\n",
       "                        <td id=\"T_645ac_row7_col0\" class=\"data row7 col0\" >43.760000</td>\n",
       "                        <td id=\"T_645ac_row7_col1\" class=\"data row7 col1\" >13.280000</td>\n",
       "                        <td id=\"T_645ac_row7_col2\" class=\"data row7 col2\" >47.760000</td>\n",
       "                        <td id=\"T_645ac_row7_col3\" class=\"data row7 col3\" >100.000000</td>\n",
       "                        <td id=\"T_645ac_row7_col4\" class=\"data row7 col4\" >11.900000</td>\n",
       "                        <td id=\"T_645ac_row7_col5\" class=\"data row7 col5\" >3.750000</td>\n",
       "                        <td id=\"T_645ac_row7_col6\" class=\"data row7 col6\" >22.030000</td>\n",
       "                        <td id=\"T_645ac_row7_col7\" class=\"data row7 col7\" >34.740000</td>\n",
       "                        <td id=\"T_645ac_row7_col8\" class=\"data row7 col8\" >54.070000</td>\n",
       "            </tr>\n",
       "            <tr>\n",
       "                        <th id=\"T_645ac_level0_row8\" class=\"row_heading level0 row8\" >2015</th>\n",
       "                        <td id=\"T_645ac_row8_col0\" class=\"data row8 col0\" >27.780000</td>\n",
       "                        <td id=\"T_645ac_row8_col1\" class=\"data row8 col1\" >8.520000</td>\n",
       "                        <td id=\"T_645ac_row8_col2\" class=\"data row8 col2\" >16.820000</td>\n",
       "                        <td id=\"T_645ac_row8_col3\" class=\"data row8 col3\" >118.900000</td>\n",
       "                        <td id=\"T_645ac_row8_col4\" class=\"data row8 col4\" >6.250000</td>\n",
       "                        <td id=\"T_645ac_row8_col5\" class=\"data row8 col5\" >1.140000</td>\n",
       "                        <td id=\"T_645ac_row8_col6\" class=\"data row8 col6\" >16.350000</td>\n",
       "                        <td id=\"T_645ac_row8_col7\" class=\"data row8 col7\" >11.960000</td>\n",
       "                        <td id=\"T_645ac_row8_col8\" class=\"data row8 col8\" >60.140000</td>\n",
       "            </tr>\n",
       "            <tr>\n",
       "                        <th id=\"T_645ac_level0_row9\" class=\"row_heading level0 row9\" >2016</th>\n",
       "                        <td id=\"T_645ac_row9_col0\" class=\"data row9 col0\" >15.140000</td>\n",
       "                        <td id=\"T_645ac_row9_col1\" class=\"data row9 col1\" >5.250000</td>\n",
       "                        <td id=\"T_645ac_row9_col2\" class=\"data row9 col2\" >3.600000</td>\n",
       "                        <td id=\"T_645ac_row9_col3\" class=\"data row9 col3\" >69.250000</td>\n",
       "                        <td id=\"T_645ac_row9_col4\" class=\"data row9 col4\" >4.250000</td>\n",
       "                        <td id=\"T_645ac_row9_col5\" class=\"data row9 col5\" >0.180000</td>\n",
       "                        <td id=\"T_645ac_row9_col6\" class=\"data row9 col6\" >4.600000</td>\n",
       "                        <td id=\"T_645ac_row9_col7\" class=\"data row9 col7\" >1.520000</td>\n",
       "                        <td id=\"T_645ac_row9_col8\" class=\"data row9 col8\" >26.150000</td>\n",
       "            </tr>\n",
       "    </tbody></table>"
      ],
      "text/plain": [
       "<pandas.io.formats.style.Styler at 0x7f48bbba4340>"
      ]
     },
     "execution_count": 29,
     "metadata": {},
     "output_type": "execute_result"
    }
   ],
   "source": [
    "data_10years = data.query('platform in @actual_platforms and year_of_release > 2006')\n",
    "\n",
    "data_10years = data_10years.pivot_table(index='year_of_release', columns='platform', aggfunc={'total_sales': 'sum'})\n",
    "data_10years.columns = data_10years.columns.droplevel()\n",
    "data_10years.index = data_10years.index.astype(int)\n",
    "\n",
    "data_10years.style.background_gradient('Blues').highlight_null('white')"
   ]
  },
  {
   "cell_type": "markdown",
   "metadata": {},
   "source": [
    "По 2016 году данные, неполные. Так как статистика собрана в конце этого же года, и не все продажи учтены.\n",
    "\n",
    "**Вывод:** жизненный цикл некогда очень популярных консолей **PS3** и **Xbox360** подходит к концу, в виду устаревания железа. Видно, что продажи игр для них сильно сократились к 2015-2016 годам. Они уступили место своим продолжателям: **PS4** и **Xbox One**.<br>\n",
    "Консоль **Nintendo Wii** уступила место актуальной наследнице **Nintendo Wii U**.<br>\n",
    "Портативные консоли **Nintendo 3DS** и **PlayStation Vita** на момент 2016 года еще поддерживаются и являются актуальными. Хотя и наблюдается динамика к снижению производства игр под них.<br>\n",
    "**ПК** это вечная классика, жили и будут жить. Хотя продажи игр для них уступают консолям.\n",
    "\n",
    "**Для дальнейшего исследования будет помехой брать в расчет уже не актуальную информацию за старые года. Поэтому будем рассматривать только 3 последних года, из которых есть полные данные за 2014 и 2015 года, а так же частичная информация за 2016.**"
   ]
  },
  {
   "cell_type": "markdown",
   "metadata": {},
   "source": [
    "### Тенденции игровых продаж за актуальный период (последние 3 года)"
   ]
  },
  {
   "cell_type": "code",
   "execution_count": 30,
   "metadata": {},
   "outputs": [
    {
     "data": {
      "text/html": [
       "<style  type=\"text/css\" >\n",
       "#T_11c15_row0_col0,#T_11c15_row0_col1,#T_11c15_row0_col2,#T_11c15_row0_col4,#T_11c15_row0_col5,#T_11c15_row0_col6,#T_11c15_row0_col7,#T_11c15_row1_col3,#T_11c15_row1_col8{\n",
       "            background-color:  #08306b;\n",
       "            color:  #f1f1f1;\n",
       "        }#T_11c15_row0_col3{\n",
       "            background-color:  #4493c7;\n",
       "            color:  #000000;\n",
       "        }#T_11c15_row0_col8{\n",
       "            background-color:  #125ea6;\n",
       "            color:  #f1f1f1;\n",
       "        }#T_11c15_row1_col0{\n",
       "            background-color:  #82bbdb;\n",
       "            color:  #000000;\n",
       "        }#T_11c15_row1_col1{\n",
       "            background-color:  #91c3de;\n",
       "            color:  #000000;\n",
       "        }#T_11c15_row1_col2{\n",
       "            background-color:  #b7d4ea;\n",
       "            color:  #000000;\n",
       "        }#T_11c15_row1_col4{\n",
       "            background-color:  #c3daee;\n",
       "            color:  #000000;\n",
       "        }#T_11c15_row1_col5{\n",
       "            background-color:  #c1d9ed;\n",
       "            color:  #000000;\n",
       "        }#T_11c15_row1_col6{\n",
       "            background-color:  #3585bf;\n",
       "            color:  #000000;\n",
       "        }#T_11c15_row1_col7{\n",
       "            background-color:  #b2d2e8;\n",
       "            color:  #000000;\n",
       "        }#T_11c15_row2_col0,#T_11c15_row2_col1,#T_11c15_row2_col2,#T_11c15_row2_col3,#T_11c15_row2_col4,#T_11c15_row2_col5,#T_11c15_row2_col6,#T_11c15_row2_col7,#T_11c15_row2_col8{\n",
       "            background-color:  #f7fbff;\n",
       "            color:  #000000;\n",
       "        }</style><table id=\"T_11c15_\" ><thead>    <tr>        <th class=\"index_name level0\" >platform</th>        <th class=\"col_heading level0 col0\" >3DS</th>        <th class=\"col_heading level0 col1\" >PC</th>        <th class=\"col_heading level0 col2\" >PS3</th>        <th class=\"col_heading level0 col3\" >PS4</th>        <th class=\"col_heading level0 col4\" >PSV</th>        <th class=\"col_heading level0 col5\" >Wii</th>        <th class=\"col_heading level0 col6\" >WiiU</th>        <th class=\"col_heading level0 col7\" >X360</th>        <th class=\"col_heading level0 col8\" >XOne</th>    </tr>    <tr>        <th class=\"index_name level0\" >year_of_release</th>        <th class=\"blank\" ></th>        <th class=\"blank\" ></th>        <th class=\"blank\" ></th>        <th class=\"blank\" ></th>        <th class=\"blank\" ></th>        <th class=\"blank\" ></th>        <th class=\"blank\" ></th>        <th class=\"blank\" ></th>        <th class=\"blank\" ></th>    </tr></thead><tbody>\n",
       "                <tr>\n",
       "                        <th id=\"T_11c15_level0_row0\" class=\"row_heading level0 row0\" >2014</th>\n",
       "                        <td id=\"T_11c15_row0_col0\" class=\"data row0 col0\" >43.760000</td>\n",
       "                        <td id=\"T_11c15_row0_col1\" class=\"data row0 col1\" >13.280000</td>\n",
       "                        <td id=\"T_11c15_row0_col2\" class=\"data row0 col2\" >47.760000</td>\n",
       "                        <td id=\"T_11c15_row0_col3\" class=\"data row0 col3\" >100.000000</td>\n",
       "                        <td id=\"T_11c15_row0_col4\" class=\"data row0 col4\" >11.900000</td>\n",
       "                        <td id=\"T_11c15_row0_col5\" class=\"data row0 col5\" >3.750000</td>\n",
       "                        <td id=\"T_11c15_row0_col6\" class=\"data row0 col6\" >22.030000</td>\n",
       "                        <td id=\"T_11c15_row0_col7\" class=\"data row0 col7\" >34.740000</td>\n",
       "                        <td id=\"T_11c15_row0_col8\" class=\"data row0 col8\" >54.070000</td>\n",
       "            </tr>\n",
       "            <tr>\n",
       "                        <th id=\"T_11c15_level0_row1\" class=\"row_heading level0 row1\" >2015</th>\n",
       "                        <td id=\"T_11c15_row1_col0\" class=\"data row1 col0\" >27.780000</td>\n",
       "                        <td id=\"T_11c15_row1_col1\" class=\"data row1 col1\" >8.520000</td>\n",
       "                        <td id=\"T_11c15_row1_col2\" class=\"data row1 col2\" >16.820000</td>\n",
       "                        <td id=\"T_11c15_row1_col3\" class=\"data row1 col3\" >118.900000</td>\n",
       "                        <td id=\"T_11c15_row1_col4\" class=\"data row1 col4\" >6.250000</td>\n",
       "                        <td id=\"T_11c15_row1_col5\" class=\"data row1 col5\" >1.140000</td>\n",
       "                        <td id=\"T_11c15_row1_col6\" class=\"data row1 col6\" >16.350000</td>\n",
       "                        <td id=\"T_11c15_row1_col7\" class=\"data row1 col7\" >11.960000</td>\n",
       "                        <td id=\"T_11c15_row1_col8\" class=\"data row1 col8\" >60.140000</td>\n",
       "            </tr>\n",
       "            <tr>\n",
       "                        <th id=\"T_11c15_level0_row2\" class=\"row_heading level0 row2\" >2016</th>\n",
       "                        <td id=\"T_11c15_row2_col0\" class=\"data row2 col0\" >15.140000</td>\n",
       "                        <td id=\"T_11c15_row2_col1\" class=\"data row2 col1\" >5.250000</td>\n",
       "                        <td id=\"T_11c15_row2_col2\" class=\"data row2 col2\" >3.600000</td>\n",
       "                        <td id=\"T_11c15_row2_col3\" class=\"data row2 col3\" >69.250000</td>\n",
       "                        <td id=\"T_11c15_row2_col4\" class=\"data row2 col4\" >4.250000</td>\n",
       "                        <td id=\"T_11c15_row2_col5\" class=\"data row2 col5\" >0.180000</td>\n",
       "                        <td id=\"T_11c15_row2_col6\" class=\"data row2 col6\" >4.600000</td>\n",
       "                        <td id=\"T_11c15_row2_col7\" class=\"data row2 col7\" >1.520000</td>\n",
       "                        <td id=\"T_11c15_row2_col8\" class=\"data row2 col8\" >26.150000</td>\n",
       "            </tr>\n",
       "    </tbody></table>"
      ],
      "text/plain": [
       "<pandas.io.formats.style.Styler at 0x7f48bbcdd3d0>"
      ]
     },
     "execution_count": 30,
     "metadata": {},
     "output_type": "execute_result"
    }
   ],
   "source": [
    "data_actual = data.query('platform in @actual_platforms and year_of_release > 2013')\n",
    "data_actual = data_actual.copy()\n",
    "\n",
    "data_actual_pivot = data_actual.pivot_table(index='year_of_release', columns='platform', aggfunc={'total_sales': 'sum'})\n",
    "data_actual_pivot.columns = data_actual_pivot.columns.droplevel()\n",
    "data_actual_pivot.index = data_actual_pivot.index.astype(int)\n",
    "\n",
    "data_actual_pivot.style.background_gradient('Blues')"
   ]
  },
  {
   "cell_type": "markdown",
   "metadata": {},
   "source": [
    "Итого, наиболее перспективными и прибыльными платформами являются два вечных соперника **PS4** и **Xbox One**. На 2016 год это свежие консоли, лучшие игры под которые еще не увидели свет. Так же довольно перспективными являются два товарища от Nintendo - это **Wii U** и **3DS**, хотя последняя уже довольно устаревшая, но все же, почти 28 млн. проданных игр за 2015 год - это внушительно. Особняком стоит **ПК**, с одной стороны продажи игр сильно уступают консолям, но с другой стороны платформа имеет совершенно отличную от консолей философию и подразумевает апгрейд железа, что не позволит ей устареть до появления устройств принципиально иного типа, которые когда нибудь заменят персональные компьютеры. \n",
    "\n",
    "Рассмотрим эти 5 самых перспективных платформ более подробно."
   ]
  },
  {
   "cell_type": "code",
   "execution_count": 31,
   "metadata": {},
   "outputs": [
    {
     "data": {
      "text/html": [
       "<style  type=\"text/css\" >\n",
       "#T_f1448_row0_col0{\n",
       "            background-color:  #4493c7;\n",
       "            color:  #000000;\n",
       "        }#T_f1448_row0_col1{\n",
       "            background-color:  #125ea6;\n",
       "            color:  #f1f1f1;\n",
       "        }#T_f1448_row0_col2,#T_f1448_row0_col3,#T_f1448_row0_col4,#T_f1448_row1_col0,#T_f1448_row1_col1{\n",
       "            background-color:  #08306b;\n",
       "            color:  #f1f1f1;\n",
       "        }#T_f1448_row1_col2{\n",
       "            background-color:  #3585bf;\n",
       "            color:  #000000;\n",
       "        }#T_f1448_row1_col3{\n",
       "            background-color:  #82bbdb;\n",
       "            color:  #000000;\n",
       "        }#T_f1448_row1_col4{\n",
       "            background-color:  #91c3de;\n",
       "            color:  #000000;\n",
       "        }#T_f1448_row2_col0,#T_f1448_row2_col1,#T_f1448_row2_col2,#T_f1448_row2_col3,#T_f1448_row2_col4{\n",
       "            background-color:  #f7fbff;\n",
       "            color:  #000000;\n",
       "        }</style><table id=\"T_f1448_\" ><thead>    <tr>        <th class=\"index_name level0\" >platform</th>        <th class=\"col_heading level0 col0\" >PS4</th>        <th class=\"col_heading level0 col1\" >XOne</th>        <th class=\"col_heading level0 col2\" >WiiU</th>        <th class=\"col_heading level0 col3\" >3DS</th>        <th class=\"col_heading level0 col4\" >PC</th>    </tr>    <tr>        <th class=\"index_name level0\" >year_of_release</th>        <th class=\"blank\" ></th>        <th class=\"blank\" ></th>        <th class=\"blank\" ></th>        <th class=\"blank\" ></th>        <th class=\"blank\" ></th>    </tr></thead><tbody>\n",
       "                <tr>\n",
       "                        <th id=\"T_f1448_level0_row0\" class=\"row_heading level0 row0\" >2014</th>\n",
       "                        <td id=\"T_f1448_row0_col0\" class=\"data row0 col0\" >100.000000</td>\n",
       "                        <td id=\"T_f1448_row0_col1\" class=\"data row0 col1\" >54.070000</td>\n",
       "                        <td id=\"T_f1448_row0_col2\" class=\"data row0 col2\" >22.030000</td>\n",
       "                        <td id=\"T_f1448_row0_col3\" class=\"data row0 col3\" >43.760000</td>\n",
       "                        <td id=\"T_f1448_row0_col4\" class=\"data row0 col4\" >13.280000</td>\n",
       "            </tr>\n",
       "            <tr>\n",
       "                        <th id=\"T_f1448_level0_row1\" class=\"row_heading level0 row1\" >2015</th>\n",
       "                        <td id=\"T_f1448_row1_col0\" class=\"data row1 col0\" >118.900000</td>\n",
       "                        <td id=\"T_f1448_row1_col1\" class=\"data row1 col1\" >60.140000</td>\n",
       "                        <td id=\"T_f1448_row1_col2\" class=\"data row1 col2\" >16.350000</td>\n",
       "                        <td id=\"T_f1448_row1_col3\" class=\"data row1 col3\" >27.780000</td>\n",
       "                        <td id=\"T_f1448_row1_col4\" class=\"data row1 col4\" >8.520000</td>\n",
       "            </tr>\n",
       "            <tr>\n",
       "                        <th id=\"T_f1448_level0_row2\" class=\"row_heading level0 row2\" >2016</th>\n",
       "                        <td id=\"T_f1448_row2_col0\" class=\"data row2 col0\" >69.250000</td>\n",
       "                        <td id=\"T_f1448_row2_col1\" class=\"data row2 col1\" >26.150000</td>\n",
       "                        <td id=\"T_f1448_row2_col2\" class=\"data row2 col2\" >4.600000</td>\n",
       "                        <td id=\"T_f1448_row2_col3\" class=\"data row2 col3\" >15.140000</td>\n",
       "                        <td id=\"T_f1448_row2_col4\" class=\"data row2 col4\" >5.250000</td>\n",
       "            </tr>\n",
       "    </tbody></table>"
      ],
      "text/plain": [
       "<pandas.io.formats.style.Styler at 0x7f48bbb4e550>"
      ]
     },
     "metadata": {},
     "output_type": "display_data"
    },
    {
     "data": {
      "image/png": "[encoded data removed]",
      "text/plain": [
       "<Figure size 576x345.6 with 1 Axes>"
      ]
     },
     "metadata": {},
     "output_type": "display_data"
    }
   ],
   "source": [
    "data_actual_pivot_top5 = data_actual_pivot.loc[:, ['PS4', 'XOne', 'WiiU', '3DS', 'PC']]\n",
    "display(data_actual_pivot_top5.style.background_gradient('Blues'))\n",
    "\n",
    "data_actual_pivot_top5.plot(linewidth=5, figsize=(8, 4.8)).add_patch(mpl.patches.Rectangle((2015, -10), 2, 140, alpha=0.5, color='orange'))\n",
    "plt.title('Количество проданных игровых копий для 5 актуальных платформ')\n",
    "plt.xlabel('')\n",
    "plt.ylabel('млн игровых копий')\n",
    "plt.show()"
   ]
  },
  {
   "cell_type": "markdown",
   "metadata": {},
   "source": [
    "**Вывод:** оранжевой заливкой справа закрашен 2016 год, данные за который неполные, к ним нужно относиться с осторожностью. На графике наглядно видно текущее доминирование **PlayStation 4** над остальными платформами. **Xbox One** хоть и отстает в два раза от лидера, но все же, является второй по популярности консолью. Так же эти две платформы показали увеличение продаж с 2014 по 2015 год. Консоли от **Nintendo** в последние годы демонстрируют тенденцию к снижению интереса к себе со стороны пользователей. Игры для **ПК** так же стали продаваться немного хуже."
   ]
  },
  {
   "cell_type": "markdown",
   "metadata": {},
   "source": [
    "### Глобальные продажи игр в по платформам"
   ]
  },
  {
   "cell_type": "code",
   "execution_count": 32,
   "metadata": {},
   "outputs": [
    {
     "data": {
      "image/png": "[encoded data removed]",
      "text/plain": [
       "<Figure size 576x432 with 1 Axes>"
      ]
     },
     "metadata": {},
     "output_type": "display_data"
    },
    {
     "name": "stdout",
     "output_type": "stream",
     "text": [
      "Медиана количества продаж по всем актуальным платформам (млн) - синяя линия: 0.09999999999999999 \n",
      "\n",
      "Медиана количества продаж для каждой отдельной платформы (млн):\n",
      " platform\n",
      "XOne    0.205\n",
      "WiiU    0.190\n",
      "PS4     0.185\n",
      "Wii     0.180\n",
      "X360    0.180\n",
      "PS3     0.110\n",
      "3DS     0.090\n",
      "PC      0.060\n",
      "PSV     0.040\n",
      "Name: total_sales, dtype: float64\n"
     ]
    }
   ],
   "source": [
    "plt.figure(figsize=(8,6))\n",
    "sns.boxplot(data=data_actual, x='total_sales', y='platform')\n",
    "plt.xlim(0, 2)\n",
    "plt.axvline(x = data_actual['total_sales'].median() ,linestyle='dashed', color='blue', alpha=.8)\n",
    "plt.title('Распределение продаж в по платформам')\n",
    "plt.ylabel('мин')\n",
    "plt.xlabel('')\n",
    "plt.show()\n",
    "\n",
    "print('Медиана количества продаж по всем актуальным платформам (млн) - синяя линия:', data_actual['total_sales'].median(), '\\n')\n",
    "print('Медиана количества продаж для каждой отдельной платформы (млн):\\n', data_actual.groupby('platform')['total_sales'].median().sort_values(ascending=False))"
   ]
  },
  {
   "cell_type": "markdown",
   "metadata": {},
   "source": [
    "**Вывод:** если рассматривать медианное количество продаж, то лидером являются **Xbox One** с показателем 205 тыс. копий; хоть общее количество продаж игр для этой платформы почти вдвое уступает PS4, но каждая отдельно взятая игра расходится немного бóльшими тиражами.  Далее следуют **WiiU** и **PS4**. Игры для старых консолей **PS3** и **Xbox 360** все еще неплохо продаются, но это происходит по инерции, благодаря огромной популярности в прошлом. **ПК** здесь в аутсайдерах, наравне с теряющей актуальность портативкой **PSVita**."
   ]
  },
  {
   "cell_type": "markdown",
   "metadata": {},
   "source": [
    "Отдельно рассмотрим распределение хитов среди релизов по платформам. За \"хит\" условно примем проект, преодолевший порог 2 млн продаж для отдельной платформы"
   ]
  },
  {
   "cell_type": "code",
   "execution_count": 33,
   "metadata": {},
   "outputs": [
    {
     "data": {
      "text/html": [
       "<div>\n",
       "<style scoped>\n",
       "    .dataframe tbody tr th:only-of-type {\n",
       "        vertical-align: middle;\n",
       "    }\n",
       "\n",
       "    .dataframe tbody tr th {\n",
       "        vertical-align: top;\n",
       "    }\n",
       "\n",
       "    .dataframe thead tr th {\n",
       "        text-align: left;\n",
       "    }\n",
       "\n",
       "    .dataframe thead tr:last-of-type th {\n",
       "        text-align: right;\n",
       "    }\n",
       "</style>\n",
       "<table border=\"1\" class=\"dataframe\">\n",
       "  <thead>\n",
       "    <tr>\n",
       "      <th></th>\n",
       "      <th colspan=\"3\" halign=\"left\">total_sales</th>\n",
       "    </tr>\n",
       "    <tr>\n",
       "      <th></th>\n",
       "      <th>count</th>\n",
       "      <th>max</th>\n",
       "      <th>sum</th>\n",
       "    </tr>\n",
       "    <tr>\n",
       "      <th>platform</th>\n",
       "      <th></th>\n",
       "      <th></th>\n",
       "      <th></th>\n",
       "    </tr>\n",
       "  </thead>\n",
       "  <tbody>\n",
       "    <tr>\n",
       "      <th>PS4</th>\n",
       "      <td>39</td>\n",
       "      <td>14.63</td>\n",
       "      <td>176.21</td>\n",
       "    </tr>\n",
       "    <tr>\n",
       "      <th>XOne</th>\n",
       "      <td>20</td>\n",
       "      <td>7.39</td>\n",
       "      <td>69.26</td>\n",
       "    </tr>\n",
       "    <tr>\n",
       "      <th>3DS</th>\n",
       "      <td>10</td>\n",
       "      <td>11.68</td>\n",
       "      <td>47.22</td>\n",
       "    </tr>\n",
       "    <tr>\n",
       "      <th>PS3</th>\n",
       "      <td>4</td>\n",
       "      <td>5.27</td>\n",
       "      <td>16.61</td>\n",
       "    </tr>\n",
       "    <tr>\n",
       "      <th>WiiU</th>\n",
       "      <td>4</td>\n",
       "      <td>7.09</td>\n",
       "      <td>19.61</td>\n",
       "    </tr>\n",
       "    <tr>\n",
       "      <th>X360</th>\n",
       "      <td>3</td>\n",
       "      <td>4.28</td>\n",
       "      <td>9.25</td>\n",
       "    </tr>\n",
       "    <tr>\n",
       "      <th>PC</th>\n",
       "      <td>1</td>\n",
       "      <td>3.05</td>\n",
       "      <td>3.05</td>\n",
       "    </tr>\n",
       "    <tr>\n",
       "      <th>Wii</th>\n",
       "      <td>1</td>\n",
       "      <td>2.01</td>\n",
       "      <td>2.01</td>\n",
       "    </tr>\n",
       "  </tbody>\n",
       "</table>\n",
       "</div>"
      ],
      "text/plain": [
       "         total_sales               \n",
       "               count    max     sum\n",
       "platform                           \n",
       "PS4               39  14.63  176.21\n",
       "XOne              20   7.39   69.26\n",
       "3DS               10  11.68   47.22\n",
       "PS3                4   5.27   16.61\n",
       "WiiU               4   7.09   19.61\n",
       "X360               3   4.28    9.25\n",
       "PC                 1   3.05    3.05\n",
       "Wii                1   2.01    2.01"
      ]
     },
     "metadata": {},
     "output_type": "display_data"
    },
    {
     "data": {
      "text/html": [
       "<div>\n",
       "<style scoped>\n",
       "    .dataframe tbody tr th:only-of-type {\n",
       "        vertical-align: middle;\n",
       "    }\n",
       "\n",
       "    .dataframe tbody tr th {\n",
       "        vertical-align: top;\n",
       "    }\n",
       "\n",
       "    .dataframe thead th {\n",
       "        text-align: right;\n",
       "    }\n",
       "</style>\n",
       "<table border=\"1\" class=\"dataframe\">\n",
       "  <thead>\n",
       "    <tr style=\"text-align: right;\">\n",
       "      <th></th>\n",
       "      <th>name</th>\n",
       "      <th>platform</th>\n",
       "      <th>year_of_release</th>\n",
       "      <th>genre</th>\n",
       "      <th>na_sales</th>\n",
       "      <th>eu_sales</th>\n",
       "      <th>jp_sales</th>\n",
       "      <th>other_sales</th>\n",
       "      <th>critic_score</th>\n",
       "      <th>user_score</th>\n",
       "      <th>rating</th>\n",
       "      <th>total_sales</th>\n",
       "    </tr>\n",
       "  </thead>\n",
       "  <tbody>\n",
       "    <tr>\n",
       "      <th>31</th>\n",
       "      <td>Call of Duty: Black Ops 3</td>\n",
       "      <td>PS4</td>\n",
       "      <td>2015.0</td>\n",
       "      <td>Shooter</td>\n",
       "      <td>6.03</td>\n",
       "      <td>5.86</td>\n",
       "      <td>0.36</td>\n",
       "      <td>2.38</td>\n",
       "      <td>NaN</td>\n",
       "      <td>NaN</td>\n",
       "      <td>None</td>\n",
       "      <td>14.63</td>\n",
       "    </tr>\n",
       "    <tr>\n",
       "      <th>42</th>\n",
       "      <td>Grand Theft Auto V</td>\n",
       "      <td>PS4</td>\n",
       "      <td>2014.0</td>\n",
       "      <td>Action</td>\n",
       "      <td>3.96</td>\n",
       "      <td>6.31</td>\n",
       "      <td>0.38</td>\n",
       "      <td>1.97</td>\n",
       "      <td>97.0</td>\n",
       "      <td>83.0</td>\n",
       "      <td>M</td>\n",
       "      <td>12.62</td>\n",
       "    </tr>\n",
       "    <tr>\n",
       "      <th>47</th>\n",
       "      <td>Pokemon Omega Ruby/Pokemon Alpha Sapphire</td>\n",
       "      <td>3DS</td>\n",
       "      <td>2014.0</td>\n",
       "      <td>Role-Playing</td>\n",
       "      <td>4.35</td>\n",
       "      <td>3.49</td>\n",
       "      <td>3.10</td>\n",
       "      <td>0.74</td>\n",
       "      <td>NaN</td>\n",
       "      <td>NaN</td>\n",
       "      <td>None</td>\n",
       "      <td>11.68</td>\n",
       "    </tr>\n",
       "    <tr>\n",
       "      <th>77</th>\n",
       "      <td>FIFA 16</td>\n",
       "      <td>PS4</td>\n",
       "      <td>2015.0</td>\n",
       "      <td>Sports</td>\n",
       "      <td>1.12</td>\n",
       "      <td>6.12</td>\n",
       "      <td>0.06</td>\n",
       "      <td>1.28</td>\n",
       "      <td>82.0</td>\n",
       "      <td>43.0</td>\n",
       "      <td>E</td>\n",
       "      <td>8.58</td>\n",
       "    </tr>\n",
       "    <tr>\n",
       "      <th>87</th>\n",
       "      <td>Star Wars Battlefront (2015)</td>\n",
       "      <td>PS4</td>\n",
       "      <td>2015.0</td>\n",
       "      <td>Shooter</td>\n",
       "      <td>2.99</td>\n",
       "      <td>3.49</td>\n",
       "      <td>0.22</td>\n",
       "      <td>1.28</td>\n",
       "      <td>NaN</td>\n",
       "      <td>NaN</td>\n",
       "      <td>None</td>\n",
       "      <td>7.98</td>\n",
       "    </tr>\n",
       "  </tbody>\n",
       "</table>\n",
       "</div>"
      ],
      "text/plain": [
       "                                         name platform  year_of_release  \\\n",
       "31                  Call of Duty: Black Ops 3      PS4           2015.0   \n",
       "42                         Grand Theft Auto V      PS4           2014.0   \n",
       "47  Pokemon Omega Ruby/Pokemon Alpha Sapphire      3DS           2014.0   \n",
       "77                                    FIFA 16      PS4           2015.0   \n",
       "87               Star Wars Battlefront (2015)      PS4           2015.0   \n",
       "\n",
       "           genre  na_sales  eu_sales  jp_sales  other_sales  critic_score  \\\n",
       "31       Shooter      6.03      5.86      0.36         2.38           NaN   \n",
       "42        Action      3.96      6.31      0.38         1.97          97.0   \n",
       "47  Role-Playing      4.35      3.49      3.10         0.74           NaN   \n",
       "77        Sports      1.12      6.12      0.06         1.28          82.0   \n",
       "87       Shooter      2.99      3.49      0.22         1.28           NaN   \n",
       "\n",
       "    user_score rating  total_sales  \n",
       "31         NaN   None        14.63  \n",
       "42        83.0      M        12.62  \n",
       "47         NaN   None        11.68  \n",
       "77        43.0      E         8.58  \n",
       "87         NaN   None         7.98  "
      ]
     },
     "execution_count": 33,
     "metadata": {},
     "output_type": "execute_result"
    }
   ],
   "source": [
    "display(\n",
    "    data_actual.query('total_sales >= 2')\n",
    "    .pivot_table(index='platform', aggfunc={'total_sales': ['sum', 'count', 'max']})\n",
    "    .sort_values(by=('total_sales', 'count'), ascending=False)\n",
    ")\n",
    "\n",
    "data_actual.sort_values(by='total_sales', ascending=False).head()"
   ]
  },
  {
   "cell_type": "markdown",
   "metadata": {},
   "source": [
    "**Вывод:** как можно заметить, за последние годы подавляющее большинство успешных проектов вышли на новых консолях **PS4** и **Xbox One**."
   ]
  },
  {
   "cell_type": "markdown",
   "metadata": {},
   "source": [
    "### Влияние отзывов пользователей и критиков на продажи в рамках одной платформы"
   ]
  },
  {
   "cell_type": "markdown",
   "metadata": {},
   "source": [
    "Возьмем две популярных и перспективных платформы - **PlayStation 4** и **Xbox One** и рассмотрим, как оценки критиков и пользователей влияют на успешность продаж."
   ]
  },
  {
   "cell_type": "code",
   "execution_count": 34,
   "metadata": {},
   "outputs": [
    {
     "data": {
      "image/png": "[encoded data removed]",
      "text/plain": [
       "<Figure size 1080x360 with 2 Axes>"
      ]
     },
     "metadata": {},
     "output_type": "display_data"
    },
    {
     "name": "stdout",
     "output_type": "stream",
     "text": [
      "Корреляция между продажами игр на PlayStation 4 и отзывами пользователей: -0.04013158947269736\n",
      "Корреляция между продажами игр на PlayStation 4 и отзывами критиков: 0.40266141068104083\n"
     ]
    }
   ],
   "source": [
    "plt.subplots(figsize=(15, 5))\n",
    "plt.suptitle('Влияние отзывов на количество продаж игр для PlayStation 4')\n",
    "plt.subplot(1, 2, 1)\n",
    "sns.scatterplot(data=data_actual.query('platform == \"PS4\"'), x='total_sales', y='user_score', alpha=.6, s=50)\n",
    "#plt.legend(labels = ['Оценка пользователей'])\n",
    "plt.xlim(0, 1.5)\n",
    "plt.ylim(0, 100)\n",
    "plt.title('Оценка пользователей')\n",
    "plt.xlabel('млн проданных копий')\n",
    "plt.ylabel('Оценка от 0 до 100')\n",
    "\n",
    "\n",
    "plt.subplot(1, 2, 2)\n",
    "sns.scatterplot(data=data_actual.query('platform == \"PS4\"'), x='total_sales', y='critic_score', alpha=.6, s=50, color='C1')\n",
    "#plt.legend(labels = ['Оценка критиков'])\n",
    "plt.xlim(0, 1.5)\n",
    "plt.ylim(0, 100)\n",
    "plt.title('Оценка критиков')\n",
    "plt.xlabel('млн проданных копий')\n",
    "plt.ylabel('Оценка от 0 до 100')\n",
    "plt.show()\n",
    "\n",
    "\n",
    "print('Корреляция между продажами игр на PlayStation 4 и отзывами пользователей:', data_actual.query('platform == \"PS4\"')['total_sales'].corr(data_actual.query('platform == \"PS4\"')['user_score']))\n",
    "print('Корреляция между продажами игр на PlayStation 4 и отзывами критиков:', data_actual.query('platform == \"PS4\"')['total_sales'].corr(data_actual.query('platform == \"PS4\"')['critic_score']))"
   ]
  },
  {
   "cell_type": "markdown",
   "metadata": {},
   "source": [
    "**Вывод:** корреляция между оценкой критиков и количеством продаж довольно неплохо прослеживается. Тогда как пользовательские оценки распределены более хаотично, а коэффициент корреляции близок к нулю."
   ]
  },
  {
   "cell_type": "code",
   "execution_count": 35,
   "metadata": {},
   "outputs": [
    {
     "data": {
      "image/png": "[encoded data removed]",
      "text/plain": [
       "<Figure size 1080x360 with 2 Axes>"
      ]
     },
     "metadata": {},
     "output_type": "display_data"
    },
    {
     "name": "stdout",
     "output_type": "stream",
     "text": [
      "Корреляция между продажами игр на Xbox One и отзывами пользователей: -0.07038392806475827\n",
      "Корреляция между продажами игр на Xbox One и отзывами критиков: 0.42867694370333226\n"
     ]
    }
   ],
   "source": [
    "plt.subplots(figsize=(15, 5))\n",
    "plt.suptitle('Влияние отзывов на количество продаж игр для Xbox One')\n",
    "plt.subplot(1, 2, 1)\n",
    "sns.scatterplot(data=data_actual.query('platform == \"XOne\"'), x='total_sales', y='user_score', alpha=.6, s=50)\n",
    "#plt.legend(labels = ['Оценка пользователей'])\n",
    "plt.xlim(0, 3)\n",
    "plt.ylim(0, 100)\n",
    "plt.title('Оценка пользователей')\n",
    "plt.xlabel('млн проданных копий')\n",
    "plt.ylabel('Оценка от 0 до 100')\n",
    "\n",
    "\n",
    "plt.subplot(1, 2, 2)\n",
    "sns.scatterplot(data=data_actual.query('platform == \"XOne\"'), x='total_sales', y='critic_score', alpha=.6, s=50, color='C1')\n",
    "#plt.legend(labels = ['Оценка критиков'])\n",
    "plt.xlim(0, 3)\n",
    "plt.ylim(0, 100)\n",
    "plt.title('Оценка критиков')\n",
    "plt.xlabel('млн проданных копий')\n",
    "plt.ylabel('Оценка от 0 до 100')\n",
    "plt.show()\n",
    "\n",
    "\n",
    "print('Корреляция между продажами игр на Xbox One и отзывами пользователей:', data_actual.query('platform == \"XOne\"')['total_sales'].corr(data_actual.query('platform == \"XOne\"')['user_score']))\n",
    "print('Корреляция между продажами игр на Xbox One и отзывами критиков:', data_actual.query('platform == \"XOne\"')['total_sales'].corr(data_actual.query('platform == \"XOne\"')['critic_score']))"
   ]
  },
  {
   "cell_type": "markdown",
   "metadata": {},
   "source": [
    "**Вывод:** ситуация схожая с PlayStation 4 - оценки критиков оказывают влияние на продажи, а пользовательские оценки - нет.\n",
    "\n",
    "Теперь рассмотри сразу все актуальные платформы."
   ]
  },
  {
   "cell_type": "code",
   "execution_count": 36,
   "metadata": {},
   "outputs": [
    {
     "data": {
      "image/png": "[encoded data removed]",
      "text/plain": [
       "<Figure size 1080x360 with 2 Axes>"
      ]
     },
     "metadata": {},
     "output_type": "display_data"
    },
    {
     "name": "stdout",
     "output_type": "stream",
     "text": [
      "Корреляция между продажами игр и отзывами пользователей: -0.013070305002484541\n",
      "Корреляция между продажами игр и отзывами критиков: 0.328105086966363\n"
     ]
    }
   ],
   "source": [
    "plt.subplots(figsize=(15, 5))\n",
    "plt.suptitle('Влияние отзывов на количество продаж игр для всех актуальных платформ')\n",
    "plt.subplot(1, 2, 1)\n",
    "sns.scatterplot(data=data_actual, x='total_sales', y='user_score', alpha=.25, s=30)\n",
    "#plt.legend(labels = ['Оценка пользователей'])\n",
    "plt.xlim(0, 3)\n",
    "plt.ylim(0, 100)\n",
    "plt.title('Оценка пользователей')\n",
    "plt.xlabel('млн проданных копий')\n",
    "plt.ylabel('Оценка от 0 до 100')\n",
    "\n",
    "\n",
    "plt.subplot(1, 2, 2)\n",
    "sns.scatterplot(data=data_actual, x='total_sales', y='critic_score', alpha=.25, s=30, color='C1')\n",
    "#plt.legend(labels = ['Оценка критиков'])\n",
    "plt.xlim(0, 3)\n",
    "plt.ylim(0, 100)\n",
    "plt.title('Оценка критиков')\n",
    "plt.xlabel('млн проданных копий')\n",
    "plt.ylabel('Оценка от 0 до 100')\n",
    "plt.show()\n",
    "\n",
    "\n",
    "print('Корреляция между продажами игр и отзывами пользователей:', data_actual['total_sales'].corr(data_actual['user_score']))\n",
    "print('Корреляция между продажами игр и отзывами критиков:', data_actual['total_sales'].corr(data_actual['critic_score']))"
   ]
  },
  {
   "cell_type": "markdown",
   "metadata": {},
   "source": [
    "**Вывод:** если брать в расчет данные сразу по всем актуальным платформам (**XOne, X360, WiiU, Wii, PSV, PS4, PS3, PC, 3DS**), то ситуация с пользовательскими оценками сохранилась - корреляция близка к нулю. Но, в свою очередь, зависимость между продажами и оценками критиков немного снизилась. По всей видимости, критики ставящие оценки для игр PlayStation 4 и Xbox One оказывают большее влияние на продажи, чем все критики вместе взятые на бóльшую часть игровой индустрии."
   ]
  },
  {
   "cell_type": "markdown",
   "metadata": {},
   "source": [
    "### Прибыльность различных жанров"
   ]
  },
  {
   "cell_type": "markdown",
   "metadata": {},
   "source": [
    "Для начала рассмотрим, распределение жанров по количеству игр"
   ]
  },
  {
   "cell_type": "code",
   "execution_count": 37,
   "metadata": {},
   "outputs": [
    {
     "data": {
      "image/png": "[encoded data removed]",
      "text/plain": [
       "<Figure size 432x288 with 1 Axes>"
      ]
     },
     "metadata": {},
     "output_type": "display_data"
    }
   ],
   "source": [
    "(\n",
    "    data_actual\n",
    "    .pivot_table(index='genre', aggfunc={'name': 'count'})\n",
    "    .sort_values(by='name')\n",
    "    .plot(kind='barh', alpha=0.75, legend=False)\n",
    ")\n",
    "plt.title('Распределение игр по жанрам')\n",
    "plt.grid(axis='y')\n",
    "plt.xlabel('количество игр')\n",
    "plt.ylabel('')\n",
    "plt.show()"
   ]
  },
  {
   "cell_type": "markdown",
   "metadata": {},
   "source": [
    "**Вывод:** самым популярным жанром по количеству выпущенных игр является **action**, далее идет **role-playing** и **adventure**. Самым редко встречающимся жанров является - **puzzle**.\n",
    "\n",
    "Если мы возьмем суммарные продажи по жанрам, то вид распределения не сильно поменяется. Поэтому рассмотрим медианные продажи по каждому жанру."
   ]
  },
  {
   "cell_type": "code",
   "execution_count": 38,
   "metadata": {},
   "outputs": [
    {
     "data": {
      "image/png": "[encoded data removed]",
      "text/plain": [
       "<Figure size 432x288 with 1 Axes>"
      ]
     },
     "metadata": {},
     "output_type": "display_data"
    }
   ],
   "source": [
    "(\n",
    "    data_actual\n",
    "    .pivot_table(index='genre', aggfunc={'total_sales': 'median'})\n",
    "    .sort_values(by='total_sales')\n",
    "    .plot(kind='barh', alpha=0.75, legend=False)\n",
    ")\n",
    "plt.title('Медианное количество продаж в зависимости от жанра')\n",
    "plt.grid(axis='y')\n",
    "plt.xlabel('млн проданных копий')\n",
    "plt.ylabel('')\n",
    "plt.show()"
   ]
  },
  {
   "cell_type": "markdown",
   "metadata": {},
   "source": [
    "**Вывод:** здесь расклад поменялся. **шутер** - не самый распространенный жанр, но медианное число продаж у него самое высокое, более чем в 2.5 раза большее чем у ближайшего конкурента. Это вызвано тем, больше количество масштабных блокбастеров выходят как раз в этом жанре. Далее идут **спортивные игры** и **платформеры**.<br>\n",
    "Самыми неохотно продающимися жанрами являются **стратегии**, **головоломки** и **квесты**."
   ]
  },
  {
   "cell_type": "markdown",
   "metadata": {},
   "source": [
    "## Портрет пользователя каждого региона"
   ]
  },
  {
   "cell_type": "code",
   "execution_count": 39,
   "metadata": {},
   "outputs": [],
   "source": [
    "# Заполняем пропуски в столбце 'rating' строковым значением 'None'\n",
    "# для отображения этих данных на диаграммах\n",
    "data_actual['rating'].fillna(value='None', inplace=True)"
   ]
  },
  {
   "cell_type": "code",
   "execution_count": 40,
   "metadata": {},
   "outputs": [],
   "source": [
    "# Составляем словарь для понятных подписей диаграмм\n",
    "# Порядок элементов словаря влияет на порядок отрисовки диаграмм\n",
    "regions_name = {\n",
    "    'eu_sales': 'Европа', \n",
    "    'na_sales': 'Северная\\nАмерика',\n",
    "    'jp_sales': 'Япония'\n",
    "}\n",
    "\n",
    "# Функция для отрисовки круговых диаграмм\n",
    "def pie_regions(group, title, top=True):\n",
    "    # Формируем табличку по указанному признаку для каждой платформы в каждом регионе\n",
    "    data_actual_group = data_actual.pivot_table(index=group, aggfunc={'eu_sales': 'sum', 'jp_sales': 'sum', 'na_sales': 'sum',})\n",
    "\n",
    "    # Формируем список цветов для того, что бы цветовая схема совпадала на разных диаграммах\n",
    "    colours = pd.Series(range(len(data_actual_group)), index=data_actual_group.index)\n",
    "    colours = colours.append(pd.Series(len(colours), index=['other']))\n",
    "\n",
    "    fig, axes = plt.subplots(1, 3, figsize=(15,5))\n",
    "    fig.suptitle(title)\n",
    "    for ax, col in zip(axes, regions_name.keys()):\n",
    "        # Формируем series для каждого региона\n",
    "        top5 = data_actual_group[col].sort_values(ascending=False)\n",
    "        if top:\n",
    "            # Элементы не входящие в топ-5 суммируются между собой\n",
    "            top5 = pd.concat([top5[:5], pd.Series(top5[5:].sum(), index=['other'])])\n",
    "        ax.pie(\n",
    "            x=top5, \n",
    "            labels=top5.index, \n",
    "            autopct='%.1f%%', \n",
    "            startangle = 90, \n",
    "            pctdistance=.8, \n",
    "            wedgeprops={'width': .4}, \n",
    "            colors=[plt.cm.tab20.colors[colours.loc[key]] for key in top5.index]\n",
    "        )\n",
    "        ax.set(title='', xlabel='', ylabel='')\n",
    "        ax.text(0,0, regions_name.get(col), horizontalalignment='center', verticalalignment='center', fontweight='bold')\n",
    "    \n",
    "    plt.show()"
   ]
  },
  {
   "cell_type": "markdown",
   "metadata": {},
   "source": [
    "### Самые популярные платформы (топ-5)"
   ]
  },
  {
   "cell_type": "code",
   "execution_count": 41,
   "metadata": {},
   "outputs": [
    {
     "data": {
      "image/png": "[encoded data removed]",
      "text/plain": [
       "<Figure size 1080x360 with 3 Axes>"
      ]
     },
     "metadata": {},
     "output_type": "display_data"
    }
   ],
   "source": [
    "pie_regions('platform', 'Самые популярные платформы (топ-5)')"
   ]
  },
  {
   "cell_type": "markdown",
   "metadata": {},
   "source": [
    "**Вывод:** в Европе самой популярной игровой платформой является **PlayStation 4**, практически каждая вторая проданная игра приходится именно на неё. Второе место с 17% продаж занимает **Xbox One**.<br>\n",
    "В Северной Америке лидеры те же, но **PlayStation 4** забирает на себя 34.7% продаж, а **Xbox One** 28.6%. Что интересно, в Европе и Америке общая доля продаж, приходящаяся в сумме на эти две консоли вместе взятые, примерно одинаковая, в районе 63-65%. <br>\n",
    "Рынок Японии довольно сильно отличается от остальных регионов, здесь почти половину рынка занимает **Nintendo 3DS**. А в сумме 63.4% всех продаж видеоигр приходится на портативные консоли (3DS и PSVita). **PlayStation 4** здесь занимает 16.2%, а **Xbox One** вовсе практически не встречается.<br>\n",
    "Игры для **ПК** входят в топ-5 только в Европе, в остальных регионах представлены реже."
   ]
  },
  {
   "cell_type": "markdown",
   "metadata": {},
   "source": [
    "### Самые популярные жанры (топ-5)"
   ]
  },
  {
   "cell_type": "code",
   "execution_count": 42,
   "metadata": {},
   "outputs": [
    {
     "data": {
      "image/png": "[encoded data removed]",
      "text/plain": [
       "<Figure size 1080x360 with 3 Axes>"
      ]
     },
     "metadata": {},
     "output_type": "display_data"
    }
   ],
   "source": [
    "pie_regions('genre', 'Самые популярные жанры (топ-5)')"
   ]
  },
  {
   "cell_type": "markdown",
   "metadata": {},
   "source": [
    "**Вывод:** предпочтения пользователей из Европы и Америки в целом похожи. В Европе лидером является жанр **action**, затем идет **shooter**, а Америке - наоборот. Первые 4 позиции в топе одинаковые.<br>\n",
    "Японский пользователь отличается от геймеров из других регионов - здесь самым популярным жанром является **role-playing**, второе место занимает **action**.  А жанр **shooter**, занимающий лидирующие места по популярности в других регионах, здесь находится только на 5 месте."
   ]
  },
  {
   "cell_type": "markdown",
   "metadata": {},
   "source": [
    "### Влияние возрастного рейтинга ESRB на количество продаж"
   ]
  },
  {
   "cell_type": "markdown",
   "metadata": {},
   "source": [
    "- `EC` («Early childhood») — Для детей младшего возраста\n",
    "- `E` («Everyone») — Для всех\n",
    "- `E10+` («Everyone 10 and older») — Для всех от 10 лет и старше\n",
    "- `T` («Teen») — Подросткам (для лиц от 13 лет)\n",
    "- `M` («Mature») — Для взрослых (для лиц от 17 лет)\n",
    "- `AO` («Adults Only 18+») — Только для взрослых (для лиц от 18 лет)"
   ]
  },
  {
   "cell_type": "code",
   "execution_count": 43,
   "metadata": {},
   "outputs": [
    {
     "data": {
      "image/png": "[encoded data removed]",
      "text/plain": [
       "<Figure size 1080x360 with 3 Axes>"
      ]
     },
     "metadata": {},
     "output_type": "display_data"
    }
   ],
   "source": [
    "pie_regions('rating', 'Распределение игр с различными рейтингами по регионам', top=False)"
   ]
  },
  {
   "cell_type": "markdown",
   "metadata": {},
   "source": [
    "**Вывод:** для начала заметим, что рейтинг `AO` вообще не встречается в нашей выборке, по всей видимости его присваивают в исключительных случаях.<br>\n",
    "Ситуация вырисовывается следующая - Европа и Северная Америка здесь вновь практически одинаковы - наибольшие продажи у игр с рейтингом `M` (для лиц от 17 лет). Там взрослый рейтинг не отпугивает, а наоборот, притягивает игроков. А доля игр без рейтинга составляет примерно 20-21%.<br>\n",
    "В Японии же 60% продаж приходится на игры без возрастного рейтинга ESRB. Могу предположить, что из-за общей специфичности японского рынка там выходит большое количество локальных релизов, не представленных массово в других регионах, поэтому такие релизы не попадают на сертификацию к американской организации ESRB. В Японии существуют собственные организации, занимающиеся присвоением возрастных рейтингов для игр, такие как CERO и EOCS. С рейтингом `M` от ESRB, который в других регионах лидирует по продажам, в Японии продается только каждая одиннадцатая игра.\n",
    "\n",
    "Не стоит забывать, что отсутсвие рейтинга не говорит о том, что игра не проходила сертификацию ESRB. Отсутсвие данного показателя может быть вызвано ошибкой при выгрузке данных или банальным чловеческим фактором."
   ]
  },
  {
   "cell_type": "markdown",
   "metadata": {},
   "source": [
    "## Проверка гипотез"
   ]
  },
  {
   "cell_type": "markdown",
   "metadata": {},
   "source": [
    "### Средние пользовательские рейтинги платформ Xbox One и PC одинаковые"
   ]
  },
  {
   "cell_type": "markdown",
   "metadata": {},
   "source": [
    "*Проверка гипотезы:* средние пользовательские рейтинги платформ Xbox One и PC одинаковые.\n",
    "\n",
    "**H0:** средние пользовательские рейтинги платформ Xbox One и PC **одинаковые**.<br>\n",
    "**H1:** средние пользовательские рейтинги платформ Xbox One и PC **разные**."
   ]
  },
  {
   "cell_type": "code",
   "execution_count": 44,
   "metadata": {},
   "outputs": [
    {
     "name": "stdout",
     "output_type": "stream",
     "text": [
      "p-value: 0.10450507919348478\n",
      "Нет оснований отвергнуть нулевую гипотезу\n",
      "\n",
      "Средний пользовательский рейтинг игр Xbox One на выборке из 165 оценок: 65.95\n",
      "Средний пользовательский рейтинг игр PC на выборке из 122 оценок: 62.98\n"
     ]
    }
   ],
   "source": [
    "user_score_xone = data_actual.query('platform == \"XOne\" and not user_score.isna()')['user_score']\n",
    "user_score_pc = data_actual.query('platform == \"PC\" and not user_score.isna()')['user_score']\n",
    "hypothesis_1 = st.ttest_ind(user_score_xone, user_score_pc)\n",
    "\n",
    "print('p-value:', hypothesis_1.pvalue)\n",
    "\n",
    "if hypothesis_1.pvalue < .05:\n",
    "    print('Отвергаем нулевую гипотезу')\n",
    "else:\n",
    "    print('Нет оснований отвергнуть нулевую гипотезу')\n",
    "\n",
    "print(f'\\nСредний пользовательский рейтинг игр Xbox One на выборке из {user_score_xone.count()} оценок:', user_score_xone.mean().round(2))\n",
    "print(f'Средний пользовательский рейтинг игр PC на выборке из {user_score_pc.count()} оценок:', user_score_pc.mean().round(2))"
   ]
  },
  {
   "cell_type": "markdown",
   "metadata": {},
   "source": [
    "**Вывод:** нулевая гипотеза о равенстве средних пользовательских оценок для платформ Xbox One и PC не отвергается. Есть основания утверждать, что средние пользовательские рейтинги на этих платформах совпадают."
   ]
  },
  {
   "cell_type": "markdown",
   "metadata": {},
   "source": [
    "### Средние пользовательские рейтинги жанров Action и Sports разные"
   ]
  },
  {
   "cell_type": "markdown",
   "metadata": {},
   "source": [
    "*Проверка гипотезы:* средние пользовательские рейтинги жанров Action и Sports разные.\n",
    "\n",
    "**H0:** средние пользовательские рейтинги жанров Action и Sports **одинаковые**.<br>\n",
    "**H1:** средние пользовательские рейтинги жанров Action и Sports **разные**."
   ]
  },
  {
   "cell_type": "code",
   "execution_count": 45,
   "metadata": {},
   "outputs": [
    {
     "name": "stdout",
     "output_type": "stream",
     "text": [
      "p-value: 2.871114798510669e-19\n",
      "Отвергаем нулевую гипотезу\n",
      "\n",
      "Средний пользовательский рейтинг жанра Action на выборке из 297 оценок: 67.61\n",
      "Средний пользовательский рейтинг жанра Sports на выборке из 127 оценок: 52.25\n"
     ]
    }
   ],
   "source": [
    "user_score_action = data_actual.query('genre == \"Action\" and not user_score.isna()')['user_score']\n",
    "user_score_sports = data_actual.query('genre == \"Sports\" and not user_score.isna()')['user_score']\n",
    "hypothesis_1 = st.ttest_ind(user_score_action, user_score_sports)\n",
    "\n",
    "print('p-value:', hypothesis_1.pvalue)\n",
    "\n",
    "if hypothesis_1.pvalue < .05:\n",
    "    print('Отвергаем нулевую гипотезу')\n",
    "else:\n",
    "    print('Нет оснований отвергнуть нулевую гипотезу')\n",
    "\n",
    "print(f'\\nСредний пользовательский рейтинг жанра Action на выборке из {user_score_action.count()} оценок:', user_score_action.mean().round(2))\n",
    "print(f'Средний пользовательский рейтинг жанра Sports на выборке из {user_score_sports.count()} оценок:', user_score_sports.mean().round(2))"
   ]
  },
  {
   "cell_type": "markdown",
   "metadata": {},
   "source": [
    "**Вывод:** нулевая гипотеза о равенстве средних пользовательских рейтингов у жанров Action и Sports отвергается. Есть основания утверждать, что средние пользовательские рейтинги у данных жанров отличаются."
   ]
  },
  {
   "cell_type": "markdown",
   "metadata": {},
   "source": [
    "### Ответы на вопросы"
   ]
  },
  {
   "cell_type": "markdown",
   "metadata": {},
   "source": [
    "***В:** Как вы сформулировали нулевую и альтернативную гипотезы?*<br>\n",
    "**О:** В обоих случаях мы использовали двустороннюю гипотезу о равенстве средних двух генеральных совокупностей.<br>\n",
    "В этом случае нулевая и альтернативная гипотезы формулируются по следующему паттерну:\n",
    "- **H0:** среднее значение первой генеральной совокупности **равно** среднему значению второй генеральной совокупности.\n",
    "- **H1:** среднее значение первой генеральной совокупности **не равно** среднему значению второй генеральной совокупности.\n",
    "\n",
    "\n",
    "<br>***В:** Какой критерий применили для проверки гипотез и почему?*<br>\n",
    "**О:** Для проверки гипотез параметр `p-value` (вероятность при верной нулевой гипотезе получить наблюдаемое значение или более удалённое от того, которое мы предположили в H0) сравнивается с `alpha` *уровнем статистической значимости* (порог, выраженный в процентах, при котором отклонение можно считать значимым, а не случайным).<br>\n",
    "Такое сравнение позволяет либо отвергнуть H0 в пользу H1, либо не отвергнуть."
   ]
  },
  {
   "cell_type": "markdown",
   "metadata": {},
   "source": [
    "## Общий вывод"
   ]
  },
  {
   "cell_type": "markdown",
   "metadata": {},
   "source": [
    "**В рамках проведения исследования было выполнено:**\n",
    "1. Произведена предобработка данных, а именно: удалены пропуски (где это было возможно) и дубликаты.\n",
    "2. Проанализированы ключевые параметры, построены графики.\n",
    "3. Выделены актуальные игровые платформы; а среди актуальных наиболее перспективные.\n",
    "4. Определено влияние оценок пользователей и критиков на продажи.\n",
    "5. Определены наиболее популярные и прибыльные жанры.\n",
    "6. Произведено сравнение портретов пользователей из различных регионов, определены сходства и основные различия.\n",
    "7. Проверены статистические гипотезы.\n",
    "\n",
    "**Краткие выводы, резюмирующие проведенное исследование и отражающие его основные результаты:**\n",
    "1. С **1994-1995** годов начался бурный рост отросли видеоигр. По количеству выпускаемых игр в год пик наблюдался в **2008-2009**, далее этот показатель начал постепенно снижаться.\n",
    "2. По количеству выпущенных игр лидируют две платформы: **PlayStation 2** и **Nintendo DS** (более чем 2100 релизов на каждую). Тройку лидеров замыкает **PlayStation 3** (около 1300 игр).\n",
    "3. На 2016 год продолжают появляться новые игры для 9 платформ: **XOne, X360, WiiU, Wii, PSV, PS4, PS3, PC, 3DS**.\n",
    "4. Средний период жизни **ныне не актуальных** платформ составляет около **7 лет**.\n",
    "5. По продажам игр лидируют: **XBOX 360** и **PlayStation 3**, на каждую из этих консолей продано почти по миллиарду игровых копий.\n",
    "6. Наиболее перспективными в плане потенциального роста являются **PlayStation 4** и **Xbox One**.\n",
    "7. По медианному количеству продаж лидером являются **Xbox One**, далее следуют **WiiU** и **PS4**.\n",
    "8. **Оценки критиков** могут оказывать небольшое или даже среднее влияние на количество продаж. **Оценки пользователей**, как правило, на продажи не влияют.\n",
    "9. Самым распространенным жанром является **Action**. А наибольшие медианные продажи имеет жанр **Shooter**.\n",
    "10. Поведение пользователей **Европы** и **Северной Америки** во многом схожи. **Японский пользователь** от них отличается - значительно большим интересом к портативным консолям; национальной любовью к Nintendo; относительным равнодушием к популярному в других регионах жанру **Shooter**.\n",
    "11. В **Европе** и **Северной Америке** преобладают игры с рейтингом `M` (для лиц от 17 лет). В Японии подавляющее большинство игр выходят без сертификации ESRB.\n",
    "12. Есть основания утверждать, что средние пользовательские рейтинги на платформах **Xbox One** и **PC** совпадают.\n",
    "13. Есть основания утверждать, что средние пользовательские рейтинги у жанров **Action** и **Sports** отличаются.\n",
    "\n",
    "<br><br>*Итого, перечислим некоторые конкретные рекомендации для максимизации вероятности успеха потенциального продукта:*\n",
    "- **Выбор платформы**:\n",
    "    1. Если делается ставка на эксклюзивный продукт для одной платформы, то лучшим претендентом будет **PlayStation 4**. На данную консоль во всех регионах, и кроме Японии, продается больше всего игр.\n",
    "    2. Если продукт планируется выпускать на нескольких платформах, то к **PlayStation 4** определенно стоит добавить версию для **Xbox One**. Две данные консоли вместе взятые в Европе и Северной Америке забирают на себя более 63% всех продаж видеоигр. Но консоль от microsoft практически не представлена в Японии. Хороший плюс платформы **Xbox One**, это самый высокий показатель медианных продаж. Скорее всего это связано с меньшей конкуренцией, чем на более популярной PlayStation 4.\n",
    "    3. Если делается ставка на японский рынок или же на игры для портативных консолей в целом, то определенно стоит обратить внимание на платформу **Nintendo 3DS**. В Японии она занимает практически половину рынка продаж всех видеоигр. К тому же разработка игр под портативную консоль обойдется дешевле, чем под стационарную. Данная платформа, если ее сравнивать со всеми другими игровыми системами, не пользуется большим спросом в Европе и Америке, но все же входит в топ-5, и забирает на себя примерно 6-8% всех продаж. Но среди именно портативных консолей она будет лучшим выбором для всех регионов. Минусом данного выбора является то, что у данной платформы наблюдается тенденция к сокращению продаж. Это не позволит планировать сложный и долгий в разработке проект под нее.\n",
    "<br><br>\n",
    "- **Выбор жанра**:\n",
    "    1. **Shooter** один из наиболее успешных жанров. По количеству всех продаж он занимает примерно четверть всего объема рынка в Европе и  Северной Америке. Его огромным плюсом также является то, что его медианные продажи превышают продажи ближайших конкурентов в 2.5 раза. Единственное, что на японском рынке он менее популярен, чем в других регионах, занимая всего около 5% рынка.\n",
    "    2. **Action** так же является отличным выбором. Медианные продажи ниже, чем у шутеров, но зато сам по себе жанр так же популярен в Европе и Америке, плюс в Японии примерно каждая третья игра выходит именно в жанре экшен.\n",
    "<br><br>\n",
    "- **Выбор возрастного рейтинга ESRB**: в Европе и Северной Америке наибольшие продажи у игр со взрослым рейтингом `M` (для лиц от 17 лет). В Японии с данным рейтингом продается только 9% игр. Так же хорошим универсальным решением является выбор рейтинга `E` (Для всех), с данным рейтингом в Европе и Америке продается примерно 18-21% игр, а в Японии 10%.\n",
    "<br><br>\n",
    "- **Оценки критиков**: так же не помешает учитывать тот факт, что оценки критиков оказывают некоторое влияние на успешность продаж. И для максимизации продаж необходимо, что бы оценки эти были в больше степени положительные."
   ]
  }
 ],
 "metadata": {
  "ExecuteTimeLog": [
   {
    "duration": 1262,
    "start_time": "2024-01-27T17:15:00.908Z"
   },
   {
    "duration": 104,
    "start_time": "2024-01-27T17:15:02.172Z"
   },
   {
    "duration": 48,
    "start_time": "2024-01-27T17:15:02.278Z"
   },
   {
    "duration": 32,
    "start_time": "2024-01-27T17:15:02.328Z"
   },
   {
    "duration": 86,
    "start_time": "2024-01-27T17:15:02.362Z"
   },
   {
    "duration": 10,
    "start_time": "2024-01-27T17:15:02.450Z"
   },
   {
    "duration": 53,
    "start_time": "2024-01-27T17:15:02.462Z"
   },
   {
    "duration": 8,
    "start_time": "2024-01-27T17:15:02.517Z"
   },
   {
    "duration": 22358,
    "start_time": "2024-01-27T17:15:02.527Z"
   },
   {
    "duration": 38,
    "start_time": "2024-01-27T17:15:24.887Z"
   },
   {
    "duration": 13,
    "start_time": "2024-01-27T17:15:24.927Z"
   },
   {
    "duration": 12,
    "start_time": "2024-01-27T17:15:24.941Z"
   },
   {
    "duration": 7,
    "start_time": "2024-01-27T17:15:24.955Z"
   },
   {
    "duration": 42,
    "start_time": "2024-01-27T17:15:24.963Z"
   },
   {
    "duration": 5,
    "start_time": "2024-01-27T17:15:25.007Z"
   },
   {
    "duration": 8,
    "start_time": "2024-01-27T17:15:25.023Z"
   },
   {
    "duration": 24048,
    "start_time": "2024-01-27T17:15:25.032Z"
   },
   {
    "duration": 17,
    "start_time": "2024-01-27T17:15:49.082Z"
   },
   {
    "duration": 28,
    "start_time": "2024-01-27T17:15:49.101Z"
   },
   {
    "duration": 14,
    "start_time": "2024-01-27T17:15:49.130Z"
   },
   {
    "duration": 23,
    "start_time": "2024-01-27T17:15:49.145Z"
   },
   {
    "duration": 429,
    "start_time": "2024-01-27T17:15:49.170Z"
   },
   {
    "duration": 291,
    "start_time": "2024-01-27T17:15:49.600Z"
   },
   {
    "duration": 8,
    "start_time": "2024-01-27T17:15:49.893Z"
   },
   {
    "duration": 320,
    "start_time": "2024-01-27T17:15:49.903Z"
   },
   {
    "duration": 6,
    "start_time": "2024-01-27T17:15:50.225Z"
   },
   {
    "duration": 36,
    "start_time": "2024-01-27T17:15:50.232Z"
   },
   {
    "duration": 203,
    "start_time": "2024-01-27T17:15:50.271Z"
   },
   {
    "duration": 7,
    "start_time": "2024-01-27T17:15:50.476Z"
   },
   {
    "duration": 61,
    "start_time": "2024-01-27T17:15:50.485Z"
   },
   {
    "duration": 296,
    "start_time": "2024-01-27T17:15:50.548Z"
   },
   {
    "duration": 422,
    "start_time": "2024-01-27T17:15:50.845Z"
   },
   {
    "duration": 66,
    "start_time": "2024-01-27T17:15:51.268Z"
   },
   {
    "duration": 495,
    "start_time": "2024-01-27T17:15:51.336Z"
   },
   {
    "duration": 425,
    "start_time": "2024-01-27T17:15:51.833Z"
   },
   {
    "duration": 382,
    "start_time": "2024-01-27T17:15:52.260Z"
   },
   {
    "duration": 231,
    "start_time": "2024-01-27T17:15:52.645Z"
   },
   {
    "duration": 210,
    "start_time": "2024-01-27T17:15:52.878Z"
   },
   {
    "duration": 344,
    "start_time": "2024-01-27T17:15:53.090Z"
   },
   {
    "duration": 442,
    "start_time": "2024-01-27T17:15:53.436Z"
   },
   {
    "duration": 317,
    "start_time": "2024-01-27T17:15:53.880Z"
   },
   {
    "duration": 15,
    "start_time": "2024-01-27T17:15:54.198Z"
   },
   {
    "duration": 21,
    "start_time": "2024-01-27T17:15:54.214Z"
   },
   {
    "duration": 1115,
    "start_time": "2024-01-28T07:16:52.328Z"
   },
   {
    "duration": 54,
    "start_time": "2024-01-28T07:16:53.445Z"
   },
   {
    "duration": 19,
    "start_time": "2024-01-28T07:16:53.500Z"
   },
   {
    "duration": 14,
    "start_time": "2024-01-28T07:16:53.522Z"
   },
   {
    "duration": 79,
    "start_time": "2024-01-28T07:16:53.537Z"
   },
   {
    "duration": 7,
    "start_time": "2024-01-28T07:16:53.618Z"
   },
   {
    "duration": 42,
    "start_time": "2024-01-28T07:16:53.627Z"
   },
   {
    "duration": 11,
    "start_time": "2024-01-28T07:16:53.671Z"
   },
   {
    "duration": 20306,
    "start_time": "2024-01-28T07:16:53.684Z"
   },
   {
    "duration": 25,
    "start_time": "2024-01-28T07:17:13.993Z"
   },
   {
    "duration": 26,
    "start_time": "2024-01-28T07:17:14.019Z"
   },
   {
    "duration": 8,
    "start_time": "2024-01-28T07:17:14.046Z"
   },
   {
    "duration": 10,
    "start_time": "2024-01-28T07:17:14.056Z"
   },
   {
    "duration": 24,
    "start_time": "2024-01-28T07:17:14.067Z"
   },
   {
    "duration": 5,
    "start_time": "2024-01-28T07:17:14.093Z"
   },
   {
    "duration": 8,
    "start_time": "2024-01-28T07:17:14.099Z"
   },
   {
    "duration": 21901,
    "start_time": "2024-01-28T07:17:14.108Z"
   },
   {
    "duration": 16,
    "start_time": "2024-01-28T07:17:36.010Z"
   },
   {
    "duration": 15,
    "start_time": "2024-01-28T07:17:36.027Z"
   },
   {
    "duration": 31,
    "start_time": "2024-01-28T07:17:36.043Z"
   },
   {
    "duration": 20,
    "start_time": "2024-01-28T07:17:36.076Z"
   },
   {
    "duration": 387,
    "start_time": "2024-01-28T07:17:36.097Z"
   },
   {
    "duration": 270,
    "start_time": "2024-01-28T07:17:36.486Z"
   },
   {
    "duration": 11,
    "start_time": "2024-01-28T07:17:36.765Z"
   },
   {
    "duration": 318,
    "start_time": "2024-01-28T07:17:36.778Z"
   },
   {
    "duration": 6,
    "start_time": "2024-01-28T07:17:37.097Z"
   },
   {
    "duration": 16,
    "start_time": "2024-01-28T07:17:37.105Z"
   },
   {
    "duration": 208,
    "start_time": "2024-01-28T07:17:37.125Z"
   },
   {
    "duration": 8,
    "start_time": "2024-01-28T07:17:37.335Z"
   },
   {
    "duration": 62,
    "start_time": "2024-01-28T07:17:37.344Z"
   },
   {
    "duration": 247,
    "start_time": "2024-01-28T07:17:37.408Z"
   },
   {
    "duration": 368,
    "start_time": "2024-01-28T07:17:37.657Z"
   },
   {
    "duration": 52,
    "start_time": "2024-01-28T07:17:38.027Z"
   },
   {
    "duration": 435,
    "start_time": "2024-01-28T07:17:38.081Z"
   },
   {
    "duration": 380,
    "start_time": "2024-01-28T07:17:38.518Z"
   },
   {
    "duration": 373,
    "start_time": "2024-01-28T07:17:38.900Z"
   },
   {
    "duration": 216,
    "start_time": "2024-01-28T07:17:39.275Z"
   },
   {
    "duration": 208,
    "start_time": "2024-01-28T07:17:39.493Z"
   },
   {
    "duration": 336,
    "start_time": "2024-01-28T07:17:39.702Z"
   },
   {
    "duration": 371,
    "start_time": "2024-01-28T07:17:40.039Z"
   },
   {
    "duration": 284,
    "start_time": "2024-01-28T07:17:40.412Z"
   },
   {
    "duration": 14,
    "start_time": "2024-01-28T07:17:40.697Z"
   },
   {
    "duration": 11,
    "start_time": "2024-01-28T07:17:40.713Z"
   },
   {
    "duration": 1217,
    "start_time": "2024-01-30T17:51:01.791Z"
   },
   {
    "duration": 56,
    "start_time": "2024-01-30T17:51:03.010Z"
   },
   {
    "duration": 88,
    "start_time": "2024-01-30T17:51:03.068Z"
   },
   {
    "duration": 20,
    "start_time": "2024-01-30T17:51:03.158Z"
   },
   {
    "duration": 139,
    "start_time": "2024-01-30T17:51:03.179Z"
   },
   {
    "duration": 8,
    "start_time": "2024-01-30T17:51:03.319Z"
   },
   {
    "duration": 23,
    "start_time": "2024-01-30T17:51:03.328Z"
   },
   {
    "duration": 18,
    "start_time": "2024-01-30T17:51:03.353Z"
   },
   {
    "duration": 21239,
    "start_time": "2024-01-30T17:51:03.373Z"
   },
   {
    "duration": 27,
    "start_time": "2024-01-30T17:51:24.620Z"
   },
   {
    "duration": 15,
    "start_time": "2024-01-30T17:51:24.648Z"
   },
   {
    "duration": 15,
    "start_time": "2024-01-30T17:51:24.665Z"
   },
   {
    "duration": 9,
    "start_time": "2024-01-30T17:51:24.681Z"
   },
   {
    "duration": 42,
    "start_time": "2024-01-30T17:51:24.691Z"
   },
   {
    "duration": 5,
    "start_time": "2024-01-30T17:51:24.734Z"
   },
   {
    "duration": 11,
    "start_time": "2024-01-30T17:51:24.741Z"
   },
   {
    "duration": 22401,
    "start_time": "2024-01-30T17:51:24.754Z"
   },
   {
    "duration": 16,
    "start_time": "2024-01-30T17:51:47.156Z"
   },
   {
    "duration": 19,
    "start_time": "2024-01-30T17:51:47.174Z"
   },
   {
    "duration": 33,
    "start_time": "2024-01-30T17:51:47.195Z"
   },
   {
    "duration": 59,
    "start_time": "2024-01-30T17:51:47.230Z"
   },
   {
    "duration": 405,
    "start_time": "2024-01-30T17:51:47.291Z"
   },
   {
    "duration": 284,
    "start_time": "2024-01-30T17:51:47.697Z"
   },
   {
    "duration": 8,
    "start_time": "2024-01-30T17:51:47.982Z"
   },
   {
    "duration": 283,
    "start_time": "2024-01-30T17:51:47.991Z"
   },
   {
    "duration": 5,
    "start_time": "2024-01-30T17:51:48.276Z"
   },
   {
    "duration": 37,
    "start_time": "2024-01-30T17:51:48.283Z"
   },
   {
    "duration": 189,
    "start_time": "2024-01-30T17:51:48.323Z"
   },
   {
    "duration": 48,
    "start_time": "2024-01-30T17:51:48.514Z"
   },
   {
    "duration": 31,
    "start_time": "2024-01-30T17:51:48.564Z"
   },
   {
    "duration": 306,
    "start_time": "2024-01-30T17:51:48.597Z"
   },
   {
    "duration": 356,
    "start_time": "2024-01-30T17:51:48.904Z"
   },
   {
    "duration": 32,
    "start_time": "2024-01-30T17:51:49.262Z"
   },
   {
    "duration": 454,
    "start_time": "2024-01-30T17:51:49.296Z"
   },
   {
    "duration": 379,
    "start_time": "2024-01-30T17:51:49.752Z"
   },
   {
    "duration": 363,
    "start_time": "2024-01-30T17:51:50.133Z"
   },
   {
    "duration": 186,
    "start_time": "2024-01-30T17:51:50.498Z"
   },
   {
    "duration": 194,
    "start_time": "2024-01-30T17:51:50.686Z"
   },
   {
    "duration": 4,
    "start_time": "2024-01-30T17:51:50.881Z"
   },
   {
    "duration": 32,
    "start_time": "2024-01-30T17:51:50.886Z"
   },
   {
    "duration": 382,
    "start_time": "2024-01-30T17:51:50.920Z"
   },
   {
    "duration": 418,
    "start_time": "2024-01-30T17:51:51.303Z"
   },
   {
    "duration": 308,
    "start_time": "2024-01-30T17:51:51.722Z"
   },
   {
    "duration": 14,
    "start_time": "2024-01-30T17:51:52.032Z"
   },
   {
    "duration": 21,
    "start_time": "2024-01-30T17:51:52.047Z"
   }
  ],
  "kernelspec": {
   "display_name": "Python 3 (ipykernel)",
   "language": "python",
   "name": "python3"
  },
  "language_info": {
   "codemirror_mode": {
    "name": "ipython",
    "version": 3
   },
   "file_extension": ".py",
   "mimetype": "text/x-python",
   "name": "python",
   "nbconvert_exporter": "python",
   "pygments_lexer": "ipython3",
   "version": "3.9.19"
  },
  "toc": {
   "base_numbering": 1,
   "nav_menu": {},
   "number_sections": true,
   "sideBar": true,
   "skip_h1_title": true,
   "title_cell": "Table of Contents",
   "title_sidebar": "Contents",
   "toc_cell": false,
   "toc_position": {},
   "toc_section_display": true,
   "toc_window_display": false
  }
 },
 "nbformat": 4,
 "nbformat_minor": 4
}
