{
 "cells": [
  {
   "cell_type": "markdown",
   "metadata": {},
   "source": [
    "# Предсказание стоимости автомобилей"
   ]
  },
  {
   "cell_type": "markdown",
   "metadata": {},
   "source": [
    "Сервис по продаже автомобилей с пробегом «Не бит, не крашен» разрабатывает приложение для привлечения новых клиентов. В нём можно быстро узнать рыночную стоимость своего автомобиля.\\\n",
    "Имеем в распоряжении исторические данные: технические характеристики, комплектации и цены автомобилей.\n",
    "\n",
    "**Цель проекта:** построить модель для определения стоимости автомобиля. Метрика `RMSE` должна быть меньше **2500**.\n",
    "\n",
    "*При выборе лучшей модели в первую очередь необходимо учитывать:*\n",
    "- качество предсказания\n",
    "- скорость предсказания\n",
    "- время обучения\n",
    "<br><br>\n",
    "\n",
    "\n",
    "**Входные признаки:**\n",
    "- `DateCrawled` — дата скачивания анкеты из базы\n",
    "- `VehicleType` — тип автомобильного кузова\n",
    "- `RegistrationYear` — год регистрации автомобиля\n",
    "- `Gearbox` — тип коробки передач\n",
    "- `Power` — мощность (л.с.)\n",
    "- `Model` — модель автомобиля\n",
    "- `Kilometer` — пробег (км)\n",
    "- `RegistrationMonth` — месяц регистрации автомобиля\n",
    "- `FuelType` — тип топлива\n",
    "- `Brand` — марка автомобиля\n",
    "- `Repaired` — была машина в ремонте или нет\n",
    "- `DateCreated` — дата создания анкеты\n",
    "- `NumberOfPictures` — количество фотографий автомобиля\n",
    "- `PostalCode` — почтовый индекс владельца анкеты (пользователя)\n",
    "- `LastSeen` — дата последней активности пользователя\n",
    "\n",
    "**Целевой признак:**\n",
    "- `Price` — цена (евро)\n",
    "<br><br>\n",
    "\n",
    "**Основные этапы работ для каждой из задач:**\n",
    "1. Изучение и предобработка данных.\n",
    "2. Исследовательский и корреляционный анализ.\n",
    "3. Удаление лишних входных признаков при необходимости.\n",
    "4. Подготовка данных к машинному обучению.\n",
    "5. Построение нескольких моделей.\n",
    "6. Выбор лучшей модели."
   ]
  },
  {
   "cell_type": "markdown",
   "metadata": {},
   "source": [
    "## Библиотеки и функции"
   ]
  },
  {
   "cell_type": "code",
   "execution_count": 1,
   "metadata": {},
   "outputs": [],
   "source": [
    "# !pip install -U scikit-learn -q\n",
    "# !pip install phik -q\n",
    "# !pip install optuna -q\n",
    "# !pip install optuna_integration -q\n",
    "# !pip install lightgbm -q\n",
    "# !pip install catboost -q\n",
    "# !pip install xgboost -q"
   ]
  },
  {
   "cell_type": "code",
   "execution_count": 2,
   "metadata": {},
   "outputs": [],
   "source": [
    "import pandas as pd\n",
    "import numpy as np\n",
    "import scipy\n",
    "import seaborn as sns\n",
    "import matplotlib.pyplot as plt\n",
    "import time\n",
    "import re\n",
    "import phik\n",
    "import warnings\n",
    "\n",
    "from sklearn.model_selection import train_test_split\n",
    "\n",
    "from sklearn.pipeline import Pipeline\n",
    "from sklearn.compose import ColumnTransformer\n",
    "\n",
    "from sklearn.preprocessing import StandardScaler, OneHotEncoder\n",
    "from sklearn.metrics import mean_squared_error\n",
    "from sklearn.model_selection import cross_val_score\n",
    "\n",
    "from sklearn.dummy import DummyRegressor\n",
    "from sklearn.linear_model import LinearRegression\n",
    "from sklearn.tree import DecisionTreeRegressor\n",
    "from sklearn.ensemble import RandomForestRegressor\n",
    "\n",
    "from lightgbm import LGBMRegressor\n",
    "from catboost import CatBoostRegressor\n",
    "from xgboost import XGBRegressor\n",
    "\n",
    "import optuna\n",
    "from optuna_integration import OptunaSearchCV\n",
    "from optuna import distributions as opt_dis\n",
    "\n",
    "\n",
    "optuna.logging.set_verbosity(optuna.logging.WARNING) # Отключение информационных сообщений optuna\n",
    "sns.set_style('darkgrid')\n",
    "pd.set_option('display.max_columns', None) # Отображение неограниченного количества столбцов в таблицах\n",
    "#pd.set_option('display.max_colwidth', None)  # Снятие ограничения на максимальную длину строки в таблице\n",
    "#pd.set_option('display.max_rows', None) # Отображение неограниченного количества строк в таблица"
   ]
  },
  {
   "cell_type": "code",
   "execution_count": 3,
   "metadata": {},
   "outputs": [],
   "source": [
    "# Функция для отрисовки пары boxplot и histplot\n",
    "def chart_box_hist(data, columns, title=None, bins=30, hue=None):\n",
    "    s = len(columns)\n",
    "    fig = plt.subplots(s, 2, figsize=(14, s * 3.5))\n",
    "    plt.suptitle(title, fontsize=14, fontweight='bold', y=.92)\n",
    "    for i, col in zip(range(1, s + 1), columns):\n",
    "        data_group_shape = data.groupby(col)[col].count().shape[0]\n",
    "        bins_ = bins if data_group_shape >= bins else data_group_shape\n",
    "\n",
    "        ax1 = plt.subplot(s, 2, i*2 - 1)\n",
    "        ax2 = plt.subplot(s, 2, i*2)\n",
    "\n",
    "        sns.boxplot(data=data, x=col, y=hue, boxprops={'alpha': .6}, ax=ax1)\n",
    "        ax1.set(title=col, xlabel='', ylabel='')\n",
    "        sns.histplot(data=data, x=col, hue=hue, kde=True, bins=bins_, ax=ax2, legend=True) #multiple=\"stack\", stat='density', common_norm=False\n",
    "        ax2.set(title=col, xlabel='', ylabel='')\n",
    "\n",
    "        if not hue:\n",
    "            df = data[col]\n",
    "            ax2.axvline(x=df.median(), color='black', alpha=.6, label=f'median ({df.median():.2f})')\n",
    "            ax2.axvline(x=df.mean(),   color='black', alpha=.6, label=f'mean ({df.mean():.2f})', linestyle='dashed')\n",
    "        else:\n",
    "            for i, hu in enumerate(data[hue].unique()):\n",
    "                df = data[data[hue] == hu][col]\n",
    "                ax2.axvline(x=df.mean(), alpha=1, linewidth=1.5, color=plt.cm.tab10.colors[i], label=f'mean {hue} - {hu} ({df.mean():.2f})', linestyle='dashed')\n",
    "                \n",
    "        ax2.legend(bbox_to_anchor=(1.05 , 1), loc='upper left', borderaxespad=0)\n",
    "    plt.show()"
   ]
  },
  {
   "cell_type": "code",
   "execution_count": 4,
   "metadata": {},
   "outputs": [],
   "source": [
    "# Функция для отрисовки круговых диаграмм\n",
    "def chart_pie(data, col, ax, title=None, max_item=9):\n",
    "    group = data[col].value_counts()\n",
    "    \n",
    "    if not title:\n",
    "        title = col\n",
    "\n",
    "    if len(group) > max_item:\n",
    "        group = pd.concat([group[:max_item], pd.Series(group[max_item:].sum(), index=[f'other ({len(group[max_item:])})'])])\n",
    "        \n",
    "    ax.pie(\n",
    "        x=group,\n",
    "        labels=group.index,\n",
    "        autopct='%.1f%%', \n",
    "        startangle = 90,\n",
    "        pctdistance=.8, \n",
    "        wedgeprops={'width': .4}, \n",
    "        colors=sns.color_palette('pastel')\n",
    "    )\n",
    "    ax.text(\n",
    "        0, 0, title, #.replace('_', '\\n'), \n",
    "        horizontalalignment='center', \n",
    "        verticalalignment='center', \n",
    "        fontweight='bold',\n",
    "        fontsize = 10\n",
    "    )\n",
    "    ax.set(title='', xlabel='', ylabel='')"
   ]
  },
  {
   "cell_type": "code",
   "execution_count": 5,
   "metadata": {},
   "outputs": [],
   "source": [
    "# Функция для вывода матрицы корреляции\n",
    "def corr_matrix(matrix):\n",
    "    fig, ax = plt.subplots(figsize=(10, 8))\n",
    "    sns.heatmap(matrix, annot=True, fmt='.2f', cmap='Blues', ax=ax)\n",
    "    ax.set_title('correlation $\\phi_K$', fontsize=14, fontweight='bold')\n",
    "    plt.show()"
   ]
  },
  {
   "cell_type": "code",
   "execution_count": 6,
   "metadata": {},
   "outputs": [],
   "source": [
    "# Интерпретация коэффициентов корреляции по шкале Чеддока\n",
    "def corr_interpretation(coef):\n",
    "    try:\n",
    "        if coef < 0.1:\n",
    "            return 'осутствует'\n",
    "        elif 0.1 <= coef < 0.3:\n",
    "            return 'слабая'\n",
    "        elif 0.3 <= coef < 0.5:\n",
    "            return 'умеренная'\n",
    "        elif 0.5 <= coef < 0.7:\n",
    "            return 'заметная'\n",
    "        elif 0.7 <= coef < 0.9:\n",
    "            return 'высокая'\n",
    "        elif 0.9 <= coef < 0.95:\n",
    "            return 'весьма высокая'\n",
    "        else:\n",
    "            return 'наблюдается мультиколлинеарность'\n",
    "    except:\n",
    "        pass"
   ]
  },
  {
   "cell_type": "code",
   "execution_count": 7,
   "metadata": {},
   "outputs": [],
   "source": [
    "# Функция для вывода отсортированной таблицы коэффициентов корреляции\n",
    "def corr_sort(matrix):\n",
    "    corr = (\n",
    "        matrix\n",
    "        .abs()\n",
    "        .stack()\n",
    "        .reset_index()\n",
    "        .rename(columns={0: \"corr\", 'level_0': 'feature_1', 'level_1': 'feature_2'})\n",
    "        .query('feature_1 != feature_2')\n",
    "        .sort_values(by='corr', ascending=False)\n",
    "        .loc[::2]\n",
    "        .reset_index(drop=True)\n",
    "    )\n",
    "    corr['interpretation'] = corr['corr'].apply(corr_interpretation)\n",
    "    return corr"
   ]
  },
  {
   "cell_type": "code",
   "execution_count": 8,
   "metadata": {},
   "outputs": [],
   "source": [
    "# Функция для вывода коэффициентов целевого признака\n",
    "def target_corr(matrix, col):\n",
    "    target_corr = pd.DataFrame(matrix[col].abs().drop(col).sort_values(ascending=False))\n",
    "    target_corr.columns = ['corr']\n",
    "    target_corr['interpretation'] = target_corr['corr'].apply(corr_interpretation)\n",
    "    return target_corr"
   ]
  },
  {
   "cell_type": "markdown",
   "metadata": {},
   "source": [
    "## Загрузка данных"
   ]
  },
  {
   "cell_type": "code",
   "execution_count": 9,
   "metadata": {},
   "outputs": [],
   "source": [
    "data = pd.read_csv('/datasets/autos.csv')\n",
    "\n",
    "for i in ['DateCrawled', 'DateCreated', 'LastSeen']:\n",
    "    data[i] = pd.to_datetime(data[i])"
   ]
  },
  {
   "cell_type": "markdown",
   "metadata": {},
   "source": [
    "Вывод первых строк таблицы:"
   ]
  },
  {
   "cell_type": "code",
   "execution_count": 10,
   "metadata": {},
   "outputs": [
    {
     "data": {
      "text/html": [
       "<div>\n",
       "<style scoped>\n",
       "    .dataframe tbody tr th:only-of-type {\n",
       "        vertical-align: middle;\n",
       "    }\n",
       "\n",
       "    .dataframe tbody tr th {\n",
       "        vertical-align: top;\n",
       "    }\n",
       "\n",
       "    .dataframe thead th {\n",
       "        text-align: right;\n",
       "    }\n",
       "</style>\n",
       "<table border=\"1\" class=\"dataframe\">\n",
       "  <thead>\n",
       "    <tr style=\"text-align: right;\">\n",
       "      <th></th>\n",
       "      <th>DateCrawled</th>\n",
       "      <th>Price</th>\n",
       "      <th>VehicleType</th>\n",
       "      <th>RegistrationYear</th>\n",
       "      <th>Gearbox</th>\n",
       "      <th>Power</th>\n",
       "      <th>Model</th>\n",
       "      <th>Kilometer</th>\n",
       "      <th>RegistrationMonth</th>\n",
       "      <th>FuelType</th>\n",
       "      <th>Brand</th>\n",
       "      <th>Repaired</th>\n",
       "      <th>DateCreated</th>\n",
       "      <th>NumberOfPictures</th>\n",
       "      <th>PostalCode</th>\n",
       "      <th>LastSeen</th>\n",
       "    </tr>\n",
       "  </thead>\n",
       "  <tbody>\n",
       "    <tr>\n",
       "      <th>0</th>\n",
       "      <td>2016-03-24 11:52:17</td>\n",
       "      <td>480</td>\n",
       "      <td>NaN</td>\n",
       "      <td>1993</td>\n",
       "      <td>manual</td>\n",
       "      <td>0</td>\n",
       "      <td>golf</td>\n",
       "      <td>150000</td>\n",
       "      <td>0</td>\n",
       "      <td>petrol</td>\n",
       "      <td>volkswagen</td>\n",
       "      <td>NaN</td>\n",
       "      <td>2016-03-24</td>\n",
       "      <td>0</td>\n",
       "      <td>70435</td>\n",
       "      <td>2016-04-07 03:16:57</td>\n",
       "    </tr>\n",
       "    <tr>\n",
       "      <th>1</th>\n",
       "      <td>2016-03-24 10:58:45</td>\n",
       "      <td>18300</td>\n",
       "      <td>coupe</td>\n",
       "      <td>2011</td>\n",
       "      <td>manual</td>\n",
       "      <td>190</td>\n",
       "      <td>NaN</td>\n",
       "      <td>125000</td>\n",
       "      <td>5</td>\n",
       "      <td>gasoline</td>\n",
       "      <td>audi</td>\n",
       "      <td>yes</td>\n",
       "      <td>2016-03-24</td>\n",
       "      <td>0</td>\n",
       "      <td>66954</td>\n",
       "      <td>2016-04-07 01:46:50</td>\n",
       "    </tr>\n",
       "    <tr>\n",
       "      <th>2</th>\n",
       "      <td>2016-03-14 12:52:21</td>\n",
       "      <td>9800</td>\n",
       "      <td>suv</td>\n",
       "      <td>2004</td>\n",
       "      <td>auto</td>\n",
       "      <td>163</td>\n",
       "      <td>grand</td>\n",
       "      <td>125000</td>\n",
       "      <td>8</td>\n",
       "      <td>gasoline</td>\n",
       "      <td>jeep</td>\n",
       "      <td>NaN</td>\n",
       "      <td>2016-03-14</td>\n",
       "      <td>0</td>\n",
       "      <td>90480</td>\n",
       "      <td>2016-04-05 12:47:46</td>\n",
       "    </tr>\n",
       "    <tr>\n",
       "      <th>3</th>\n",
       "      <td>2016-03-17 16:54:04</td>\n",
       "      <td>1500</td>\n",
       "      <td>small</td>\n",
       "      <td>2001</td>\n",
       "      <td>manual</td>\n",
       "      <td>75</td>\n",
       "      <td>golf</td>\n",
       "      <td>150000</td>\n",
       "      <td>6</td>\n",
       "      <td>petrol</td>\n",
       "      <td>volkswagen</td>\n",
       "      <td>no</td>\n",
       "      <td>2016-03-17</td>\n",
       "      <td>0</td>\n",
       "      <td>91074</td>\n",
       "      <td>2016-03-17 17:40:17</td>\n",
       "    </tr>\n",
       "    <tr>\n",
       "      <th>4</th>\n",
       "      <td>2016-03-31 17:25:20</td>\n",
       "      <td>3600</td>\n",
       "      <td>small</td>\n",
       "      <td>2008</td>\n",
       "      <td>manual</td>\n",
       "      <td>69</td>\n",
       "      <td>fabia</td>\n",
       "      <td>90000</td>\n",
       "      <td>7</td>\n",
       "      <td>gasoline</td>\n",
       "      <td>skoda</td>\n",
       "      <td>no</td>\n",
       "      <td>2016-03-31</td>\n",
       "      <td>0</td>\n",
       "      <td>60437</td>\n",
       "      <td>2016-04-06 10:17:21</td>\n",
       "    </tr>\n",
       "  </tbody>\n",
       "</table>\n",
       "</div>"
      ],
      "text/plain": [
       "          DateCrawled  Price VehicleType  RegistrationYear Gearbox  Power  \\\n",
       "0 2016-03-24 11:52:17    480         NaN              1993  manual      0   \n",
       "1 2016-03-24 10:58:45  18300       coupe              2011  manual    190   \n",
       "2 2016-03-14 12:52:21   9800         suv              2004    auto    163   \n",
       "3 2016-03-17 16:54:04   1500       small              2001  manual     75   \n",
       "4 2016-03-31 17:25:20   3600       small              2008  manual     69   \n",
       "\n",
       "   Model  Kilometer  RegistrationMonth  FuelType       Brand Repaired  \\\n",
       "0   golf     150000                  0    petrol  volkswagen      NaN   \n",
       "1    NaN     125000                  5  gasoline        audi      yes   \n",
       "2  grand     125000                  8  gasoline        jeep      NaN   \n",
       "3   golf     150000                  6    petrol  volkswagen       no   \n",
       "4  fabia      90000                  7  gasoline       skoda       no   \n",
       "\n",
       "  DateCreated  NumberOfPictures  PostalCode            LastSeen  \n",
       "0  2016-03-24                 0       70435 2016-04-07 03:16:57  \n",
       "1  2016-03-24                 0       66954 2016-04-07 01:46:50  \n",
       "2  2016-03-14                 0       90480 2016-04-05 12:47:46  \n",
       "3  2016-03-17                 0       91074 2016-03-17 17:40:17  \n",
       "4  2016-03-31                 0       60437 2016-04-06 10:17:21  "
      ]
     },
     "execution_count": 10,
     "metadata": {},
     "output_type": "execute_result"
    }
   ],
   "source": [
    "data.head()"
   ]
  },
  {
   "cell_type": "markdown",
   "metadata": {},
   "source": [
    "Основная информация о датафрейме:"
   ]
  },
  {
   "cell_type": "code",
   "execution_count": 11,
   "metadata": {},
   "outputs": [
    {
     "name": "stdout",
     "output_type": "stream",
     "text": [
      "<class 'pandas.core.frame.DataFrame'>\n",
      "RangeIndex: 354369 entries, 0 to 354368\n",
      "Data columns (total 16 columns):\n",
      " #   Column             Non-Null Count   Dtype         \n",
      "---  ------             --------------   -----         \n",
      " 0   DateCrawled        354369 non-null  datetime64[ns]\n",
      " 1   Price              354369 non-null  int64         \n",
      " 2   VehicleType        316879 non-null  object        \n",
      " 3   RegistrationYear   354369 non-null  int64         \n",
      " 4   Gearbox            334536 non-null  object        \n",
      " 5   Power              354369 non-null  int64         \n",
      " 6   Model              334664 non-null  object        \n",
      " 7   Kilometer          354369 non-null  int64         \n",
      " 8   RegistrationMonth  354369 non-null  int64         \n",
      " 9   FuelType           321474 non-null  object        \n",
      " 10  Brand              354369 non-null  object        \n",
      " 11  Repaired           283215 non-null  object        \n",
      " 12  DateCreated        354369 non-null  datetime64[ns]\n",
      " 13  NumberOfPictures   354369 non-null  int64         \n",
      " 14  PostalCode         354369 non-null  int64         \n",
      " 15  LastSeen           354369 non-null  datetime64[ns]\n",
      "dtypes: datetime64[ns](3), int64(7), object(6)\n",
      "memory usage: 43.3+ MB\n"
     ]
    }
   ],
   "source": [
    "data.info()"
   ]
  },
  {
   "cell_type": "markdown",
   "metadata": {},
   "source": [
    "Подсчитаем, количество пропусков в каждой колонке, а так же их процент"
   ]
  },
  {
   "cell_type": "code",
   "execution_count": 12,
   "metadata": {},
   "outputs": [
    {
     "name": "stdout",
     "output_type": "stream",
     "text": [
      "Всего строк: 354369\n"
     ]
    },
    {
     "data": {
      "text/html": [
       "<style type=\"text/css\">\n",
       "#T_03803_row0_col0, #T_03803_row0_col1, #T_03803_row1_col0, #T_03803_row1_col1, #T_03803_row3_col0, #T_03803_row3_col1, #T_03803_row5_col0, #T_03803_row5_col1, #T_03803_row7_col0, #T_03803_row7_col1, #T_03803_row8_col0, #T_03803_row8_col1, #T_03803_row10_col0, #T_03803_row10_col1, #T_03803_row12_col0, #T_03803_row12_col1, #T_03803_row13_col0, #T_03803_row13_col1, #T_03803_row14_col0, #T_03803_row14_col1, #T_03803_row15_col0, #T_03803_row15_col1 {\n",
       "  background-color: #f7fbff;\n",
       "  color: #000000;\n",
       "}\n",
       "#T_03803_row2_col0 {\n",
       "  background-color: #61a7d2;\n",
       "  color: #f1f1f1;\n",
       "}\n",
       "#T_03803_row2_col1 {\n",
       "  background-color: #63a8d3;\n",
       "  color: #f1f1f1;\n",
       "}\n",
       "#T_03803_row4_col0, #T_03803_row4_col1, #T_03803_row6_col0 {\n",
       "  background-color: #bdd7ec;\n",
       "  color: #000000;\n",
       "}\n",
       "#T_03803_row6_col1 {\n",
       "  background-color: #bed8ec;\n",
       "  color: #000000;\n",
       "}\n",
       "#T_03803_row9_col0, #T_03803_row9_col1 {\n",
       "  background-color: #7ab6d9;\n",
       "  color: #000000;\n",
       "}\n",
       "#T_03803_row11_col0, #T_03803_row11_col1 {\n",
       "  background-color: #08306b;\n",
       "  color: #f1f1f1;\n",
       "}\n",
       "</style>\n",
       "<table id=\"T_03803\">\n",
       "  <thead>\n",
       "    <tr>\n",
       "      <th class=\"blank level0\" >&nbsp;</th>\n",
       "      <th id=\"T_03803_level0_col0\" class=\"col_heading level0 col0\" >percent</th>\n",
       "      <th id=\"T_03803_level0_col1\" class=\"col_heading level0 col1\" >sum</th>\n",
       "    </tr>\n",
       "  </thead>\n",
       "  <tbody>\n",
       "    <tr>\n",
       "      <th id=\"T_03803_level0_row0\" class=\"row_heading level0 row0\" >DateCrawled</th>\n",
       "      <td id=\"T_03803_row0_col0\" class=\"data row0 col0\" >0.000000</td>\n",
       "      <td id=\"T_03803_row0_col1\" class=\"data row0 col1\" >0</td>\n",
       "    </tr>\n",
       "    <tr>\n",
       "      <th id=\"T_03803_level0_row1\" class=\"row_heading level0 row1\" >Price</th>\n",
       "      <td id=\"T_03803_row1_col0\" class=\"data row1 col0\" >0.000000</td>\n",
       "      <td id=\"T_03803_row1_col1\" class=\"data row1 col1\" >0</td>\n",
       "    </tr>\n",
       "    <tr>\n",
       "      <th id=\"T_03803_level0_row2\" class=\"row_heading level0 row2\" >VehicleType</th>\n",
       "      <td id=\"T_03803_row2_col0\" class=\"data row2 col0\" >10.600000</td>\n",
       "      <td id=\"T_03803_row2_col1\" class=\"data row2 col1\" >37490</td>\n",
       "    </tr>\n",
       "    <tr>\n",
       "      <th id=\"T_03803_level0_row3\" class=\"row_heading level0 row3\" >RegistrationYear</th>\n",
       "      <td id=\"T_03803_row3_col0\" class=\"data row3 col0\" >0.000000</td>\n",
       "      <td id=\"T_03803_row3_col1\" class=\"data row3 col1\" >0</td>\n",
       "    </tr>\n",
       "    <tr>\n",
       "      <th id=\"T_03803_level0_row4\" class=\"row_heading level0 row4\" >Gearbox</th>\n",
       "      <td id=\"T_03803_row4_col0\" class=\"data row4 col0\" >5.600000</td>\n",
       "      <td id=\"T_03803_row4_col1\" class=\"data row4 col1\" >19833</td>\n",
       "    </tr>\n",
       "    <tr>\n",
       "      <th id=\"T_03803_level0_row5\" class=\"row_heading level0 row5\" >Power</th>\n",
       "      <td id=\"T_03803_row5_col0\" class=\"data row5 col0\" >0.000000</td>\n",
       "      <td id=\"T_03803_row5_col1\" class=\"data row5 col1\" >0</td>\n",
       "    </tr>\n",
       "    <tr>\n",
       "      <th id=\"T_03803_level0_row6\" class=\"row_heading level0 row6\" >Model</th>\n",
       "      <td id=\"T_03803_row6_col0\" class=\"data row6 col0\" >5.600000</td>\n",
       "      <td id=\"T_03803_row6_col1\" class=\"data row6 col1\" >19705</td>\n",
       "    </tr>\n",
       "    <tr>\n",
       "      <th id=\"T_03803_level0_row7\" class=\"row_heading level0 row7\" >Kilometer</th>\n",
       "      <td id=\"T_03803_row7_col0\" class=\"data row7 col0\" >0.000000</td>\n",
       "      <td id=\"T_03803_row7_col1\" class=\"data row7 col1\" >0</td>\n",
       "    </tr>\n",
       "    <tr>\n",
       "      <th id=\"T_03803_level0_row8\" class=\"row_heading level0 row8\" >RegistrationMonth</th>\n",
       "      <td id=\"T_03803_row8_col0\" class=\"data row8 col0\" >0.000000</td>\n",
       "      <td id=\"T_03803_row8_col1\" class=\"data row8 col1\" >0</td>\n",
       "    </tr>\n",
       "    <tr>\n",
       "      <th id=\"T_03803_level0_row9\" class=\"row_heading level0 row9\" >FuelType</th>\n",
       "      <td id=\"T_03803_row9_col0\" class=\"data row9 col0\" >9.300000</td>\n",
       "      <td id=\"T_03803_row9_col1\" class=\"data row9 col1\" >32895</td>\n",
       "    </tr>\n",
       "    <tr>\n",
       "      <th id=\"T_03803_level0_row10\" class=\"row_heading level0 row10\" >Brand</th>\n",
       "      <td id=\"T_03803_row10_col0\" class=\"data row10 col0\" >0.000000</td>\n",
       "      <td id=\"T_03803_row10_col1\" class=\"data row10 col1\" >0</td>\n",
       "    </tr>\n",
       "    <tr>\n",
       "      <th id=\"T_03803_level0_row11\" class=\"row_heading level0 row11\" >Repaired</th>\n",
       "      <td id=\"T_03803_row11_col0\" class=\"data row11 col0\" >20.100000</td>\n",
       "      <td id=\"T_03803_row11_col1\" class=\"data row11 col1\" >71154</td>\n",
       "    </tr>\n",
       "    <tr>\n",
       "      <th id=\"T_03803_level0_row12\" class=\"row_heading level0 row12\" >DateCreated</th>\n",
       "      <td id=\"T_03803_row12_col0\" class=\"data row12 col0\" >0.000000</td>\n",
       "      <td id=\"T_03803_row12_col1\" class=\"data row12 col1\" >0</td>\n",
       "    </tr>\n",
       "    <tr>\n",
       "      <th id=\"T_03803_level0_row13\" class=\"row_heading level0 row13\" >NumberOfPictures</th>\n",
       "      <td id=\"T_03803_row13_col0\" class=\"data row13 col0\" >0.000000</td>\n",
       "      <td id=\"T_03803_row13_col1\" class=\"data row13 col1\" >0</td>\n",
       "    </tr>\n",
       "    <tr>\n",
       "      <th id=\"T_03803_level0_row14\" class=\"row_heading level0 row14\" >PostalCode</th>\n",
       "      <td id=\"T_03803_row14_col0\" class=\"data row14 col0\" >0.000000</td>\n",
       "      <td id=\"T_03803_row14_col1\" class=\"data row14 col1\" >0</td>\n",
       "    </tr>\n",
       "    <tr>\n",
       "      <th id=\"T_03803_level0_row15\" class=\"row_heading level0 row15\" >LastSeen</th>\n",
       "      <td id=\"T_03803_row15_col0\" class=\"data row15 col0\" >0.000000</td>\n",
       "      <td id=\"T_03803_row15_col1\" class=\"data row15 col1\" >0</td>\n",
       "    </tr>\n",
       "  </tbody>\n",
       "</table>\n"
      ],
      "text/plain": [
       "<pandas.io.formats.style.Styler at 0x73e1ad9e0e20>"
      ]
     },
     "execution_count": 12,
     "metadata": {},
     "output_type": "execute_result"
    }
   ],
   "source": [
    "print('Всего строк:', data_shape_before := data.shape[0])\n",
    "\n",
    "pd.DataFrame({'percent': round(data.isna().mean()*100, 1), 'sum': data.isna().sum()}).style.background_gradient('Blues')"
   ]
  },
  {
   "cell_type": "markdown",
   "metadata": {},
   "source": [
    "**Вывод:** данные в датафрейме соответствуют описанию. Тип данных всех признаков выставлен корректный.\\\n",
    "Следующие признаки имеют пропуски:\n",
    "- `VehicleType` — тип автомобильного кузова\n",
    "- `Gearbox` — тип коробки передач\n",
    "- `Model` — модель автомобиля\n",
    "- `FuelType` — тип топлива\n",
    "- `Repaired` — была машина в ремонте или нет\n",
    "\n",
    "Отметим, что все признаки, имеющие пропуски, относятся к категориальному типу."
   ]
  },
  {
   "cell_type": "markdown",
   "metadata": {},
   "source": [
    "## Предобработка данных"
   ]
  },
  {
   "cell_type": "markdown",
   "metadata": {},
   "source": [
    "Приведем названия столбцов к **snake_case**"
   ]
  },
  {
   "cell_type": "code",
   "execution_count": 13,
   "metadata": {},
   "outputs": [
    {
     "data": {
      "text/plain": [
       "Index(['date_crawled', 'price', 'vehicle_type', 'registration_year', 'gearbox',\n",
       "       'power', 'model', 'kilometer', 'registration_month', 'fuel_type',\n",
       "       'brand', 'repaired', 'date_created', 'number_of_pictures',\n",
       "       'postal_code', 'last_seen'],\n",
       "      dtype='object')"
      ]
     },
     "execution_count": 13,
     "metadata": {},
     "output_type": "execute_result"
    }
   ],
   "source": [
    "def to_snake_case(name):\n",
    "    return re.sub(r'(?<!^)(?=[A-Z])', '_', name).lower()\n",
    "\n",
    "\n",
    "for col in data.columns:\n",
    "    data = data.rename(columns={col:to_snake_case(col)})\n",
    "\n",
    "\n",
    "# Проверка\n",
    "data.columns"
   ]
  },
  {
   "cell_type": "markdown",
   "metadata": {},
   "source": [
    "**Вывод:** названия признаков успешно преобразованы"
   ]
  },
  {
   "cell_type": "markdown",
   "metadata": {},
   "source": [
    "Рассмотрим признаки, содержащие дату и время:"
   ]
  },
  {
   "cell_type": "code",
   "execution_count": 14,
   "metadata": {},
   "outputs": [
    {
     "name": "stdout",
     "output_type": "stream",
     "text": [
      "date_crawled: [2016-03-05 - 2016-04-07]  delta =  33 days\n",
      "date_created: [2014-03-10 - 2016-04-07]  delta = 759 days\n",
      "last_seen:    [2016-03-05 - 2016-04-07]  delta =  33 days\n"
     ]
    }
   ],
   "source": [
    "for i in ['date_crawled', 'date_created', 'last_seen']:\n",
    "    min = data[i].dt.date.min()\n",
    "    max = data[i].dt.date.max()\n",
    "    print(f'{i+\":\":<13} [{min} - {max}]  delta = {(max - min).days:>3} days')"
   ]
  },
  {
   "cell_type": "markdown",
   "metadata": {},
   "source": [
    "Диапазон дат скачивания анкет из базы `date_crawled` и дат последней активности пользователя `last_seen` совпадает. Из этого можем сделать вывод, что срез данных, проводимый с **5 марта** по **7 апреля** 2016 года затрагивал только активных пользователей.\n",
    "\n",
    "Рассмотрим, в какие года и месяца выкладывались объявления:"
   ]
  },
  {
   "cell_type": "code",
   "execution_count": 15,
   "metadata": {},
   "outputs": [
    {
     "name": "stdout",
     "output_type": "stream",
     "text": [
      "date_created\n",
      "2014-03         1\n",
      "2015-03         1\n",
      "2015-06         1\n",
      "2015-08         2\n",
      "2015-09         3\n",
      "2015-11         9\n",
      "2015-12         9\n",
      "2016-01        70\n",
      "2016-02       397\n",
      "2016-03    296757\n",
      "2016-04     57119\n",
      "Freq: M, Name: count, dtype: int64\n",
      "\n",
      "Количество объявлений, выложенных до 2016 года: 26\n"
     ]
    }
   ],
   "source": [
    "print(data['date_created'].dt.to_period(\"M\").value_counts().sort_index())\n",
    "\n",
    "print('\\nКоличество объявлений, выложенных до 2016 года:', data[data['date_created'].dt.year < 2016].shape[0])"
   ]
  },
  {
   "cell_type": "markdown",
   "metadata": {},
   "source": [
    "Основная масса объявлений опубликована в марте и апреле 2016 года. До 2016 выставлено только 26 объявлений, можем смело их удалить, так как они достаточно долго висят в продаже (возможно владельцы выставили цены сильно выше рынка)"
   ]
  },
  {
   "cell_type": "code",
   "execution_count": 16,
   "metadata": {},
   "outputs": [
    {
     "name": "stdout",
     "output_type": "stream",
     "text": [
      "Количество удаленных строк: 26\n"
     ]
    }
   ],
   "source": [
    "rows_before = data.shape[0]\n",
    "\n",
    "data = data.drop(data[data['date_created'].dt.year < 2016].index)\n",
    "\n",
    "print('Количество удаленных строк:', rows_before - data.shape[0])"
   ]
  },
  {
   "cell_type": "markdown",
   "metadata": {},
   "source": [
    "**Вывод:** объявления, опубликованные до 2016 года успешно удалены."
   ]
  },
  {
   "cell_type": "markdown",
   "metadata": {},
   "source": [
    "Рассмотрим признак `registration_year` - год регистрации автомобиля."
   ]
  },
  {
   "cell_type": "code",
   "execution_count": 17,
   "metadata": {},
   "outputs": [
    {
     "data": {
      "text/plain": [
       "count    354343.000000\n",
       "mean       2004.234496\n",
       "min        1000.000000\n",
       "25%        1999.000000\n",
       "50%        2003.000000\n",
       "75%        2008.000000\n",
       "max        9999.000000\n",
       "std          90.231247\n",
       "Name: registration_year, dtype: float64"
      ]
     },
     "execution_count": 17,
     "metadata": {},
     "output_type": "execute_result"
    }
   ],
   "source": [
    "data.describe()['registration_year']"
   ]
  },
  {
   "cell_type": "markdown",
   "metadata": {},
   "source": [
    "Видим, что в данных присутствуют строки с аномально высокими и низкими значениями года регистрации авто. Посчитаем, сколько строк содержат год менее, чем 1950 и более, чем 2016 (год среза данных):"
   ]
  },
  {
   "cell_type": "code",
   "execution_count": 18,
   "metadata": {},
   "outputs": [
    {
     "name": "stdout",
     "output_type": "stream",
     "text": [
      "246\n",
      "14530\n"
     ]
    }
   ],
   "source": [
    "print(data[data['registration_year'] < 1950].shape[0])\n",
    "print(data[data['registration_year'] > 2016].shape[0])"
   ]
  },
  {
   "cell_type": "markdown",
   "metadata": {},
   "source": [
    "Объявлений, год регистрации авто в которых установлен 2017 и выше, довольно много - 14.5к. Посмотрим, по каким годам распределены эти объявления."
   ]
  },
  {
   "cell_type": "code",
   "execution_count": 19,
   "metadata": {},
   "outputs": [
    {
     "data": {
      "text/plain": [
       "registration_year\n",
       "2017    10441\n",
       "2018     3959\n",
       "9999       26\n",
       "2019       25\n",
       "5000       17\n",
       "3000        7\n",
       "6000        5\n",
       "7000        4\n",
       "2500        4\n",
       "4000        3\n",
       "Name: count, dtype: int64"
      ]
     },
     "execution_count": 19,
     "metadata": {},
     "output_type": "execute_result"
    }
   ],
   "source": [
    "data[data['registration_year'] > 2016]['registration_year'].value_counts().head(10)"
   ]
  },
  {
   "cell_type": "markdown",
   "metadata": {},
   "source": [
    "В основном в этих объявлениях год регистрации установлен как 2017 и 2018. Рассмотрим несколько случайных объявлений, где год регистрации указан 2017"
   ]
  },
  {
   "cell_type": "code",
   "execution_count": 20,
   "metadata": {},
   "outputs": [
    {
     "data": {
      "text/html": [
       "<div>\n",
       "<style scoped>\n",
       "    .dataframe tbody tr th:only-of-type {\n",
       "        vertical-align: middle;\n",
       "    }\n",
       "\n",
       "    .dataframe tbody tr th {\n",
       "        vertical-align: top;\n",
       "    }\n",
       "\n",
       "    .dataframe thead th {\n",
       "        text-align: right;\n",
       "    }\n",
       "</style>\n",
       "<table border=\"1\" class=\"dataframe\">\n",
       "  <thead>\n",
       "    <tr style=\"text-align: right;\">\n",
       "      <th></th>\n",
       "      <th>date_crawled</th>\n",
       "      <th>price</th>\n",
       "      <th>vehicle_type</th>\n",
       "      <th>registration_year</th>\n",
       "      <th>gearbox</th>\n",
       "      <th>power</th>\n",
       "      <th>model</th>\n",
       "      <th>kilometer</th>\n",
       "      <th>registration_month</th>\n",
       "      <th>fuel_type</th>\n",
       "      <th>brand</th>\n",
       "      <th>repaired</th>\n",
       "      <th>date_created</th>\n",
       "      <th>number_of_pictures</th>\n",
       "      <th>postal_code</th>\n",
       "      <th>last_seen</th>\n",
       "    </tr>\n",
       "  </thead>\n",
       "  <tbody>\n",
       "    <tr>\n",
       "      <th>69589</th>\n",
       "      <td>2016-03-09 07:53:41</td>\n",
       "      <td>15300</td>\n",
       "      <td>NaN</td>\n",
       "      <td>2017</td>\n",
       "      <td>auto</td>\n",
       "      <td>450</td>\n",
       "      <td>cayenne</td>\n",
       "      <td>150000</td>\n",
       "      <td>0</td>\n",
       "      <td>NaN</td>\n",
       "      <td>porsche</td>\n",
       "      <td>no</td>\n",
       "      <td>2016-03-09</td>\n",
       "      <td>0</td>\n",
       "      <td>78120</td>\n",
       "      <td>2016-03-17 21:16:25</td>\n",
       "    </tr>\n",
       "    <tr>\n",
       "      <th>147783</th>\n",
       "      <td>2016-03-31 20:49:35</td>\n",
       "      <td>2000</td>\n",
       "      <td>NaN</td>\n",
       "      <td>2017</td>\n",
       "      <td>manual</td>\n",
       "      <td>74</td>\n",
       "      <td>passat</td>\n",
       "      <td>150000</td>\n",
       "      <td>0</td>\n",
       "      <td>NaN</td>\n",
       "      <td>volkswagen</td>\n",
       "      <td>NaN</td>\n",
       "      <td>2016-03-31</td>\n",
       "      <td>0</td>\n",
       "      <td>99310</td>\n",
       "      <td>2016-03-31 20:49:35</td>\n",
       "    </tr>\n",
       "    <tr>\n",
       "      <th>136129</th>\n",
       "      <td>2016-03-10 19:39:32</td>\n",
       "      <td>8500</td>\n",
       "      <td>NaN</td>\n",
       "      <td>2017</td>\n",
       "      <td>manual</td>\n",
       "      <td>105</td>\n",
       "      <td>touran</td>\n",
       "      <td>125000</td>\n",
       "      <td>3</td>\n",
       "      <td>NaN</td>\n",
       "      <td>volkswagen</td>\n",
       "      <td>no</td>\n",
       "      <td>2016-03-10</td>\n",
       "      <td>0</td>\n",
       "      <td>41468</td>\n",
       "      <td>2016-03-16 09:17:20</td>\n",
       "    </tr>\n",
       "    <tr>\n",
       "      <th>339947</th>\n",
       "      <td>2016-03-25 18:58:06</td>\n",
       "      <td>1199</td>\n",
       "      <td>NaN</td>\n",
       "      <td>2017</td>\n",
       "      <td>NaN</td>\n",
       "      <td>0</td>\n",
       "      <td>corsa</td>\n",
       "      <td>150000</td>\n",
       "      <td>0</td>\n",
       "      <td>petrol</td>\n",
       "      <td>opel</td>\n",
       "      <td>NaN</td>\n",
       "      <td>2016-03-25</td>\n",
       "      <td>0</td>\n",
       "      <td>44145</td>\n",
       "      <td>2016-04-01 04:18:13</td>\n",
       "    </tr>\n",
       "    <tr>\n",
       "      <th>9506</th>\n",
       "      <td>2016-04-02 22:53:05</td>\n",
       "      <td>5000</td>\n",
       "      <td>NaN</td>\n",
       "      <td>2017</td>\n",
       "      <td>manual</td>\n",
       "      <td>204</td>\n",
       "      <td>golf</td>\n",
       "      <td>150000</td>\n",
       "      <td>0</td>\n",
       "      <td>petrol</td>\n",
       "      <td>volkswagen</td>\n",
       "      <td>no</td>\n",
       "      <td>2016-04-02</td>\n",
       "      <td>0</td>\n",
       "      <td>32339</td>\n",
       "      <td>2016-04-07 01:46:27</td>\n",
       "    </tr>\n",
       "  </tbody>\n",
       "</table>\n",
       "</div>"
      ],
      "text/plain": [
       "              date_crawled  price vehicle_type  registration_year gearbox  \\\n",
       "69589  2016-03-09 07:53:41  15300          NaN               2017    auto   \n",
       "147783 2016-03-31 20:49:35   2000          NaN               2017  manual   \n",
       "136129 2016-03-10 19:39:32   8500          NaN               2017  manual   \n",
       "339947 2016-03-25 18:58:06   1199          NaN               2017     NaN   \n",
       "9506   2016-04-02 22:53:05   5000          NaN               2017  manual   \n",
       "\n",
       "        power    model  kilometer  registration_month fuel_type       brand  \\\n",
       "69589     450  cayenne     150000                   0       NaN     porsche   \n",
       "147783     74   passat     150000                   0       NaN  volkswagen   \n",
       "136129    105   touran     125000                   3       NaN  volkswagen   \n",
       "339947      0    corsa     150000                   0    petrol        opel   \n",
       "9506      204     golf     150000                   0    petrol  volkswagen   \n",
       "\n",
       "       repaired date_created  number_of_pictures  postal_code  \\\n",
       "69589        no   2016-03-09                   0        78120   \n",
       "147783      NaN   2016-03-31                   0        99310   \n",
       "136129       no   2016-03-10                   0        41468   \n",
       "339947      NaN   2016-03-25                   0        44145   \n",
       "9506         no   2016-04-02                   0        32339   \n",
       "\n",
       "                 last_seen  \n",
       "69589  2016-03-17 21:16:25  \n",
       "147783 2016-03-31 20:49:35  \n",
       "136129 2016-03-16 09:17:20  \n",
       "339947 2016-04-01 04:18:13  \n",
       "9506   2016-04-07 01:46:27  "
      ]
     },
     "execution_count": 20,
     "metadata": {},
     "output_type": "execute_result"
    }
   ],
   "source": [
    "data[data['registration_year'] == 2017].sample(5, random_state=42)"
   ]
  },
  {
   "cell_type": "markdown",
   "metadata": {},
   "source": [
    "Рассмотрим пробеги автомобилей, с годом регистрации 2017:"
   ]
  },
  {
   "cell_type": "code",
   "execution_count": 21,
   "metadata": {},
   "outputs": [
    {
     "data": {
      "image/png": "[encoded data removed]",
      "text/plain": [
       "<Figure size 1400x350 with 2 Axes>"
      ]
     },
     "metadata": {},
     "output_type": "display_data"
    }
   ],
   "source": [
    "chart_box_hist(data[data['registration_year'] == 2017], ['kilometer'])"
   ]
  },
  {
   "cell_type": "markdown",
   "metadata": {},
   "source": [
    "Напомню, мы имеем срез данных, где дата размещения самого свежего объявления - это апрель 2016 года. На графиках мы видим, что у автомобилей с годом регистрации 2017 большинство пробегов выше 130к км. Здесь имеет место явная ошибка.\\\n",
    "Хорошим решением будет удалить эти данные, так как стоимость автомобиля очень сильно определяется годом начала эксплуатации. Эти данные будут вносить неточности в модель.\\\n",
    "Удалим, все объявления, где год регистрации выставлен до 1950 и после 2016"
   ]
  },
  {
   "cell_type": "code",
   "execution_count": 22,
   "metadata": {},
   "outputs": [
    {
     "name": "stdout",
     "output_type": "stream",
     "text": [
      "Количество удаленных строк: 14776\n"
     ]
    }
   ],
   "source": [
    "rows_before = data.shape[0]\n",
    "\n",
    "data = data.drop(data.query('not 1950 <= registration_year <= 2016').index)\n",
    "\n",
    "print('Количество удаленных строк:', rows_before - data.shape[0])"
   ]
  },
  {
   "cell_type": "markdown",
   "metadata": {},
   "source": [
    "**Вывод:** успешно удалено 14776 объявлений."
   ]
  },
  {
   "cell_type": "markdown",
   "metadata": {},
   "source": [
    "### Проверка наличия неявных дубликатов"
   ]
  },
  {
   "cell_type": "code",
   "execution_count": 23,
   "metadata": {},
   "outputs": [
    {
     "name": "stdout",
     "output_type": "stream",
     "text": [
      "vehicle_type: ['bus', 'convertible', 'coupe', 'other', 'sedan', 'small', 'suv', 'wagon'] \n",
      "\n",
      "gearbox: ['auto', 'manual'] \n",
      "\n",
      "model: ['100', '145', '147', '156', '159', '1_reihe', '1er', '200', '2_reihe', '300c', '3_reihe', '3er', '4_reihe', '500', '5_reihe', '5er', '601', '6_reihe', '6er', '7er', '80', '850', '90', '900', '9000', '911', 'a1', 'a2', 'a3', 'a4', 'a5', 'a6', 'a8', 'a_klasse', 'accord', 'agila', 'alhambra', 'almera', 'altea', 'amarok', 'antara', 'arosa', 'astra', 'auris', 'avensis', 'aveo', 'aygo', 'b_klasse', 'b_max', 'beetle', 'berlingo', 'bora', 'boxster', 'bravo', 'c1', 'c2', 'c3', 'c4', 'c5', 'c_klasse', 'c_max', 'c_reihe', 'caddy', 'calibra', 'captiva', 'carisma', 'carnival', 'cayenne', 'cc', 'ceed', 'charade', 'cherokee', 'citigo', 'civic', 'cl', 'clio', 'clk', 'clubman', 'colt', 'combo', 'cooper', 'cordoba', 'corolla', 'corsa', 'cr_reihe', 'croma', 'crossfire', 'cuore', 'cx_reihe', 'defender', 'delta', 'discovery', 'doblo', 'ducato', 'duster', 'e_klasse', 'elefantino', 'eos', 'escort', 'espace', 'exeo', 'fabia', 'fiesta', 'focus', 'forester', 'forfour', 'fortwo', 'fox', 'freelander', 'fusion', 'g_klasse', 'galant', 'galaxy', 'getz', 'gl', 'glk', 'golf', 'grand', 'i3', 'i_reihe', 'ibiza', 'impreza', 'insignia', 'jazz', 'jetta', 'jimny', 'juke', 'justy', 'ka', 'kadett', 'kaefer', 'kalina', 'kalos', 'kangoo', 'kappa', 'kuga', 'laguna', 'lancer', 'lanos', 'legacy', 'leon', 'lodgy', 'logan', 'lupo', 'lybra', 'm_klasse', 'm_reihe', 'materia', 'matiz', 'megane', 'meriva', 'micra', 'mii', 'modus', 'mondeo', 'move', 'musa', 'mustang', 'mx_reihe', 'navara', 'niva', 'note', 'nubira', 'octavia', 'omega', 'one', 'other', 'outlander', 'pajero', 'panda', 'passat', 'phaeton', 'picanto', 'polo', 'primera', 'ptcruiser', 'punto', 'q3', 'q5', 'q7', 'qashqai', 'r19', 'range_rover', 'range_rover_evoque', 'range_rover_sport', 'rangerover', 'rav', 'rio', 'roadster', 'roomster', 'rx_reihe', 's60', 's_klasse', 's_max', 's_type', 'samara', 'sandero', 'santa', 'scenic', 'scirocco', 'seicento', 'serie_1', 'serie_2', 'serie_3', 'sharan', 'signum', 'sirion', 'sl', 'slk', 'sorento', 'spark', 'spider', 'sportage', 'sprinter', 'stilo', 'superb', 'swift', 'terios', 'tigra', 'tiguan', 'toledo', 'touareg', 'touran', 'transit', 'transporter', 'tt', 'tucson', 'twingo', 'up', 'v40', 'v50', 'v60', 'v70', 'v_klasse', 'vectra', 'verso', 'viano', 'vito', 'vivaro', 'voyager', 'wrangler', 'x_reihe', 'x_trail', 'x_type', 'xc_reihe', 'yaris', 'yeti', 'ypsilon', 'z_reihe', 'zafira'] \n",
      "\n",
      "fuel_type: ['cng', 'electric', 'gasoline', 'hybrid', 'lpg', 'other', 'petrol'] \n",
      "\n",
      "brand: ['alfa_romeo', 'audi', 'bmw', 'chevrolet', 'chrysler', 'citroen', 'dacia', 'daewoo', 'daihatsu', 'fiat', 'ford', 'honda', 'hyundai', 'jaguar', 'jeep', 'kia', 'lada', 'lancia', 'land_rover', 'mazda', 'mercedes_benz', 'mini', 'mitsubishi', 'nissan', 'opel', 'peugeot', 'porsche', 'renault', 'rover', 'saab', 'seat', 'skoda', 'smart', 'sonstige_autos', 'subaru', 'suzuki', 'toyota', 'trabant', 'volkswagen', 'volvo'] \n",
      "\n",
      "repaired: ['no', 'yes'] \n",
      "\n"
     ]
    }
   ],
   "source": [
    "for col in data.select_dtypes(include='object').columns.tolist():\n",
    "    print(f'{col}:', sorted(data[col].dropna().unique()), '\\n')"
   ]
  },
  {
   "cell_type": "markdown",
   "metadata": {},
   "source": [
    "В признаках `vehicle_type`, `model`, `fuel_type` помимо пропущенных значений **NaN** присутствуют значения **other**. Эи два значения мы можем приравнять, так как за other может скрываться все что угодно."
   ]
  },
  {
   "cell_type": "code",
   "execution_count": 24,
   "metadata": {},
   "outputs": [],
   "source": [
    "for col in ['vehicle_type', 'model', 'fuel_type']:\n",
    "    data[col] = data[col].replace('other', np.nan)"
   ]
  },
  {
   "cell_type": "markdown",
   "metadata": {},
   "source": [
    "В признаке `fuel_type` значения **gasoline** и **petrol** означают бензин; первое название в ходу в Америке, а второе в Англии. Приравняем их и оставим только **gasoline**."
   ]
  },
  {
   "cell_type": "code",
   "execution_count": 25,
   "metadata": {},
   "outputs": [],
   "source": [
    "data['fuel_type'] = data['fuel_type'].replace('petrol', 'gasoline')"
   ]
  },
  {
   "cell_type": "markdown",
   "metadata": {},
   "source": [
    "**Вывод:** неявные дубликаты в признаке `fuel_type` успешно устранены. В признаке, содержащим название моделей возможно есть дубликаты, но на глаз их обнаружить не удалось. В остальных колонках дубликаты отсутствуют.\\\n",
    "Так же значения **other** заменены на **NaN**."
   ]
  },
  {
   "cell_type": "markdown",
   "metadata": {},
   "source": [
    "### Заполнение пропусков в категориальных признаках"
   ]
  },
  {
   "cell_type": "markdown",
   "metadata": {},
   "source": [
    "Посмотрим, сколько мы имеем пропусков на данный момент"
   ]
  },
  {
   "cell_type": "code",
   "execution_count": 26,
   "metadata": {},
   "outputs": [
    {
     "data": {
      "text/html": [
       "<style type=\"text/css\">\n",
       "#T_c8090_row0_col0 {\n",
       "  background-color: #d3e4f3;\n",
       "  color: #000000;\n",
       "}\n",
       "#T_c8090_row0_col1 {\n",
       "  background-color: #d4e4f4;\n",
       "  color: #000000;\n",
       "}\n",
       "#T_c8090_row1_col0, #T_c8090_row1_col1 {\n",
       "  background-color: #f7fbff;\n",
       "  color: #000000;\n",
       "}\n",
       "#T_c8090_row2_col0 {\n",
       "  background-color: #69add5;\n",
       "  color: #f1f1f1;\n",
       "}\n",
       "#T_c8090_row2_col1 {\n",
       "  background-color: #6aaed6;\n",
       "  color: #f1f1f1;\n",
       "}\n",
       "#T_c8090_row3_col0 {\n",
       "  background-color: #cee0f2;\n",
       "  color: #000000;\n",
       "}\n",
       "#T_c8090_row3_col1 {\n",
       "  background-color: #cfe1f2;\n",
       "  color: #000000;\n",
       "}\n",
       "#T_c8090_row4_col0, #T_c8090_row4_col1 {\n",
       "  background-color: #08306b;\n",
       "  color: #f1f1f1;\n",
       "}\n",
       "</style>\n",
       "<table id=\"T_c8090\">\n",
       "  <thead>\n",
       "    <tr>\n",
       "      <th class=\"blank level0\" >&nbsp;</th>\n",
       "      <th id=\"T_c8090_level0_col0\" class=\"col_heading level0 col0\" >percent</th>\n",
       "      <th id=\"T_c8090_level0_col1\" class=\"col_heading level0 col1\" >sum</th>\n",
       "    </tr>\n",
       "  </thead>\n",
       "  <tbody>\n",
       "    <tr>\n",
       "      <th id=\"T_c8090_level0_row0\" class=\"row_heading level0 row0\" >vehicle_type</th>\n",
       "      <td id=\"T_c8090_row0_col0\" class=\"data row0 col0\" >7.700000</td>\n",
       "      <td id=\"T_c8090_row0_col1\" class=\"data row0 col1\" >26103</td>\n",
       "    </tr>\n",
       "    <tr>\n",
       "      <th id=\"T_c8090_level0_row1\" class=\"row_heading level0 row1\" >gearbox</th>\n",
       "      <td id=\"T_c8090_row1_col0\" class=\"data row1 col0\" >5.200000</td>\n",
       "      <td id=\"T_c8090_row1_col1\" class=\"data row1 col1\" >17810</td>\n",
       "    </tr>\n",
       "    <tr>\n",
       "      <th id=\"T_c8090_level0_row2\" class=\"row_heading level0 row2\" >model</th>\n",
       "      <td id=\"T_c8090_row2_col0\" class=\"data row2 col0\" >12.200000</td>\n",
       "      <td id=\"T_c8090_row2_col1\" class=\"data row2 col1\" >41353</td>\n",
       "    </tr>\n",
       "    <tr>\n",
       "      <th id=\"T_c8090_level0_row3\" class=\"row_heading level0 row3\" >fuel_type</th>\n",
       "      <td id=\"T_c8090_row3_col0\" class=\"data row3 col0\" >8.100000</td>\n",
       "      <td id=\"T_c8090_row3_col1\" class=\"data row3 col1\" >27352</td>\n",
       "    </tr>\n",
       "    <tr>\n",
       "      <th id=\"T_c8090_level0_row4\" class=\"row_heading level0 row4\" >repaired</th>\n",
       "      <td id=\"T_c8090_row4_col0\" class=\"data row4 col0\" >19.000000</td>\n",
       "      <td id=\"T_c8090_row4_col1\" class=\"data row4 col1\" >64674</td>\n",
       "    </tr>\n",
       "  </tbody>\n",
       "</table>\n"
      ],
      "text/plain": [
       "<pandas.io.formats.style.Styler at 0x73e1ace10820>"
      ]
     },
     "execution_count": 26,
     "metadata": {},
     "output_type": "execute_result"
    }
   ],
   "source": [
    "pd.DataFrame({'percent': round(data.isna().mean()*100, 1), 'sum': data.isna().sum()}).query('sum > 0').style.background_gradient('Blues')"
   ]
  },
  {
   "cell_type": "markdown",
   "metadata": {},
   "source": [
    "Пропуски в названии модели автомобиля заполнить проблематично, поэтому все строки, где отсутствует значение признака `model` мы удалим."
   ]
  },
  {
   "cell_type": "code",
   "execution_count": 27,
   "metadata": {},
   "outputs": [
    {
     "name": "stdout",
     "output_type": "stream",
     "text": [
      "Количество удаленных строк: 41353\n"
     ]
    },
    {
     "data": {
      "text/html": [
       "<style type=\"text/css\">\n",
       "#T_1f0bb_row0_col0, #T_1f0bb_row0_col1 {\n",
       "  background-color: #d9e8f5;\n",
       "  color: #000000;\n",
       "}\n",
       "#T_1f0bb_row1_col0, #T_1f0bb_row1_col1 {\n",
       "  background-color: #f7fbff;\n",
       "  color: #000000;\n",
       "}\n",
       "#T_1f0bb_row2_col0 {\n",
       "  background-color: #d6e5f4;\n",
       "  color: #000000;\n",
       "}\n",
       "#T_1f0bb_row2_col1 {\n",
       "  background-color: #d6e6f4;\n",
       "  color: #000000;\n",
       "}\n",
       "#T_1f0bb_row3_col0, #T_1f0bb_row3_col1 {\n",
       "  background-color: #08306b;\n",
       "  color: #f1f1f1;\n",
       "}\n",
       "</style>\n",
       "<table id=\"T_1f0bb\">\n",
       "  <thead>\n",
       "    <tr>\n",
       "      <th class=\"blank level0\" >&nbsp;</th>\n",
       "      <th id=\"T_1f0bb_level0_col0\" class=\"col_heading level0 col0\" >percent</th>\n",
       "      <th id=\"T_1f0bb_level0_col1\" class=\"col_heading level0 col1\" >sum</th>\n",
       "    </tr>\n",
       "  </thead>\n",
       "  <tbody>\n",
       "    <tr>\n",
       "      <th id=\"T_1f0bb_level0_row0\" class=\"row_heading level0 row0\" >vehicle_type</th>\n",
       "      <td id=\"T_1f0bb_row0_col0\" class=\"data row0 col0\" >6.300000</td>\n",
       "      <td id=\"T_1f0bb_row0_col1\" class=\"data row0 col1\" >18915</td>\n",
       "    </tr>\n",
       "    <tr>\n",
       "      <th id=\"T_1f0bb_level0_row1\" class=\"row_heading level0 row1\" >gearbox</th>\n",
       "      <td id=\"T_1f0bb_row1_col0\" class=\"data row1 col0\" >4.300000</td>\n",
       "      <td id=\"T_1f0bb_row1_col1\" class=\"data row1 col1\" >12894</td>\n",
       "    </tr>\n",
       "    <tr>\n",
       "      <th id=\"T_1f0bb_level0_row2\" class=\"row_heading level0 row2\" >fuel_type</th>\n",
       "      <td id=\"T_1f0bb_row2_col0\" class=\"data row2 col0\" >6.600000</td>\n",
       "      <td id=\"T_1f0bb_row2_col1\" class=\"data row2 col1\" >19557</td>\n",
       "    </tr>\n",
       "    <tr>\n",
       "      <th id=\"T_1f0bb_level0_row3\" class=\"row_heading level0 row3\" >repaired</th>\n",
       "      <td id=\"T_1f0bb_row3_col0\" class=\"data row3 col0\" >17.700000</td>\n",
       "      <td id=\"T_1f0bb_row3_col1\" class=\"data row3 col1\" >52684</td>\n",
       "    </tr>\n",
       "  </tbody>\n",
       "</table>\n"
      ],
      "text/plain": [
       "<pandas.io.formats.style.Styler at 0x73e1acf9e280>"
      ]
     },
     "execution_count": 27,
     "metadata": {},
     "output_type": "execute_result"
    }
   ],
   "source": [
    "rows_before = data.shape[0]\n",
    "\n",
    "data = data.dropna(subset=['model'])\n",
    "\n",
    "print('Количество удаленных строк:', rows_before - data.shape[0])\n",
    "\n",
    "\n",
    "pd.DataFrame({'percent': round(data.isna().mean()*100, 1), 'sum': data.isna().sum()}).query('sum > 0').style.background_gradient('Blues')"
   ]
  },
  {
   "cell_type": "markdown",
   "metadata": {},
   "source": [
    "Пропуски в признаках `vehicle_type`, `gearbox`, `fuel_type` заполним самым частым значением для комбинации бренда и модели. Для этого создадим вспомогательную таблицу с уникальными комбинациями названий."
   ]
  },
  {
   "cell_type": "code",
   "execution_count": 28,
   "metadata": {},
   "outputs": [
    {
     "data": {
      "text/html": [
       "<div>\n",
       "<style scoped>\n",
       "    .dataframe tbody tr th:only-of-type {\n",
       "        vertical-align: middle;\n",
       "    }\n",
       "\n",
       "    .dataframe tbody tr th {\n",
       "        vertical-align: top;\n",
       "    }\n",
       "\n",
       "    .dataframe thead th {\n",
       "        text-align: right;\n",
       "    }\n",
       "</style>\n",
       "<table border=\"1\" class=\"dataframe\">\n",
       "  <thead>\n",
       "    <tr style=\"text-align: right;\">\n",
       "      <th></th>\n",
       "      <th>brand</th>\n",
       "      <th>model</th>\n",
       "      <th>fuel_type</th>\n",
       "      <th>gearbox</th>\n",
       "      <th>vehicle_type</th>\n",
       "    </tr>\n",
       "  </thead>\n",
       "  <tbody>\n",
       "    <tr>\n",
       "      <th>0</th>\n",
       "      <td>alfa_romeo</td>\n",
       "      <td>145</td>\n",
       "      <td>gasoline</td>\n",
       "      <td>manual</td>\n",
       "      <td>small</td>\n",
       "    </tr>\n",
       "    <tr>\n",
       "      <th>1</th>\n",
       "      <td>alfa_romeo</td>\n",
       "      <td>147</td>\n",
       "      <td>gasoline</td>\n",
       "      <td>manual</td>\n",
       "      <td>sedan</td>\n",
       "    </tr>\n",
       "    <tr>\n",
       "      <th>2</th>\n",
       "      <td>alfa_romeo</td>\n",
       "      <td>156</td>\n",
       "      <td>gasoline</td>\n",
       "      <td>manual</td>\n",
       "      <td>wagon</td>\n",
       "    </tr>\n",
       "    <tr>\n",
       "      <th>3</th>\n",
       "      <td>alfa_romeo</td>\n",
       "      <td>159</td>\n",
       "      <td>gasoline</td>\n",
       "      <td>manual</td>\n",
       "      <td>wagon</td>\n",
       "    </tr>\n",
       "    <tr>\n",
       "      <th>4</th>\n",
       "      <td>alfa_romeo</td>\n",
       "      <td>spider</td>\n",
       "      <td>gasoline</td>\n",
       "      <td>manual</td>\n",
       "      <td>convertible</td>\n",
       "    </tr>\n",
       "  </tbody>\n",
       "</table>\n",
       "</div>"
      ],
      "text/plain": [
       "        brand   model fuel_type gearbox vehicle_type\n",
       "0  alfa_romeo     145  gasoline  manual        small\n",
       "1  alfa_romeo     147  gasoline  manual        sedan\n",
       "2  alfa_romeo     156  gasoline  manual        wagon\n",
       "3  alfa_romeo     159  gasoline  manual        wagon\n",
       "4  alfa_romeo  spider  gasoline  manual  convertible"
      ]
     },
     "execution_count": 28,
     "metadata": {},
     "output_type": "execute_result"
    }
   ],
   "source": [
    "# создаем сводную таблицу data_pivot_1, где содержатся уникальные комбинации бренда и модели\n",
    "# и самые часто встречающиеся значения для признаков (мода)\n",
    "data_pivot_1 = data.pivot_table(\n",
    "    index=['brand', 'model'], \n",
    "    aggfunc={\n",
    "        'vehicle_type': pd.Series.mode, \n",
    "        'gearbox': pd.Series.mode, \n",
    "        'fuel_type': pd.Series.mode}\n",
    "    ).copy().reset_index()\n",
    "\n",
    "data_pivot_1.head()"
   ]
  },
  {
   "cell_type": "markdown",
   "metadata": {},
   "source": [
    "Заполняем пропуски в основной таблице самыми частыми значениями для каждой комбинации бренда и модели"
   ]
  },
  {
   "cell_type": "code",
   "execution_count": 29,
   "metadata": {},
   "outputs": [
    {
     "name": "stdout",
     "output_type": "stream",
     "text": [
      "CPU times: user 22.1 s, sys: 0 ns, total: 22.1 s\n",
      "Wall time: 22.1 s\n"
     ]
    },
    {
     "data": {
      "text/html": [
       "<style type=\"text/css\">\n",
       "#T_ee7ad_row0_col0, #T_ee7ad_row0_col1, #T_ee7ad_row1_col0, #T_ee7ad_row1_col1, #T_ee7ad_row2_col0, #T_ee7ad_row2_col1 {\n",
       "  background-color: #f7fbff;\n",
       "  color: #000000;\n",
       "}\n",
       "</style>\n",
       "<table id=\"T_ee7ad\">\n",
       "  <thead>\n",
       "    <tr>\n",
       "      <th class=\"blank level0\" >&nbsp;</th>\n",
       "      <th id=\"T_ee7ad_level0_col0\" class=\"col_heading level0 col0\" >percent</th>\n",
       "      <th id=\"T_ee7ad_level0_col1\" class=\"col_heading level0 col1\" >sum</th>\n",
       "    </tr>\n",
       "  </thead>\n",
       "  <tbody>\n",
       "    <tr>\n",
       "      <th id=\"T_ee7ad_level0_row0\" class=\"row_heading level0 row0\" >vehicle_type</th>\n",
       "      <td id=\"T_ee7ad_row0_col0\" class=\"data row0 col0\" >0.000000</td>\n",
       "      <td id=\"T_ee7ad_row0_col1\" class=\"data row0 col1\" >0</td>\n",
       "    </tr>\n",
       "    <tr>\n",
       "      <th id=\"T_ee7ad_level0_row1\" class=\"row_heading level0 row1\" >gearbox</th>\n",
       "      <td id=\"T_ee7ad_row1_col0\" class=\"data row1 col0\" >0.000000</td>\n",
       "      <td id=\"T_ee7ad_row1_col1\" class=\"data row1 col1\" >0</td>\n",
       "    </tr>\n",
       "    <tr>\n",
       "      <th id=\"T_ee7ad_level0_row2\" class=\"row_heading level0 row2\" >fuel_type</th>\n",
       "      <td id=\"T_ee7ad_row2_col0\" class=\"data row2 col0\" >0.000000</td>\n",
       "      <td id=\"T_ee7ad_row2_col1\" class=\"data row2 col1\" >0</td>\n",
       "    </tr>\n",
       "  </tbody>\n",
       "</table>\n"
      ],
      "text/plain": [
       "<pandas.io.formats.style.Styler at 0x73e1aad630d0>"
      ]
     },
     "execution_count": 29,
     "metadata": {},
     "output_type": "execute_result"
    }
   ],
   "source": [
    "%%time\n",
    "\n",
    "for i in data_pivot_1.index:\n",
    "    brand = data_pivot_1.loc[i, 'brand']\n",
    "    model = data_pivot_1.loc[i, 'model']\n",
    "    for col in ['vehicle_type', 'gearbox', 'fuel_type']:\n",
    "        feature = data_pivot_1.loc[i, col]\n",
    "        # если модой являются 2 и более значения, то выбираем первое из списка\n",
    "        if isinstance(feature, np.ndarray):\n",
    "            feature = feature[0]\n",
    "        data.loc[(data['brand'] == brand) & (data['model'] == model) & (data[col].isna()), col] = feature\n",
    "        # data.loc[(data['brand'] == brand) & (data['model'] == model), col] = \\\n",
    "        # data.loc[(data['brand'] == brand) & (data['model'] == model), col].fillna(feature)\n",
    "        \n",
    "\n",
    "pd.DataFrame({'percent': round(data.isna().mean()*100, 1), 'sum': data.isna().sum()}).loc[['vehicle_type', 'gearbox', 'fuel_type'], :].style.background_gradient('Blues')"
   ]
  },
  {
   "cell_type": "markdown",
   "metadata": {},
   "source": [
    "Пропуски в столбце `repaired` (была машина в ремонте или нет) заполним заглушкой. Это будет равносильно тому, что информации о повреждении машины нет."
   ]
  },
  {
   "cell_type": "code",
   "execution_count": 30,
   "metadata": {},
   "outputs": [],
   "source": [
    "data['repaired'] = data['repaired'].fillna('undefined')"
   ]
  },
  {
   "cell_type": "markdown",
   "metadata": {},
   "source": [
    "**Вывод:** мы успешно избавились от пропусков в категориальных признаках."
   ]
  },
  {
   "cell_type": "markdown",
   "metadata": {},
   "source": [
    "### Исправление значений в количественных признаках"
   ]
  },
  {
   "cell_type": "markdown",
   "metadata": {},
   "source": [
    "Рассмотрим распределение числовых признаков"
   ]
  },
  {
   "cell_type": "code",
   "execution_count": 31,
   "metadata": {},
   "outputs": [
    {
     "data": {
      "text/html": [
       "<div>\n",
       "<style scoped>\n",
       "    .dataframe tbody tr th:only-of-type {\n",
       "        vertical-align: middle;\n",
       "    }\n",
       "\n",
       "    .dataframe tbody tr th {\n",
       "        vertical-align: top;\n",
       "    }\n",
       "\n",
       "    .dataframe thead th {\n",
       "        text-align: right;\n",
       "    }\n",
       "</style>\n",
       "<table border=\"1\" class=\"dataframe\">\n",
       "  <thead>\n",
       "    <tr style=\"text-align: right;\">\n",
       "      <th></th>\n",
       "      <th>date_crawled</th>\n",
       "      <th>price</th>\n",
       "      <th>registration_year</th>\n",
       "      <th>power</th>\n",
       "      <th>kilometer</th>\n",
       "      <th>registration_month</th>\n",
       "      <th>date_created</th>\n",
       "      <th>number_of_pictures</th>\n",
       "      <th>postal_code</th>\n",
       "      <th>last_seen</th>\n",
       "    </tr>\n",
       "  </thead>\n",
       "  <tbody>\n",
       "    <tr>\n",
       "      <th>count</th>\n",
       "      <td>298214</td>\n",
       "      <td>298214.000000</td>\n",
       "      <td>298214.000000</td>\n",
       "      <td>298214.000000</td>\n",
       "      <td>298214.000000</td>\n",
       "      <td>298214.000000</td>\n",
       "      <td>298214</td>\n",
       "      <td>298214.0</td>\n",
       "      <td>298214.000000</td>\n",
       "      <td>298214</td>\n",
       "    </tr>\n",
       "    <tr>\n",
       "      <th>mean</th>\n",
       "      <td>2016-03-21 13:02:44.133870080</td>\n",
       "      <td>4565.033043</td>\n",
       "      <td>2002.983348</td>\n",
       "      <td>112.048019</td>\n",
       "      <td>128842.911466</td>\n",
       "      <td>5.864423</td>\n",
       "      <td>2016-03-20 19:32:28.375327744</td>\n",
       "      <td>0.0</td>\n",
       "      <td>50807.576127</td>\n",
       "      <td>2016-03-30 00:12:18.137230336</td>\n",
       "    </tr>\n",
       "    <tr>\n",
       "      <th>min</th>\n",
       "      <td>2016-03-05 14:06:22</td>\n",
       "      <td>0.000000</td>\n",
       "      <td>1950.000000</td>\n",
       "      <td>0.000000</td>\n",
       "      <td>5000.000000</td>\n",
       "      <td>0.000000</td>\n",
       "      <td>2016-01-02 00:00:00</td>\n",
       "      <td>0.0</td>\n",
       "      <td>1067.000000</td>\n",
       "      <td>2016-03-05 14:15:08</td>\n",
       "    </tr>\n",
       "    <tr>\n",
       "      <th>25%</th>\n",
       "      <td>2016-03-13 11:42:08.249999872</td>\n",
       "      <td>1180.000000</td>\n",
       "      <td>1999.000000</td>\n",
       "      <td>71.000000</td>\n",
       "      <td>125000.000000</td>\n",
       "      <td>3.000000</td>\n",
       "      <td>2016-03-13 00:00:00</td>\n",
       "      <td>0.0</td>\n",
       "      <td>30539.000000</td>\n",
       "      <td>2016-03-23 03:49:55</td>\n",
       "    </tr>\n",
       "    <tr>\n",
       "      <th>50%</th>\n",
       "      <td>2016-03-21 17:51:28</td>\n",
       "      <td>2900.000000</td>\n",
       "      <td>2003.000000</td>\n",
       "      <td>105.000000</td>\n",
       "      <td>150000.000000</td>\n",
       "      <td>6.000000</td>\n",
       "      <td>2016-03-21 00:00:00</td>\n",
       "      <td>0.0</td>\n",
       "      <td>49635.000000</td>\n",
       "      <td>2016-04-03 16:10:30</td>\n",
       "    </tr>\n",
       "    <tr>\n",
       "      <th>75%</th>\n",
       "      <td>2016-03-29 14:49:09.500000</td>\n",
       "      <td>6600.000000</td>\n",
       "      <td>2007.000000</td>\n",
       "      <td>143.000000</td>\n",
       "      <td>150000.000000</td>\n",
       "      <td>9.000000</td>\n",
       "      <td>2016-03-29 00:00:00</td>\n",
       "      <td>0.0</td>\n",
       "      <td>71334.000000</td>\n",
       "      <td>2016-04-06 10:16:04</td>\n",
       "    </tr>\n",
       "    <tr>\n",
       "      <th>max</th>\n",
       "      <td>2016-04-07 14:36:58</td>\n",
       "      <td>20000.000000</td>\n",
       "      <td>2016.000000</td>\n",
       "      <td>20000.000000</td>\n",
       "      <td>150000.000000</td>\n",
       "      <td>12.000000</td>\n",
       "      <td>2016-04-07 00:00:00</td>\n",
       "      <td>0.0</td>\n",
       "      <td>99998.000000</td>\n",
       "      <td>2016-04-07 14:58:51</td>\n",
       "    </tr>\n",
       "    <tr>\n",
       "      <th>std</th>\n",
       "      <td>NaN</td>\n",
       "      <td>4549.710045</td>\n",
       "      <td>6.100180</td>\n",
       "      <td>184.128530</td>\n",
       "      <td>36805.811421</td>\n",
       "      <td>3.672959</td>\n",
       "      <td>NaN</td>\n",
       "      <td>0.0</td>\n",
       "      <td>25720.532936</td>\n",
       "      <td>NaN</td>\n",
       "    </tr>\n",
       "  </tbody>\n",
       "</table>\n",
       "</div>"
      ],
      "text/plain": [
       "                        date_crawled          price  registration_year  \\\n",
       "count                         298214  298214.000000      298214.000000   \n",
       "mean   2016-03-21 13:02:44.133870080    4565.033043        2002.983348   \n",
       "min              2016-03-05 14:06:22       0.000000        1950.000000   \n",
       "25%    2016-03-13 11:42:08.249999872    1180.000000        1999.000000   \n",
       "50%              2016-03-21 17:51:28    2900.000000        2003.000000   \n",
       "75%       2016-03-29 14:49:09.500000    6600.000000        2007.000000   \n",
       "max              2016-04-07 14:36:58   20000.000000        2016.000000   \n",
       "std                              NaN    4549.710045           6.100180   \n",
       "\n",
       "               power      kilometer  registration_month  \\\n",
       "count  298214.000000  298214.000000       298214.000000   \n",
       "mean      112.048019  128842.911466            5.864423   \n",
       "min         0.000000    5000.000000            0.000000   \n",
       "25%        71.000000  125000.000000            3.000000   \n",
       "50%       105.000000  150000.000000            6.000000   \n",
       "75%       143.000000  150000.000000            9.000000   \n",
       "max     20000.000000  150000.000000           12.000000   \n",
       "std       184.128530   36805.811421            3.672959   \n",
       "\n",
       "                        date_created  number_of_pictures    postal_code  \\\n",
       "count                         298214            298214.0  298214.000000   \n",
       "mean   2016-03-20 19:32:28.375327744                 0.0   50807.576127   \n",
       "min              2016-01-02 00:00:00                 0.0    1067.000000   \n",
       "25%              2016-03-13 00:00:00                 0.0   30539.000000   \n",
       "50%              2016-03-21 00:00:00                 0.0   49635.000000   \n",
       "75%              2016-03-29 00:00:00                 0.0   71334.000000   \n",
       "max              2016-04-07 00:00:00                 0.0   99998.000000   \n",
       "std                              NaN                 0.0   25720.532936   \n",
       "\n",
       "                           last_seen  \n",
       "count                         298214  \n",
       "mean   2016-03-30 00:12:18.137230336  \n",
       "min              2016-03-05 14:15:08  \n",
       "25%              2016-03-23 03:49:55  \n",
       "50%              2016-04-03 16:10:30  \n",
       "75%              2016-04-06 10:16:04  \n",
       "max              2016-04-07 14:58:51  \n",
       "std                              NaN  "
      ]
     },
     "execution_count": 31,
     "metadata": {},
     "output_type": "execute_result"
    }
   ],
   "source": [
    "data.describe()"
   ]
  },
  {
   "cell_type": "markdown",
   "metadata": {},
   "source": [
    "- `price` - имеет аномальные значения, равные нулю.\n",
    "- `registration_year` - с данным признаком все в порядке - его значения мы обработали выше\n",
    "- `power` - в столбце с мощностью двигателя присутствуют аномально высокие и аномально низкие значения - от 0 до 20000.\n",
    "- `kilometer` - данные по пробегам на первый взгляд адекватные.\n",
    "- `registration_month` - в столбце с месяцем регистрации присутствуют нулевые значения.\n",
    "- `number_of_pictures` - признак имеет только нулевые значения. Его можно смело удалять.\n",
    "- `postal_code` - почтовый индекс пользователя - данный признак, скорее всего будет бесполезным для модели. Но мы его пока оставим."
   ]
  },
  {
   "cell_type": "markdown",
   "metadata": {},
   "source": [
    "Посмотрим, какое количество нулевых значений содержит признак `registration_month`"
   ]
  },
  {
   "cell_type": "code",
   "execution_count": 32,
   "metadata": {},
   "outputs": [
    {
     "name": "stdout",
     "output_type": "stream",
     "text": [
      "25479 8.54%\n"
     ]
    }
   ],
   "source": [
    "print(f\"{data.loc[data['registration_month'] == 0, 'registration_month'].count()} {data.loc[data['registration_month'] == 0, 'registration_month'].count() / data.shape[0] * 100:.2f}%\")"
   ]
  },
  {
   "cell_type": "markdown",
   "metadata": {},
   "source": [
    "8.5% датасета имеет нулевое значение месяца регистрации. Лучшим решением будет удалить данный признак, так как, во первых, восстановить нулевые значения не представляется возможным; а во вторых, сезонность не должна влиять на стоимость авто.\\\n",
    "Так же удалим `number_of_pictures` - данный признак содержит только нулевые значения.\\\n",
    "Для дальнейшей работы признаки, содержащие даты нам больше не понадобятся - их так же удалим."
   ]
  },
  {
   "cell_type": "code",
   "execution_count": 33,
   "metadata": {},
   "outputs": [
    {
     "data": {
      "text/html": [
       "<div>\n",
       "<style scoped>\n",
       "    .dataframe tbody tr th:only-of-type {\n",
       "        vertical-align: middle;\n",
       "    }\n",
       "\n",
       "    .dataframe tbody tr th {\n",
       "        vertical-align: top;\n",
       "    }\n",
       "\n",
       "    .dataframe thead th {\n",
       "        text-align: right;\n",
       "    }\n",
       "</style>\n",
       "<table border=\"1\" class=\"dataframe\">\n",
       "  <thead>\n",
       "    <tr style=\"text-align: right;\">\n",
       "      <th></th>\n",
       "      <th>price</th>\n",
       "      <th>vehicle_type</th>\n",
       "      <th>registration_year</th>\n",
       "      <th>gearbox</th>\n",
       "      <th>power</th>\n",
       "      <th>model</th>\n",
       "      <th>kilometer</th>\n",
       "      <th>fuel_type</th>\n",
       "      <th>brand</th>\n",
       "      <th>repaired</th>\n",
       "      <th>postal_code</th>\n",
       "    </tr>\n",
       "  </thead>\n",
       "  <tbody>\n",
       "  </tbody>\n",
       "</table>\n",
       "</div>"
      ],
      "text/plain": [
       "Empty DataFrame\n",
       "Columns: [price, vehicle_type, registration_year, gearbox, power, model, kilometer, fuel_type, brand, repaired, postal_code]\n",
       "Index: []"
      ]
     },
     "execution_count": 33,
     "metadata": {},
     "output_type": "execute_result"
    }
   ],
   "source": [
    "data = data.drop(['date_crawled', 'date_created', 'last_seen', 'number_of_pictures', 'registration_month'], axis=1)\n",
    "\n",
    "data.head(0)"
   ]
  },
  {
   "cell_type": "markdown",
   "metadata": {},
   "source": [
    "Признак `power` содержит явные аномалии от 0 до 20000.\\\n",
    "Для начала заменим на пропуски все значения ниже 26 л.с. и выше 600 л.с. За нижнюю границу примем такой автомобиль, как **Trabant 601**, который мог иметь мотор в 26 л.с. За верхнюю границу возьмем такие автомобили, как **Jaguar s-type, Audi a6, Mercedes Benz S klasse**, которые если не в стоке, то при чип-тюнинге и доработках могут иметь подобную мощность. Все что выходит за эти границы имеет высокую вероятность быть ошибкой."
   ]
  },
  {
   "cell_type": "code",
   "execution_count": 34,
   "metadata": {},
   "outputs": [
    {
     "name": "stdout",
     "output_type": "stream",
     "text": [
      "Нижняя граница:\n"
     ]
    },
    {
     "data": {
      "text/html": [
       "<div>\n",
       "<style scoped>\n",
       "    .dataframe tbody tr th:only-of-type {\n",
       "        vertical-align: middle;\n",
       "    }\n",
       "\n",
       "    .dataframe tbody tr th {\n",
       "        vertical-align: top;\n",
       "    }\n",
       "\n",
       "    .dataframe thead th {\n",
       "        text-align: right;\n",
       "    }\n",
       "</style>\n",
       "<table border=\"1\" class=\"dataframe\">\n",
       "  <thead>\n",
       "    <tr style=\"text-align: right;\">\n",
       "      <th></th>\n",
       "      <th>brand</th>\n",
       "      <th>model</th>\n",
       "      <th>power</th>\n",
       "    </tr>\n",
       "  </thead>\n",
       "  <tbody>\n",
       "    <tr>\n",
       "      <th>140293</th>\n",
       "      <td>trabant</td>\n",
       "      <td>601</td>\n",
       "      <td>26</td>\n",
       "    </tr>\n",
       "    <tr>\n",
       "      <th>172741</th>\n",
       "      <td>trabant</td>\n",
       "      <td>601</td>\n",
       "      <td>26</td>\n",
       "    </tr>\n",
       "    <tr>\n",
       "      <th>188633</th>\n",
       "      <td>trabant</td>\n",
       "      <td>601</td>\n",
       "      <td>26</td>\n",
       "    </tr>\n",
       "    <tr>\n",
       "      <th>326941</th>\n",
       "      <td>trabant</td>\n",
       "      <td>601</td>\n",
       "      <td>26</td>\n",
       "    </tr>\n",
       "    <tr>\n",
       "      <th>218071</th>\n",
       "      <td>trabant</td>\n",
       "      <td>601</td>\n",
       "      <td>26</td>\n",
       "    </tr>\n",
       "    <tr>\n",
       "      <th>263834</th>\n",
       "      <td>trabant</td>\n",
       "      <td>601</td>\n",
       "      <td>26</td>\n",
       "    </tr>\n",
       "    <tr>\n",
       "      <th>307339</th>\n",
       "      <td>trabant</td>\n",
       "      <td>601</td>\n",
       "      <td>26</td>\n",
       "    </tr>\n",
       "    <tr>\n",
       "      <th>297237</th>\n",
       "      <td>trabant</td>\n",
       "      <td>601</td>\n",
       "      <td>26</td>\n",
       "    </tr>\n",
       "    <tr>\n",
       "      <th>142103</th>\n",
       "      <td>trabant</td>\n",
       "      <td>601</td>\n",
       "      <td>26</td>\n",
       "    </tr>\n",
       "    <tr>\n",
       "      <th>231390</th>\n",
       "      <td>trabant</td>\n",
       "      <td>601</td>\n",
       "      <td>26</td>\n",
       "    </tr>\n",
       "  </tbody>\n",
       "</table>\n",
       "</div>"
      ],
      "text/plain": [
       "          brand model  power\n",
       "140293  trabant   601     26\n",
       "172741  trabant   601     26\n",
       "188633  trabant   601     26\n",
       "326941  trabant   601     26\n",
       "218071  trabant   601     26\n",
       "263834  trabant   601     26\n",
       "307339  trabant   601     26\n",
       "297237  trabant   601     26\n",
       "142103  trabant   601     26\n",
       "231390  trabant   601     26"
      ]
     },
     "metadata": {},
     "output_type": "display_data"
    },
    {
     "name": "stdout",
     "output_type": "stream",
     "text": [
      "\n",
      "\n",
      "Верхняя граница:\n"
     ]
    },
    {
     "data": {
      "text/html": [
       "<div>\n",
       "<style scoped>\n",
       "    .dataframe tbody tr th:only-of-type {\n",
       "        vertical-align: middle;\n",
       "    }\n",
       "\n",
       "    .dataframe tbody tr th {\n",
       "        vertical-align: top;\n",
       "    }\n",
       "\n",
       "    .dataframe thead th {\n",
       "        text-align: right;\n",
       "    }\n",
       "</style>\n",
       "<table border=\"1\" class=\"dataframe\">\n",
       "  <thead>\n",
       "    <tr style=\"text-align: right;\">\n",
       "      <th></th>\n",
       "      <th>brand</th>\n",
       "      <th>model</th>\n",
       "      <th>power</th>\n",
       "    </tr>\n",
       "  </thead>\n",
       "  <tbody>\n",
       "    <tr>\n",
       "      <th>162460</th>\n",
       "      <td>jaguar</td>\n",
       "      <td>s_type</td>\n",
       "      <td>600</td>\n",
       "    </tr>\n",
       "    <tr>\n",
       "      <th>146339</th>\n",
       "      <td>jaguar</td>\n",
       "      <td>s_type</td>\n",
       "      <td>600</td>\n",
       "    </tr>\n",
       "    <tr>\n",
       "      <th>13373</th>\n",
       "      <td>jaguar</td>\n",
       "      <td>s_type</td>\n",
       "      <td>600</td>\n",
       "    </tr>\n",
       "    <tr>\n",
       "      <th>151744</th>\n",
       "      <td>audi</td>\n",
       "      <td>a6</td>\n",
       "      <td>600</td>\n",
       "    </tr>\n",
       "    <tr>\n",
       "      <th>243042</th>\n",
       "      <td>mercedes_benz</td>\n",
       "      <td>s_klasse</td>\n",
       "      <td>600</td>\n",
       "    </tr>\n",
       "    <tr>\n",
       "      <th>43600</th>\n",
       "      <td>audi</td>\n",
       "      <td>a6</td>\n",
       "      <td>600</td>\n",
       "    </tr>\n",
       "    <tr>\n",
       "      <th>180840</th>\n",
       "      <td>volkswagen</td>\n",
       "      <td>polo</td>\n",
       "      <td>601</td>\n",
       "    </tr>\n",
       "    <tr>\n",
       "      <th>42521</th>\n",
       "      <td>seat</td>\n",
       "      <td>arosa</td>\n",
       "      <td>601</td>\n",
       "    </tr>\n",
       "    <tr>\n",
       "      <th>331252</th>\n",
       "      <td>volkswagen</td>\n",
       "      <td>polo</td>\n",
       "      <td>601</td>\n",
       "    </tr>\n",
       "    <tr>\n",
       "      <th>227383</th>\n",
       "      <td>volkswagen</td>\n",
       "      <td>golf</td>\n",
       "      <td>603</td>\n",
       "    </tr>\n",
       "  </tbody>\n",
       "</table>\n",
       "</div>"
      ],
      "text/plain": [
       "                brand     model  power\n",
       "162460         jaguar    s_type    600\n",
       "146339         jaguar    s_type    600\n",
       "13373          jaguar    s_type    600\n",
       "151744           audi        a6    600\n",
       "243042  mercedes_benz  s_klasse    600\n",
       "43600            audi        a6    600\n",
       "180840     volkswagen      polo    601\n",
       "42521            seat     arosa    601\n",
       "331252     volkswagen      polo    601\n",
       "227383     volkswagen      golf    603"
      ]
     },
     "execution_count": 34,
     "metadata": {},
     "output_type": "execute_result"
    }
   ],
   "source": [
    "print('Нижняя граница:')\n",
    "display(data.loc[data['power'] < 27, ['brand', 'model', 'power']].sort_values(by='power', ascending=False).head(10))\n",
    "print('\\n')\n",
    "print('Верхняя граница:')\n",
    "data.loc[data['power'] > 599, ['brand', 'model', 'power']].sort_values(by='power').head(10)"
   ]
  },
  {
   "cell_type": "markdown",
   "metadata": {},
   "source": [
    "Заменяем значения мощности, выходящие за границы **[26, 600]** на пропуски:"
   ]
  },
  {
   "cell_type": "code",
   "execution_count": 35,
   "metadata": {},
   "outputs": [],
   "source": [
    "data.loc[(data['power'] < 26) | (data['power'] > 600), 'power'] = np.nan"
   ]
  },
  {
   "cell_type": "markdown",
   "metadata": {},
   "source": [
    "Создаем сводную таблицу, и для каждой уникальной комбинации бренда и модели считаем медианную мощность"
   ]
  },
  {
   "cell_type": "code",
   "execution_count": 36,
   "metadata": {},
   "outputs": [
    {
     "data": {
      "text/html": [
       "<div>\n",
       "<style scoped>\n",
       "    .dataframe tbody tr th:only-of-type {\n",
       "        vertical-align: middle;\n",
       "    }\n",
       "\n",
       "    .dataframe tbody tr th {\n",
       "        vertical-align: top;\n",
       "    }\n",
       "\n",
       "    .dataframe thead th {\n",
       "        text-align: right;\n",
       "    }\n",
       "</style>\n",
       "<table border=\"1\" class=\"dataframe\">\n",
       "  <thead>\n",
       "    <tr style=\"text-align: right;\">\n",
       "      <th></th>\n",
       "      <th>brand</th>\n",
       "      <th>model</th>\n",
       "      <th>power</th>\n",
       "    </tr>\n",
       "  </thead>\n",
       "  <tbody>\n",
       "    <tr>\n",
       "      <th>0</th>\n",
       "      <td>alfa_romeo</td>\n",
       "      <td>145</td>\n",
       "      <td>103.0</td>\n",
       "    </tr>\n",
       "    <tr>\n",
       "      <th>1</th>\n",
       "      <td>alfa_romeo</td>\n",
       "      <td>147</td>\n",
       "      <td>120.0</td>\n",
       "    </tr>\n",
       "    <tr>\n",
       "      <th>2</th>\n",
       "      <td>alfa_romeo</td>\n",
       "      <td>156</td>\n",
       "      <td>150.0</td>\n",
       "    </tr>\n",
       "    <tr>\n",
       "      <th>3</th>\n",
       "      <td>alfa_romeo</td>\n",
       "      <td>159</td>\n",
       "      <td>170.0</td>\n",
       "    </tr>\n",
       "    <tr>\n",
       "      <th>4</th>\n",
       "      <td>alfa_romeo</td>\n",
       "      <td>spider</td>\n",
       "      <td>150.0</td>\n",
       "    </tr>\n",
       "  </tbody>\n",
       "</table>\n",
       "</div>"
      ],
      "text/plain": [
       "        brand   model  power\n",
       "0  alfa_romeo     145  103.0\n",
       "1  alfa_romeo     147  120.0\n",
       "2  alfa_romeo     156  150.0\n",
       "3  alfa_romeo     159  170.0\n",
       "4  alfa_romeo  spider  150.0"
      ]
     },
     "execution_count": 36,
     "metadata": {},
     "output_type": "execute_result"
    }
   ],
   "source": [
    "data_pivot_2 = data.pivot_table(\n",
    "    index=['brand', 'model'], \n",
    "    aggfunc={'power': 'median'}\n",
    "    ).copy().reset_index()\n",
    "\n",
    "data_pivot_2.head()"
   ]
  },
  {
   "cell_type": "markdown",
   "metadata": {},
   "source": [
    "Заполняем пропуски рассчитанной медианой"
   ]
  },
  {
   "cell_type": "code",
   "execution_count": 37,
   "metadata": {},
   "outputs": [
    {
     "name": "stdout",
     "output_type": "stream",
     "text": [
      "CPU times: user 5.56 s, sys: 0 ns, total: 5.56 s\n",
      "Wall time: 5.56 s\n"
     ]
    }
   ],
   "source": [
    "%%time\n",
    "\n",
    "for i in data_pivot_2.index:\n",
    "    brand = data_pivot_2.loc[i, 'brand']\n",
    "    model = data_pivot_2.loc[i, 'model']\n",
    "    feature = data_pivot_2.loc[i, 'power']\n",
    "    data.loc[(data['brand'] == brand) & (data['model'] == model) & (data['power'].isna()), 'power'] = feature"
   ]
  },
  {
   "cell_type": "markdown",
   "metadata": {},
   "source": [
    "Проверяем, остались ли пропуски в признаке `power`"
   ]
  },
  {
   "cell_type": "code",
   "execution_count": 38,
   "metadata": {},
   "outputs": [
    {
     "data": {
      "text/html": [
       "<div>\n",
       "<style scoped>\n",
       "    .dataframe tbody tr th:only-of-type {\n",
       "        vertical-align: middle;\n",
       "    }\n",
       "\n",
       "    .dataframe tbody tr th {\n",
       "        vertical-align: top;\n",
       "    }\n",
       "\n",
       "    .dataframe thead th {\n",
       "        text-align: right;\n",
       "    }\n",
       "</style>\n",
       "<table border=\"1\" class=\"dataframe\">\n",
       "  <thead>\n",
       "    <tr style=\"text-align: right;\">\n",
       "      <th></th>\n",
       "      <th>price</th>\n",
       "      <th>vehicle_type</th>\n",
       "      <th>registration_year</th>\n",
       "      <th>gearbox</th>\n",
       "      <th>power</th>\n",
       "      <th>model</th>\n",
       "      <th>kilometer</th>\n",
       "      <th>fuel_type</th>\n",
       "      <th>brand</th>\n",
       "      <th>repaired</th>\n",
       "      <th>postal_code</th>\n",
       "    </tr>\n",
       "  </thead>\n",
       "  <tbody>\n",
       "    <tr>\n",
       "      <th>234296</th>\n",
       "      <td>3800</td>\n",
       "      <td>wagon</td>\n",
       "      <td>1978</td>\n",
       "      <td>manual</td>\n",
       "      <td>NaN</td>\n",
       "      <td>serie_1</td>\n",
       "      <td>30000</td>\n",
       "      <td>gasoline</td>\n",
       "      <td>land_rover</td>\n",
       "      <td>undefined</td>\n",
       "      <td>49824</td>\n",
       "    </tr>\n",
       "    <tr>\n",
       "      <th>280216</th>\n",
       "      <td>0</td>\n",
       "      <td>wagon</td>\n",
       "      <td>1970</td>\n",
       "      <td>manual</td>\n",
       "      <td>NaN</td>\n",
       "      <td>serie_1</td>\n",
       "      <td>100000</td>\n",
       "      <td>gasoline</td>\n",
       "      <td>land_rover</td>\n",
       "      <td>undefined</td>\n",
       "      <td>88634</td>\n",
       "    </tr>\n",
       "  </tbody>\n",
       "</table>\n",
       "</div>"
      ],
      "text/plain": [
       "        price vehicle_type  registration_year gearbox  power    model  \\\n",
       "234296   3800        wagon               1978  manual    NaN  serie_1   \n",
       "280216      0        wagon               1970  manual    NaN  serie_1   \n",
       "\n",
       "        kilometer fuel_type       brand   repaired  postal_code  \n",
       "234296      30000  gasoline  land_rover  undefined        49824  \n",
       "280216     100000  gasoline  land_rover  undefined        88634  "
      ]
     },
     "execution_count": 38,
     "metadata": {},
     "output_type": "execute_result"
    }
   ],
   "source": [
    "data[data['power'].isna()]"
   ]
  },
  {
   "cell_type": "markdown",
   "metadata": {},
   "source": [
    "Land Rover Series 1 (в изначальном названии **serie_1** в конце слова пропущена **s**) - первый автомобиль компании, уже сильно устаревший. В исходном датасете так же было представлено всего две позиции с данным авто, в колонке с мощностью изначально был ноль. Так как данный автомобиль устаревший и редкий, мы просто удалим эти две строки."
   ]
  },
  {
   "cell_type": "code",
   "execution_count": 39,
   "metadata": {},
   "outputs": [
    {
     "name": "stdout",
     "output_type": "stream",
     "text": [
      "Количество удаленных строк: 2\n"
     ]
    }
   ],
   "source": [
    "rows_before = data.shape[0]\n",
    "\n",
    "data = data.drop(data.query('model == \"serie_1\"').index)\n",
    "\n",
    "print('Количество удаленных строк:', rows_before - data.shape[0])"
   ]
  },
  {
   "cell_type": "markdown",
   "metadata": {},
   "source": [
    "Рассмотрим целевой признак `price`. В нем так же присутствуют нулевые значения"
   ]
  },
  {
   "cell_type": "code",
   "execution_count": 40,
   "metadata": {},
   "outputs": [
    {
     "data": {
      "image/png": "[encoded data removed]",
      "text/plain": [
       "<Figure size 1400x350 with 1 Axes>"
      ]
     },
     "metadata": {},
     "output_type": "display_data"
    }
   ],
   "source": [
    "fig, ax = plt.subplots(figsize=(14, 3.5))\n",
    "sns.histplot(data=data, x='price', kde=True, bins=100, ax=ax)\n",
    "plt.show()"
   ]
  },
  {
   "cell_type": "markdown",
   "metadata": {},
   "source": [
    "Определим границу цены, ниже которой значение будем считать аномалией, как 2% квантиль всех цен, исключая нулевые значения. Все аномально низкие значения удалим."
   ]
  },
  {
   "cell_type": "code",
   "execution_count": 41,
   "metadata": {},
   "outputs": [
    {
     "name": "stdout",
     "output_type": "stream",
     "text": [
      "Граница цены, ниже которой все объявления будут удалены: 200.0\n",
      "Количество удаленных строк: 12458\n"
     ]
    }
   ],
   "source": [
    "price_quantile = data.loc[data['price'] > 0, 'price'].quantile(.02)\n",
    "print('Граница цены, ниже которой все объявления будут удалены:', price_quantile)\n",
    "\n",
    "\n",
    "rows_before = data.shape[0]\n",
    "\n",
    "data = data[data['price'] >= price_quantile]\n",
    "\n",
    "print('Количество удаленных строк:', rows_before - data.shape[0])"
   ]
  },
  {
   "cell_type": "markdown",
   "metadata": {},
   "source": [
    "**Вывод:** в количественных признаках успешно удалены аномалии. Где было возможно - значения заменены на корректные. Где не было возможности восстановить адекватные значения - такие наблюдения удалены."
   ]
  },
  {
   "cell_type": "markdown",
   "metadata": {},
   "source": [
    "### Проверка наличия явных дубликатов"
   ]
  },
  {
   "cell_type": "code",
   "execution_count": 42,
   "metadata": {},
   "outputs": [
    {
     "data": {
      "text/plain": [
       "21555"
      ]
     },
     "execution_count": 42,
     "metadata": {},
     "output_type": "execute_result"
    }
   ],
   "source": [
    "data.duplicated().sum()"
   ]
  },
  {
   "cell_type": "markdown",
   "metadata": {},
   "source": [
    "Удаляем явные дубликаты"
   ]
  },
  {
   "cell_type": "code",
   "execution_count": 43,
   "metadata": {},
   "outputs": [
    {
     "data": {
      "text/plain": [
       "0"
      ]
     },
     "execution_count": 43,
     "metadata": {},
     "output_type": "execute_result"
    }
   ],
   "source": [
    "data = data.drop_duplicates()\n",
    "\n",
    "# проверка\n",
    "data.duplicated().sum()"
   ]
  },
  {
   "cell_type": "markdown",
   "metadata": {},
   "source": [
    "**Вывод:** явные дубликаты успешно удалены."
   ]
  },
  {
   "cell_type": "markdown",
   "metadata": {},
   "source": [
    "Посчитаем, сколько наблюдений осталось в датафрейме и сколько мы удалили при обработке"
   ]
  },
  {
   "cell_type": "code",
   "execution_count": 44,
   "metadata": {},
   "outputs": [
    {
     "data": {
      "text/plain": [
       "Количество наблюдений до обработки       354369.000000\n",
       "Количество наблюдений после обработки    264199.000000\n",
       "Наблюдений удалено                        90170.000000\n",
       "Процент удаленных наблюдений                 25.445228\n",
       "dtype: float64"
      ]
     },
     "execution_count": 44,
     "metadata": {},
     "output_type": "execute_result"
    }
   ],
   "source": [
    "pd.Series({\n",
    "    'Количество наблюдений до обработки': data_shape_before,\n",
    "    'Количество наблюдений после обработки': data.shape[0],\n",
    "    'Наблюдений удалено': data_shape_before - data.shape[0],\n",
    "    'Процент удаленных наблюдений': (data_shape_before - data.shape[0]) / data_shape_before * 100\n",
    "})"
   ]
  },
  {
   "cell_type": "markdown",
   "metadata": {},
   "source": [
    "Во время предобработки данных было отброшено около 25.5% исходного датасета"
   ]
  },
  {
   "cell_type": "markdown",
   "metadata": {},
   "source": [
    "## Исследовательский анализ данных"
   ]
  },
  {
   "cell_type": "markdown",
   "metadata": {},
   "source": [
    "### Распределение числовых признаков"
   ]
  },
  {
   "cell_type": "code",
   "execution_count": 45,
   "metadata": {},
   "outputs": [],
   "source": [
    "# Сформируем списки с числовыми и категориальными признаками\n",
    "num_col = data.select_dtypes(include='number').columns.tolist()\n",
    "cat_col = data.select_dtypes(exclude='number').columns.tolist()"
   ]
  },
  {
   "cell_type": "code",
   "execution_count": 46,
   "metadata": {},
   "outputs": [
    {
     "data": {
      "image/png": "[encoded data removed]",
      "text/plain": [
       "<Figure size 1400x1750 with 10 Axes>"
      ]
     },
     "metadata": {},
     "output_type": "display_data"
    }
   ],
   "source": [
    "chart_box_hist(data, num_col, bins=70)"
   ]
  },
  {
   "cell_type": "markdown",
   "metadata": {},
   "source": [
    "**Вывод:** \n",
    "1. График распределения целевого признака `price` сильно смещен влево и напоминает распределение Пуассона. Разница между медианой и средним значением довольно велика, и составляет 1729 евро.\n",
    "2. График для `registration_year` похож на бимодальное распределение со смещением в право. Первый пик приходится примерно на 2000 год, второй - на 2006. Затем до 2015 года наблюдается постоянное уменьшение количества представленных в продаже автомобилей. Но новых автомобилей 2016 года регистрации заметно больше, чем нескольких предыдущих годов. Смещение графика вправо вызвано тем, что в датасете практически отсутствуют автомобили, выпущенные до 1985 года. Медиана и среднее значение почти совпадают, и отличаются всего на 0.1.\n",
    "3. `Можность` большинства автомобилей приходится на промежуток, примерно от 60 до 250 л.с. Медиана и среднее значение довольно близки, и составляют 110 и 119 л.с.\n",
    "4. График, описывающий распределение `пробегов` представляет собой дискретное распределение. Значения в датасете даны с большим округлением - в основном в 10 тыс.км, а при больших пробегах в 25тыс.км. Медиана получилась равна максимальному значению в 150тыс.км., т.к. автомобилей этой категории больше чем всех остальных вместе взятых.\n",
    "5. График `postal_code` стоит воспринимать скорее как категориальный признак с большим количеством категорий. Вероятно эти почтовые индексы принадлежат Германии."
   ]
  },
  {
   "cell_type": "markdown",
   "metadata": {},
   "source": [
    "### Распределение категориальных признаков"
   ]
  },
  {
   "cell_type": "code",
   "execution_count": 47,
   "metadata": {},
   "outputs": [
    {
     "data": {
      "image/png": "[encoded data removed]",
      "text/plain": [
       "<Figure size 1500x1000 with 6 Axes>"
      ]
     },
     "metadata": {},
     "output_type": "display_data"
    }
   ],
   "source": [
    "fig, axes = plt.subplots(2, 3, figsize=(15, 10))\n",
    "for ax, col in zip(axes.flat, cat_col):\n",
    "    chart_pie(data, col, ax)\n",
    "\n",
    "plt.show()"
   ]
  },
  {
   "cell_type": "markdown",
   "metadata": {},
   "source": [
    "Отдельно посчитаем количество объявлений, в зависимости от типа топлива, так как на диаграмме бензин сильно перевесил остальные типы"
   ]
  },
  {
   "cell_type": "code",
   "execution_count": 48,
   "metadata": {},
   "outputs": [
    {
     "data": {
      "text/plain": [
       "fuel_type\n",
       "gasoline    259868\n",
       "lpg           3748\n",
       "cng            441\n",
       "hybrid         118\n",
       "electric        24\n",
       "Name: count, dtype: int64"
      ]
     },
     "execution_count": 48,
     "metadata": {},
     "output_type": "execute_result"
    }
   ],
   "source": [
    "data['fuel_type'].value_counts()"
   ]
  },
  {
   "cell_type": "markdown",
   "metadata": {},
   "source": [
    "**Вывод:**\n",
    "1. Наиболее распространенные типы кузовов - **sedan**, **small**, **wagon**. Они занимают **более 75%** всех объявлений.\n",
    "2. Среди типов коробок передач преобладают **ручные**, таких **более 80%**.\n",
    "3. Самыми распространенными моделями автомобилей являются - **Volkswagen Golf**, **BMW 3 series** и **Volkswagen Polo**\n",
    "4. Подавляющее большинство автомобилей работают на бензине. Иные типы топлива используются лишь на **1.6%** автомобилей. Так как в данном признаке наблюдается значительный дисбаланс (почти весь датасет описывается одной категорией), то использовать его при обучении моделей будет бессмысленно. Поэтому его можно удалить.\n",
    "5. Пять самых крупных автобрендов являются немецкими, занимая практически **2/3** рынка. Самый распространенный - **Volkswagen** представлен **более чем в 23%** объявлений.\n",
    "6. Около **9.5%** автомобилей в объявлениях были в ремонте. Почти **3/4** автомобилей битыми небыли. Судьба оставшихся **16.7%** авто остается под вопросом, так как в части объявлений данная информация не была указана."
   ]
  },
  {
   "cell_type": "markdown",
   "metadata": {},
   "source": [
    "Удаляем признак `fuel_type`"
   ]
  },
  {
   "cell_type": "code",
   "execution_count": 49,
   "metadata": {},
   "outputs": [],
   "source": [
    "data = data.drop(['fuel_type'], axis=1)"
   ]
  },
  {
   "cell_type": "markdown",
   "metadata": {},
   "source": [
    "### Корреляционный анализ"
   ]
  },
  {
   "cell_type": "markdown",
   "metadata": {},
   "source": [
    "Рассмотрим корреляцию признаков. Опираться будем на коэффициент фи."
   ]
  },
  {
   "cell_type": "code",
   "execution_count": 50,
   "metadata": {},
   "outputs": [],
   "source": [
    "phik_overview = data.phik_matrix(interval_cols=num_col)"
   ]
  },
  {
   "cell_type": "code",
   "execution_count": 51,
   "metadata": {},
   "outputs": [
    {
     "data": {
      "image/png": "[encoded data removed]",
      "text/plain": [
       "<Figure size 1000x800 with 2 Axes>"
      ]
     },
     "metadata": {},
     "output_type": "display_data"
    },
    {
     "name": "stdout",
     "output_type": "stream",
     "text": [
      "Наибольшие коэффициенты корреляции:\n"
     ]
    },
    {
     "data": {
      "text/html": [
       "<div>\n",
       "<style scoped>\n",
       "    .dataframe tbody tr th:only-of-type {\n",
       "        vertical-align: middle;\n",
       "    }\n",
       "\n",
       "    .dataframe tbody tr th {\n",
       "        vertical-align: top;\n",
       "    }\n",
       "\n",
       "    .dataframe thead th {\n",
       "        text-align: right;\n",
       "    }\n",
       "</style>\n",
       "<table border=\"1\" class=\"dataframe\">\n",
       "  <thead>\n",
       "    <tr style=\"text-align: right;\">\n",
       "      <th></th>\n",
       "      <th>feature_1</th>\n",
       "      <th>feature_2</th>\n",
       "      <th>corr</th>\n",
       "      <th>interpretation</th>\n",
       "    </tr>\n",
       "  </thead>\n",
       "  <tbody>\n",
       "    <tr>\n",
       "      <th>0</th>\n",
       "      <td>brand</td>\n",
       "      <td>model</td>\n",
       "      <td>0.999828</td>\n",
       "      <td>наблюдается мультиколлинеарность</td>\n",
       "    </tr>\n",
       "    <tr>\n",
       "      <th>1</th>\n",
       "      <td>vehicle_type</td>\n",
       "      <td>model</td>\n",
       "      <td>0.949093</td>\n",
       "      <td>весьма высокая</td>\n",
       "    </tr>\n",
       "    <tr>\n",
       "      <th>2</th>\n",
       "      <td>model</td>\n",
       "      <td>power</td>\n",
       "      <td>0.801792</td>\n",
       "      <td>высокая</td>\n",
       "    </tr>\n",
       "    <tr>\n",
       "      <th>3</th>\n",
       "      <td>model</td>\n",
       "      <td>gearbox</td>\n",
       "      <td>0.685239</td>\n",
       "      <td>заметная</td>\n",
       "    </tr>\n",
       "    <tr>\n",
       "      <th>4</th>\n",
       "      <td>registration_year</td>\n",
       "      <td>model</td>\n",
       "      <td>0.684532</td>\n",
       "      <td>заметная</td>\n",
       "    </tr>\n",
       "    <tr>\n",
       "      <th>5</th>\n",
       "      <td>registration_year</td>\n",
       "      <td>price</td>\n",
       "      <td>0.654653</td>\n",
       "      <td>заметная</td>\n",
       "    </tr>\n",
       "    <tr>\n",
       "      <th>6</th>\n",
       "      <td>vehicle_type</td>\n",
       "      <td>brand</td>\n",
       "      <td>0.634286</td>\n",
       "      <td>заметная</td>\n",
       "    </tr>\n",
       "    <tr>\n",
       "      <th>7</th>\n",
       "      <td>price</td>\n",
       "      <td>model</td>\n",
       "      <td>0.591351</td>\n",
       "      <td>заметная</td>\n",
       "    </tr>\n",
       "    <tr>\n",
       "      <th>8</th>\n",
       "      <td>brand</td>\n",
       "      <td>power</td>\n",
       "      <td>0.564212</td>\n",
       "      <td>заметная</td>\n",
       "    </tr>\n",
       "    <tr>\n",
       "      <th>9</th>\n",
       "      <td>gearbox</td>\n",
       "      <td>power</td>\n",
       "      <td>0.552070</td>\n",
       "      <td>заметная</td>\n",
       "    </tr>\n",
       "  </tbody>\n",
       "</table>\n",
       "</div>"
      ],
      "text/plain": [
       "           feature_1 feature_2      corr                    interpretation\n",
       "0              brand     model  0.999828  наблюдается мультиколлинеарность\n",
       "1       vehicle_type     model  0.949093                    весьма высокая\n",
       "2              model     power  0.801792                           высокая\n",
       "3              model   gearbox  0.685239                          заметная\n",
       "4  registration_year     model  0.684532                          заметная\n",
       "5  registration_year     price  0.654653                          заметная\n",
       "6       vehicle_type     brand  0.634286                          заметная\n",
       "7              price     model  0.591351                          заметная\n",
       "8              brand     power  0.564212                          заметная\n",
       "9            gearbox     power  0.552070                          заметная"
      ]
     },
     "execution_count": 51,
     "metadata": {},
     "output_type": "execute_result"
    }
   ],
   "source": [
    "corr_matrix(phik_overview)\n",
    "\n",
    "print('Наибольшие коэффициенты корреляции:')\n",
    "corr_sort(phik_overview).head(10)"
   ]
  },
  {
   "cell_type": "markdown",
   "metadata": {},
   "source": [
    "Рассмотрим отдельно корреляцию целевого признака"
   ]
  },
  {
   "cell_type": "code",
   "execution_count": 52,
   "metadata": {},
   "outputs": [
    {
     "data": {
      "text/html": [
       "<div>\n",
       "<style scoped>\n",
       "    .dataframe tbody tr th:only-of-type {\n",
       "        vertical-align: middle;\n",
       "    }\n",
       "\n",
       "    .dataframe tbody tr th {\n",
       "        vertical-align: top;\n",
       "    }\n",
       "\n",
       "    .dataframe thead th {\n",
       "        text-align: right;\n",
       "    }\n",
       "</style>\n",
       "<table border=\"1\" class=\"dataframe\">\n",
       "  <thead>\n",
       "    <tr style=\"text-align: right;\">\n",
       "      <th></th>\n",
       "      <th>corr</th>\n",
       "      <th>interpretation</th>\n",
       "    </tr>\n",
       "  </thead>\n",
       "  <tbody>\n",
       "    <tr>\n",
       "      <th>registration_year</th>\n",
       "      <td>0.654653</td>\n",
       "      <td>заметная</td>\n",
       "    </tr>\n",
       "    <tr>\n",
       "      <th>model</th>\n",
       "      <td>0.591351</td>\n",
       "      <td>заметная</td>\n",
       "    </tr>\n",
       "    <tr>\n",
       "      <th>power</th>\n",
       "      <td>0.494423</td>\n",
       "      <td>умеренная</td>\n",
       "    </tr>\n",
       "    <tr>\n",
       "      <th>brand</th>\n",
       "      <td>0.351326</td>\n",
       "      <td>умеренная</td>\n",
       "    </tr>\n",
       "    <tr>\n",
       "      <th>repaired</th>\n",
       "      <td>0.336753</td>\n",
       "      <td>умеренная</td>\n",
       "    </tr>\n",
       "    <tr>\n",
       "      <th>gearbox</th>\n",
       "      <td>0.321282</td>\n",
       "      <td>умеренная</td>\n",
       "    </tr>\n",
       "    <tr>\n",
       "      <th>kilometer</th>\n",
       "      <td>0.313583</td>\n",
       "      <td>умеренная</td>\n",
       "    </tr>\n",
       "    <tr>\n",
       "      <th>vehicle_type</th>\n",
       "      <td>0.283830</td>\n",
       "      <td>слабая</td>\n",
       "    </tr>\n",
       "    <tr>\n",
       "      <th>postal_code</th>\n",
       "      <td>0.091810</td>\n",
       "      <td>осутствует</td>\n",
       "    </tr>\n",
       "  </tbody>\n",
       "</table>\n",
       "</div>"
      ],
      "text/plain": [
       "                       corr interpretation\n",
       "registration_year  0.654653       заметная\n",
       "model              0.591351       заметная\n",
       "power              0.494423      умеренная\n",
       "brand              0.351326      умеренная\n",
       "repaired           0.336753      умеренная\n",
       "gearbox            0.321282      умеренная\n",
       "kilometer          0.313583      умеренная\n",
       "vehicle_type       0.283830         слабая\n",
       "postal_code        0.091810     осутствует"
      ]
     },
     "execution_count": 52,
     "metadata": {},
     "output_type": "execute_result"
    }
   ],
   "source": [
    "target_corr(phik_overview, 'price')"
   ]
  },
  {
   "cell_type": "markdown",
   "metadata": {},
   "source": [
    "**Вывод:** у признака `model` присутствует мультиколлинеарная связь с `brand` и `vehicle_type`. Хорошим решением будет удалить лишь один признак - `model`, что бы он не конфликтовал с двумя другими. В ходе экспериментов так же комбинация признаков `brand` и `vehicle_type` показала лучшую точность в сравнении с одним `model`.\\\n",
    "Признак `postal_code` так же можно удалить, потому что он очень слабо коррелирует с ценой. "
   ]
  },
  {
   "cell_type": "code",
   "execution_count": 53,
   "metadata": {},
   "outputs": [],
   "source": [
    "data = data.drop(['model', 'postal_code'], axis=1)"
   ]
  },
  {
   "cell_type": "markdown",
   "metadata": {},
   "source": [
    "## Обучение моделей"
   ]
  },
  {
   "cell_type": "code",
   "execution_count": 54,
   "metadata": {},
   "outputs": [],
   "source": [
    "RANDOM_STATE = 42\n",
    "target = 'price'\n",
    "\n",
    "# Отделяем таргет от входных признаков\n",
    "X = data.drop(target, axis=1)\n",
    "y = data[target]\n",
    "\n",
    "# Формируем списки из названий числовых и категориальных признаков\n",
    "num_col = X.select_dtypes(include='number').columns.tolist()\n",
    "cat_col = X.select_dtypes(exclude='number').columns.tolist()\n",
    "\n",
    "# Разделяем датасет на тренировочную и тестовую выборки\n",
    "X_train, X_test, y_train, y_test = train_test_split(\n",
    "    X, y,\n",
    "    test_size=.2, \n",
    "    random_state=RANDOM_STATE\n",
    ")\n",
    "\n",
    "\n",
    "# Для отладки:\n",
    "# X_train = X_train.sample(15000, random_state=RANDOM_STATE)\n",
    "# y_train = y_train.loc[X_train.index]"
   ]
  },
  {
   "cell_type": "code",
   "execution_count": 55,
   "metadata": {},
   "outputs": [],
   "source": [
    "# Пайплайн для масштабирования количественных и кодирования категориальных признаков. \n",
    "data_preprocessor = ColumnTransformer([\n",
    "    ('num', StandardScaler(), num_col),\n",
    "    ('ohe', OneHotEncoder(handle_unknown='ignore', drop='first', sparse_output=False), cat_col)\n",
    "])"
   ]
  },
  {
   "cell_type": "code",
   "execution_count": 56,
   "metadata": {},
   "outputs": [],
   "source": [
    "# Объявим датафрейм, в который будем заносить результаты протестированных моделей\n",
    "rating_model_df = pd.DataFrame(columns=['Search params (sec)', 'Fit (sec)', 'Predict (sec)', 'RMSE'])"
   ]
  },
  {
   "cell_type": "code",
   "execution_count": 57,
   "metadata": {},
   "outputs": [],
   "source": [
    "# Функция автоматизированного подбора гиперпараметров\n",
    "def optuna_search_cv(model, param_distributions, X, y):\n",
    "    estimator = Pipeline([\n",
    "        ('preprocessor', data_preprocessor),\n",
    "        ('model', model)])\n",
    "\n",
    "    # Подбор параметров и кросс-валидацию будем осуществлять с помощью байесовской оптимизации\n",
    "    # из модуля Optuna\n",
    "    optuna_search = OptunaSearchCV(\n",
    "        estimator, \n",
    "        param_distributions, \n",
    "        cv=5,\n",
    "        scoring='neg_root_mean_squared_error',\n",
    "        random_state=RANDOM_STATE,\n",
    "        n_trials=25\n",
    "    )\n",
    "\n",
    "    # Время выполнения следующих операция заносится в датафрейм\n",
    "    # Подбор параметров и кросс-валидация\n",
    "    start = time.time()\n",
    "    optuna_search.fit(X, y)\n",
    "    search_time = time.time() - start\n",
    "\n",
    "    # Обучение лучшей модели\n",
    "    start = time.time()\n",
    "    optuna_search.best_estimator_.fit(X_train, y_train)\n",
    "    time_fit = time.time() - start\n",
    "\n",
    "    # Предсказание лучшей модели\n",
    "    start = time.time()\n",
    "    optuna_search.best_estimator_.predict(X_test)\n",
    "    time_predict = time.time() - start\n",
    "\n",
    "\n",
    "    # Формируем список из временных значений и метрики качества\n",
    "    result = [search_time, time_fit, time_predict, optuna_search.best_score_ * -1]\n",
    "    # Получаем название текущей модели\n",
    "    model_name = optuna_search.best_estimator_[1].__class__.__name__\n",
    "    # Заносим значения в датафрейм, округляя числа\n",
    "    rating_model_df.loc[model_name] = [round(x, 2) for x in result]\n",
    "\n",
    "    # функция возвращает объект OptunaSearchCV с обученной лучшей моделью\n",
    "    return optuna_search"
   ]
  },
  {
   "cell_type": "code",
   "execution_count": 58,
   "metadata": {},
   "outputs": [],
   "source": [
    "# Функция для вывода параметров лучшей модели\n",
    "def optuna_result(optuna_search, view_table=True):\n",
    "    # Получаем название текущей модели\n",
    "    model_name = optuna_search.best_estimator_[1].__class__.__name__\n",
    "    \n",
    "    print(f'{model_name} best parameters:')\n",
    "    # Каждый гиперпараметр печатаем с новой строки, убирая в названии приписку 'model__' от пайплайна\n",
    "    for i, j in optuna_search.best_params_.items():\n",
    "        print(f'{i[7:]}: {j}')\n",
    "\n",
    "    if view_table:\n",
    "        print()\n",
    "        # Из датафрейма rating_model_df извлекаем данные для текущей модели по индексу (названию модели)\n",
    "        display(rating_model_df.loc[[model_name]])\n",
    "\n",
    "    # Для отладки\n",
    "    #display(optuna_search.trials_dataframe())"
   ]
  },
  {
   "cell_type": "markdown",
   "metadata": {},
   "source": [
    "### Constant model - **DummyRegressor**"
   ]
  },
  {
   "cell_type": "markdown",
   "metadata": {},
   "source": [
    "В качестве начальной точки отсчета для оценки моделей применим константную модель **DummyRegressor**; для каждого объекта в качестве предсказания она всегда выдает среднее значение цены."
   ]
  },
  {
   "cell_type": "code",
   "execution_count": 59,
   "metadata": {},
   "outputs": [
    {
     "name": "stdout",
     "output_type": "stream",
     "text": [
      "RMSE на тренировочной выборке: 4538.48\n"
     ]
    }
   ],
   "source": [
    "dummy_model = DummyRegressor(strategy='mean').fit(X_train, y_train)\n",
    "\n",
    "print(f'RMSE на тренировочной выборке: {mean_squared_error(y_train, dummy_model.predict(X_train)) ** .5:.2f}')"
   ]
  },
  {
   "cell_type": "markdown",
   "metadata": {},
   "source": [
    "### Baseline model - **LinearRegression**"
   ]
  },
  {
   "cell_type": "markdown",
   "metadata": {},
   "source": [
    "За базовую модель возьмём линейную регрессию. С ее метрикой качества будем сравнивать более сложные модели"
   ]
  },
  {
   "cell_type": "code",
   "execution_count": 60,
   "metadata": {},
   "outputs": [
    {
     "name": "stdout",
     "output_type": "stream",
     "text": [
      "RMSE на тренировочной выборке: 2718.25\n"
     ]
    }
   ],
   "source": [
    "cross_val_lr = cross_val_score(\n",
    "    LinearRegression(), \n",
    "    data_preprocessor.fit_transform(X_train), \n",
    "    y_train, \n",
    "    scoring='neg_root_mean_squared_error').mean()\n",
    "\n",
    "print(f'RMSE на тренировочной выборке: {cross_val_lr * -1:.2f}')"
   ]
  },
  {
   "cell_type": "markdown",
   "metadata": {},
   "source": [
    "**Вывод:** по сравнению с константной моделью, применение линейной регрессии дало значительный прирост в качестве: метрика **RMSE** улучшилась более чем на **1800** евро."
   ]
  },
  {
   "cell_type": "markdown",
   "metadata": {},
   "source": [
    "### **DecisionTreeRegressor**"
   ]
  },
  {
   "cell_type": "markdown",
   "metadata": {},
   "source": [
    "Далее возьмем более продвинутую модель, а именно дерево решений для задач регрессии.\\\n",
    "Начиная с этой модели и далее мы будем применять автоматизированный поиск наилучших гиперпараметров"
   ]
  },
  {
   "cell_type": "code",
   "execution_count": 61,
   "metadata": {},
   "outputs": [],
   "source": [
    "# отключение вывода предупреждающих сообщений\n",
    "warnings.filterwarnings('ignore')"
   ]
  },
  {
   "cell_type": "code",
   "execution_count": 62,
   "metadata": {},
   "outputs": [
    {
     "name": "stdout",
     "output_type": "stream",
     "text": [
      "DecisionTreeRegressor best parameters:\n",
      "max_depth: 15\n",
      "min_samples_leaf: 7\n",
      "min_samples_split: 2\n",
      "\n"
     ]
    },
    {
     "data": {
      "text/html": [
       "<div>\n",
       "<style scoped>\n",
       "    .dataframe tbody tr th:only-of-type {\n",
       "        vertical-align: middle;\n",
       "    }\n",
       "\n",
       "    .dataframe tbody tr th {\n",
       "        vertical-align: top;\n",
       "    }\n",
       "\n",
       "    .dataframe thead th {\n",
       "        text-align: right;\n",
       "    }\n",
       "</style>\n",
       "<table border=\"1\" class=\"dataframe\">\n",
       "  <thead>\n",
       "    <tr style=\"text-align: right;\">\n",
       "      <th></th>\n",
       "      <th>Search params (sec)</th>\n",
       "      <th>Fit (sec)</th>\n",
       "      <th>Predict (sec)</th>\n",
       "      <th>RMSE</th>\n",
       "    </tr>\n",
       "  </thead>\n",
       "  <tbody>\n",
       "    <tr>\n",
       "      <th>DecisionTreeRegressor</th>\n",
       "      <td>66.19</td>\n",
       "      <td>0.7</td>\n",
       "      <td>0.04</td>\n",
       "      <td>1757.73</td>\n",
       "    </tr>\n",
       "  </tbody>\n",
       "</table>\n",
       "</div>"
      ],
      "text/plain": [
       "                       Search params (sec)  Fit (sec)  Predict (sec)     RMSE\n",
       "DecisionTreeRegressor                66.19        0.7           0.04  1757.73"
      ]
     },
     "metadata": {},
     "output_type": "display_data"
    }
   ],
   "source": [
    "# Список параметров\n",
    "param_distributions = {\n",
    "    'model__max_depth': opt_dis.IntDistribution(2, 15),\n",
    "    'model__min_samples_leaf': opt_dis.IntDistribution(1, 10),\n",
    "    'model__min_samples_split': opt_dis.IntDistribution(2, 20)\n",
    "}\n",
    "\n",
    "# Подбор параметров\n",
    "optuna_search_dtr = optuna_search_cv(\n",
    "    DecisionTreeRegressor(random_state=RANDOM_STATE), \n",
    "    param_distributions,\n",
    "    X_train, y_train)\n",
    "\n",
    "# Вывод результатов\n",
    "optuna_result(optuna_search_dtr)"
   ]
  },
  {
   "cell_type": "markdown",
   "metadata": {},
   "source": [
    "**Вывод:** применение более сложной модели, по сравнению с линейной регрессией, улучшило метрику почти на **1000** единиц."
   ]
  },
  {
   "cell_type": "markdown",
   "metadata": {},
   "source": [
    "### **RandomForestRegressor**"
   ]
  },
  {
   "cell_type": "markdown",
   "metadata": {},
   "source": [
    "В качестве следующей модели возьмем модель случайного леса"
   ]
  },
  {
   "cell_type": "code",
   "execution_count": 63,
   "metadata": {},
   "outputs": [
    {
     "name": "stdout",
     "output_type": "stream",
     "text": [
      "RandomForestRegressor best parameters:\n",
      "n_estimators: 27\n",
      "max_depth: 15\n",
      "min_samples_leaf: 5\n",
      "min_samples_split: 20\n",
      "\n"
     ]
    },
    {
     "data": {
      "text/html": [
       "<div>\n",
       "<style scoped>\n",
       "    .dataframe tbody tr th:only-of-type {\n",
       "        vertical-align: middle;\n",
       "    }\n",
       "\n",
       "    .dataframe tbody tr th {\n",
       "        vertical-align: top;\n",
       "    }\n",
       "\n",
       "    .dataframe thead th {\n",
       "        text-align: right;\n",
       "    }\n",
       "</style>\n",
       "<table border=\"1\" class=\"dataframe\">\n",
       "  <thead>\n",
       "    <tr style=\"text-align: right;\">\n",
       "      <th></th>\n",
       "      <th>Search params (sec)</th>\n",
       "      <th>Fit (sec)</th>\n",
       "      <th>Predict (sec)</th>\n",
       "      <th>RMSE</th>\n",
       "    </tr>\n",
       "  </thead>\n",
       "  <tbody>\n",
       "    <tr>\n",
       "      <th>RandomForestRegressor</th>\n",
       "      <td>535.88</td>\n",
       "      <td>7.53</td>\n",
       "      <td>0.15</td>\n",
       "      <td>1657.09</td>\n",
       "    </tr>\n",
       "  </tbody>\n",
       "</table>\n",
       "</div>"
      ],
      "text/plain": [
       "                       Search params (sec)  Fit (sec)  Predict (sec)     RMSE\n",
       "RandomForestRegressor               535.88       7.53           0.15  1657.09"
      ]
     },
     "metadata": {},
     "output_type": "display_data"
    }
   ],
   "source": [
    "param_distributions = {\n",
    "    'model__n_estimators': opt_dis.IntDistribution(10, 30),\n",
    "    'model__max_depth': opt_dis.IntDistribution(2, 15),\n",
    "    'model__min_samples_leaf': opt_dis.IntDistribution(1, 10),\n",
    "    'model__min_samples_split': opt_dis.IntDistribution(2, 20)\n",
    "}\n",
    "\n",
    "\n",
    "optuna_search_rfr = optuna_search_cv(\n",
    "    RandomForestRegressor(random_state=RANDOM_STATE), \n",
    "    param_distributions,\n",
    "    X_train, y_train)\n",
    "\n",
    "\n",
    "optuna_result(optuna_search_rfr)"
   ]
  },
  {
   "cell_type": "markdown",
   "metadata": {},
   "source": [
    "**Вывод:** скачек в качестве метрики уже не такой большой, как между предыдущими моделями, но тем не менее, качество удалось улучшить еще на **100** пунктов."
   ]
  },
  {
   "cell_type": "markdown",
   "metadata": {},
   "source": [
    "### **LGBMRegressor**"
   ]
  },
  {
   "cell_type": "markdown",
   "metadata": {},
   "source": [
    "Далее попробуем несколько моделей из сторонних библиотек с применением градиентного бустинга. Первом моделью будет **LGBMRegressor**."
   ]
  },
  {
   "cell_type": "code",
   "execution_count": 64,
   "metadata": {},
   "outputs": [
    {
     "name": "stdout",
     "output_type": "stream",
     "text": [
      "LGBMRegressor best parameters:\n",
      "n_estimators: 490\n",
      "max_depth: 15\n",
      "num_leaves: 92\n",
      "\n"
     ]
    },
    {
     "data": {
      "text/html": [
       "<div>\n",
       "<style scoped>\n",
       "    .dataframe tbody tr th:only-of-type {\n",
       "        vertical-align: middle;\n",
       "    }\n",
       "\n",
       "    .dataframe tbody tr th {\n",
       "        vertical-align: top;\n",
       "    }\n",
       "\n",
       "    .dataframe thead th {\n",
       "        text-align: right;\n",
       "    }\n",
       "</style>\n",
       "<table border=\"1\" class=\"dataframe\">\n",
       "  <thead>\n",
       "    <tr style=\"text-align: right;\">\n",
       "      <th></th>\n",
       "      <th>Search params (sec)</th>\n",
       "      <th>Fit (sec)</th>\n",
       "      <th>Predict (sec)</th>\n",
       "      <th>RMSE</th>\n",
       "    </tr>\n",
       "  </thead>\n",
       "  <tbody>\n",
       "    <tr>\n",
       "      <th>LGBMRegressor</th>\n",
       "      <td>109.76</td>\n",
       "      <td>1.22</td>\n",
       "      <td>0.25</td>\n",
       "      <td>1549.96</td>\n",
       "    </tr>\n",
       "  </tbody>\n",
       "</table>\n",
       "</div>"
      ],
      "text/plain": [
       "               Search params (sec)  Fit (sec)  Predict (sec)     RMSE\n",
       "LGBMRegressor               109.76       1.22           0.25  1549.96"
      ]
     },
     "metadata": {},
     "output_type": "display_data"
    }
   ],
   "source": [
    "param_distributions = {\n",
    "    'model__n_estimators': opt_dis.IntDistribution(10, 500, step=10),\n",
    "    'model__max_depth': opt_dis.IntDistribution(1, 20),\n",
    "    'model__num_leaves': opt_dis.IntDistribution(2, 100)\n",
    "}\n",
    "\n",
    "\n",
    "optuna_search_lgbmr = optuna_search_cv(\n",
    "    LGBMRegressor(random_state=RANDOM_STATE, verbose=-1), \n",
    "    param_distributions,\n",
    "    X_train, y_train)\n",
    "\n",
    "\n",
    "optuna_result(optuna_search_lgbmr)"
   ]
  },
  {
   "cell_type": "markdown",
   "metadata": {},
   "source": [
    "**Вывод:** по сравнению со случайным лесом, метрика **RMSE** улучшилась более чем на **100** евро. Так же данная модель значительно выигрывает в скорости, особенно это заметно по продолжительности подбора параметров."
   ]
  },
  {
   "cell_type": "markdown",
   "metadata": {},
   "source": [
    "### **CatBoostRegressor**"
   ]
  },
  {
   "cell_type": "markdown",
   "metadata": {},
   "source": [
    "Далее применим **CatBoostRegressor**."
   ]
  },
  {
   "cell_type": "code",
   "execution_count": 65,
   "metadata": {},
   "outputs": [
    {
     "name": "stdout",
     "output_type": "stream",
     "text": [
      "CatBoostRegressor best parameters:\n",
      "iterations: 500\n",
      "depth: 8\n",
      "learning_rate: 0.034999999999999996\n",
      "\n"
     ]
    },
    {
     "data": {
      "text/html": [
       "<div>\n",
       "<style scoped>\n",
       "    .dataframe tbody tr th:only-of-type {\n",
       "        vertical-align: middle;\n",
       "    }\n",
       "\n",
       "    .dataframe tbody tr th {\n",
       "        vertical-align: top;\n",
       "    }\n",
       "\n",
       "    .dataframe thead th {\n",
       "        text-align: right;\n",
       "    }\n",
       "</style>\n",
       "<table border=\"1\" class=\"dataframe\">\n",
       "  <thead>\n",
       "    <tr style=\"text-align: right;\">\n",
       "      <th></th>\n",
       "      <th>Search params (sec)</th>\n",
       "      <th>Fit (sec)</th>\n",
       "      <th>Predict (sec)</th>\n",
       "      <th>RMSE</th>\n",
       "    </tr>\n",
       "  </thead>\n",
       "  <tbody>\n",
       "    <tr>\n",
       "      <th>CatBoostRegressor</th>\n",
       "      <td>333.22</td>\n",
       "      <td>3.66</td>\n",
       "      <td>0.37</td>\n",
       "      <td>1651.17</td>\n",
       "    </tr>\n",
       "  </tbody>\n",
       "</table>\n",
       "</div>"
      ],
      "text/plain": [
       "                   Search params (sec)  Fit (sec)  Predict (sec)     RMSE\n",
       "CatBoostRegressor               333.22       3.66           0.37  1651.17"
      ]
     },
     "metadata": {},
     "output_type": "display_data"
    }
   ],
   "source": [
    "param_distributions = {\n",
    "    'model__iterations': opt_dis.IntDistribution(10, 500, step=10),\n",
    "    'model__depth': opt_dis.IntDistribution(2, 8),\n",
    "    'model__learning_rate': opt_dis.FloatDistribution(.005, .05, step=.005)\n",
    "}\n",
    "\n",
    "\n",
    "optuna_search_catbr = optuna_search_cv(\n",
    "    CatBoostRegressor(random_state=RANDOM_STATE, verbose=0), \n",
    "    param_distributions,\n",
    "    X_train, y_train)\n",
    "\n",
    "\n",
    "optuna_result(optuna_search_catbr)"
   ]
  },
  {
   "cell_type": "markdown",
   "metadata": {},
   "source": [
    "**Вывод:** модель **CatBoostRegressor** в нашей задаче показала себя не так хорошо, как **LGBMRegressor**, уступив последней в точности и скорости."
   ]
  },
  {
   "cell_type": "markdown",
   "metadata": {},
   "source": [
    "### **XGBRegressor**"
   ]
  },
  {
   "cell_type": "markdown",
   "metadata": {},
   "source": [
    "Последней рассмотрим модель из библиотеки **XGBoost**"
   ]
  },
  {
   "cell_type": "code",
   "execution_count": 66,
   "metadata": {},
   "outputs": [
    {
     "name": "stdout",
     "output_type": "stream",
     "text": [
      "XGBRegressor best parameters:\n",
      "n_estimators: 370\n",
      "max_depth: 11\n",
      "learning_rate: 0.049999999999999996\n",
      "\n"
     ]
    },
    {
     "data": {
      "text/html": [
       "<div>\n",
       "<style scoped>\n",
       "    .dataframe tbody tr th:only-of-type {\n",
       "        vertical-align: middle;\n",
       "    }\n",
       "\n",
       "    .dataframe tbody tr th {\n",
       "        vertical-align: top;\n",
       "    }\n",
       "\n",
       "    .dataframe thead th {\n",
       "        text-align: right;\n",
       "    }\n",
       "</style>\n",
       "<table border=\"1\" class=\"dataframe\">\n",
       "  <thead>\n",
       "    <tr style=\"text-align: right;\">\n",
       "      <th></th>\n",
       "      <th>Search params (sec)</th>\n",
       "      <th>Fit (sec)</th>\n",
       "      <th>Predict (sec)</th>\n",
       "      <th>RMSE</th>\n",
       "    </tr>\n",
       "  </thead>\n",
       "  <tbody>\n",
       "    <tr>\n",
       "      <th>XGBRegressor</th>\n",
       "      <td>266.62</td>\n",
       "      <td>2.21</td>\n",
       "      <td>0.12</td>\n",
       "      <td>1556.51</td>\n",
       "    </tr>\n",
       "  </tbody>\n",
       "</table>\n",
       "</div>"
      ],
      "text/plain": [
       "              Search params (sec)  Fit (sec)  Predict (sec)     RMSE\n",
       "XGBRegressor               266.62       2.21           0.12  1556.51"
      ]
     },
     "metadata": {},
     "output_type": "display_data"
    }
   ],
   "source": [
    "param_distributions = {\n",
    "    'model__n_estimators': opt_dis.IntDistribution(10, 500, step=10),\n",
    "    'model__max_depth': opt_dis.IntDistribution(2, 15),\n",
    "    'model__learning_rate': opt_dis.FloatDistribution(.005, .05, step=.005)\n",
    "}\n",
    "\n",
    "\n",
    "optuna_search_xgbr = optuna_search_cv(\n",
    "    XGBRegressor(random_state=RANDOM_STATE), \n",
    "    param_distributions,\n",
    "    X_train, y_train)\n",
    "\n",
    "optuna_result(optuna_search_xgbr)"
   ]
  },
  {
   "cell_type": "markdown",
   "metadata": {},
   "source": [
    "**Вывод:** по точности данная модель оказалась на уровне с **LGBMRegressor**, но несколько уступив ей в скорости."
   ]
  },
  {
   "cell_type": "code",
   "execution_count": 67,
   "metadata": {},
   "outputs": [],
   "source": [
    "# Снятие ограничений на вывод предупреждающих сообщений\n",
    "warnings.resetwarnings()"
   ]
  },
  {
   "cell_type": "markdown",
   "metadata": {},
   "source": [
    "## Анализ моделей"
   ]
  },
  {
   "cell_type": "markdown",
   "metadata": {},
   "source": [
    "Рассмотрим сводную таблицу, содержащую временные параметры и точность для каждой модели. Отсортируем по убыванию метрики качества **RMSE**"
   ]
  },
  {
   "cell_type": "code",
   "execution_count": 68,
   "metadata": {},
   "outputs": [
    {
     "data": {
      "text/html": [
       "<div>\n",
       "<style scoped>\n",
       "    .dataframe tbody tr th:only-of-type {\n",
       "        vertical-align: middle;\n",
       "    }\n",
       "\n",
       "    .dataframe tbody tr th {\n",
       "        vertical-align: top;\n",
       "    }\n",
       "\n",
       "    .dataframe thead th {\n",
       "        text-align: right;\n",
       "    }\n",
       "</style>\n",
       "<table border=\"1\" class=\"dataframe\">\n",
       "  <thead>\n",
       "    <tr style=\"text-align: right;\">\n",
       "      <th></th>\n",
       "      <th>Search params (sec)</th>\n",
       "      <th>Fit (sec)</th>\n",
       "      <th>Predict (sec)</th>\n",
       "      <th>RMSE</th>\n",
       "    </tr>\n",
       "  </thead>\n",
       "  <tbody>\n",
       "    <tr>\n",
       "      <th>LGBMRegressor</th>\n",
       "      <td>109.76</td>\n",
       "      <td>1.22</td>\n",
       "      <td>0.25</td>\n",
       "      <td>1549.96</td>\n",
       "    </tr>\n",
       "    <tr>\n",
       "      <th>XGBRegressor</th>\n",
       "      <td>266.62</td>\n",
       "      <td>2.21</td>\n",
       "      <td>0.12</td>\n",
       "      <td>1556.51</td>\n",
       "    </tr>\n",
       "    <tr>\n",
       "      <th>CatBoostRegressor</th>\n",
       "      <td>333.22</td>\n",
       "      <td>3.66</td>\n",
       "      <td>0.37</td>\n",
       "      <td>1651.17</td>\n",
       "    </tr>\n",
       "    <tr>\n",
       "      <th>RandomForestRegressor</th>\n",
       "      <td>535.88</td>\n",
       "      <td>7.53</td>\n",
       "      <td>0.15</td>\n",
       "      <td>1657.09</td>\n",
       "    </tr>\n",
       "    <tr>\n",
       "      <th>DecisionTreeRegressor</th>\n",
       "      <td>66.19</td>\n",
       "      <td>0.70</td>\n",
       "      <td>0.04</td>\n",
       "      <td>1757.73</td>\n",
       "    </tr>\n",
       "  </tbody>\n",
       "</table>\n",
       "</div>"
      ],
      "text/plain": [
       "                       Search params (sec)  Fit (sec)  Predict (sec)     RMSE\n",
       "LGBMRegressor                       109.76       1.22           0.25  1549.96\n",
       "XGBRegressor                        266.62       2.21           0.12  1556.51\n",
       "CatBoostRegressor                   333.22       3.66           0.37  1651.17\n",
       "RandomForestRegressor               535.88       7.53           0.15  1657.09\n",
       "DecisionTreeRegressor                66.19       0.70           0.04  1757.73"
      ]
     },
     "execution_count": 68,
     "metadata": {},
     "output_type": "execute_result"
    }
   ],
   "source": [
    "rating_model_df.sort_values(by='RMSE')"
   ]
  },
  {
   "cell_type": "markdown",
   "metadata": {},
   "source": [
    "Для нашей задачи наиболее подходящей моделью является **LGBMRegressor**. Из всех моделей она получилась самой точной. А из наиболее точных - еще и самой быстрой, как по скорости подбора параметров, так и по скорости обучения."
   ]
  },
  {
   "cell_type": "code",
   "execution_count": 69,
   "metadata": {},
   "outputs": [
    {
     "name": "stdout",
     "output_type": "stream",
     "text": [
      "LGBMRegressor best parameters:\n",
      "n_estimators: 490\n",
      "max_depth: 15\n",
      "num_leaves: 92\n"
     ]
    }
   ],
   "source": [
    "optuna_result(optuna_search_lgbmr, view_table=False)"
   ]
  },
  {
   "cell_type": "markdown",
   "metadata": {},
   "source": [
    "Рассчитаем точность модели на тренировочной выборке"
   ]
  },
  {
   "cell_type": "code",
   "execution_count": 70,
   "metadata": {},
   "outputs": [
    {
     "name": "stdout",
     "output_type": "stream",
     "text": [
      "RMSE лучшей модели LGBMRegressor на тестовой выборке: 1545.91\n"
     ]
    }
   ],
   "source": [
    "y_pred = optuna_search_lgbmr.predict(X_test)\n",
    "\n",
    "print(f'RMSE лучшей модели LGBMRegressor на тестовой выборке: {mean_squared_error(y_test, y_pred) ** .5:.2f}')"
   ]
  },
  {
   "cell_type": "markdown",
   "metadata": {},
   "source": [
    "**Вывод:** точность на тестовой выборке оказалась даже немного лучшей, чем на тренировочной - это говорит о том, что модель не переобучилась и хорошо уловила взаимосвязи между признаками."
   ]
  },
  {
   "cell_type": "markdown",
   "metadata": {},
   "source": [
    "## Общий вывод"
   ]
  },
  {
   "cell_type": "markdown",
   "metadata": {},
   "source": [
    "**Поставленная задача:** построить модель для определения стоимости автомобиля. Метрика `RMSE` должна быть меньше **2500**.\n",
    "\n",
    "Лучшей моделью в нашем случае оказалась **LGBMRegressor** из библиотеки **LightGBM** со следующими параметрами:"
   ]
  },
  {
   "cell_type": "code",
   "execution_count": 71,
   "metadata": {},
   "outputs": [
    {
     "name": "stdout",
     "output_type": "stream",
     "text": [
      "LGBMRegressor best parameters:\n",
      "n_estimators: 490\n",
      "max_depth: 15\n",
      "num_leaves: 92\n",
      "\n"
     ]
    },
    {
     "data": {
      "text/html": [
       "<div>\n",
       "<style scoped>\n",
       "    .dataframe tbody tr th:only-of-type {\n",
       "        vertical-align: middle;\n",
       "    }\n",
       "\n",
       "    .dataframe tbody tr th {\n",
       "        vertical-align: top;\n",
       "    }\n",
       "\n",
       "    .dataframe thead th {\n",
       "        text-align: right;\n",
       "    }\n",
       "</style>\n",
       "<table border=\"1\" class=\"dataframe\">\n",
       "  <thead>\n",
       "    <tr style=\"text-align: right;\">\n",
       "      <th></th>\n",
       "      <th>Search params (sec)</th>\n",
       "      <th>Fit (sec)</th>\n",
       "      <th>Predict (sec)</th>\n",
       "      <th>RMSE</th>\n",
       "    </tr>\n",
       "  </thead>\n",
       "  <tbody>\n",
       "    <tr>\n",
       "      <th>LGBMRegressor</th>\n",
       "      <td>109.76</td>\n",
       "      <td>1.22</td>\n",
       "      <td>0.25</td>\n",
       "      <td>1549.96</td>\n",
       "    </tr>\n",
       "  </tbody>\n",
       "</table>\n",
       "</div>"
      ],
      "text/plain": [
       "               Search params (sec)  Fit (sec)  Predict (sec)     RMSE\n",
       "LGBMRegressor               109.76       1.22           0.25  1549.96"
      ]
     },
     "metadata": {},
     "output_type": "display_data"
    }
   ],
   "source": [
    "optuna_result(optuna_search_lgbmr)"
   ]
  },
  {
   "cell_type": "markdown",
   "metadata": {},
   "source": [
    "**В рамках проекта выполнено следующее:**\n",
    "1. Данные изучены и предобработаны, удалены явные и неявные дубликаты, заполнены пропуски, удалены или откорректированы аномальные значения.\n",
    "2. Произведен исследовательский анализ данных, в рамках которого построены и проанализированы графики. Так же произведен корреляционный анализ данных.\n",
    "3. Признаковое описание сокращено - оставлены только те признаки, которые коррелируют с ценой, и среди которых отсутствует мультиколинеарность.\n",
    "4. Подготовка данных с помощью пайплайна: масштабирование количественных и кодирование категориальных признаков.\n",
    "5. Построение нескольких моделей. Применение автоматизированного поиска гиперпараметров из модуля Optuna с оценкой точности на кросс-валидации.\n",
    "6. Выбор лучшей модели, на основе требований заказчика."
   ]
  }
 ],
 "metadata": {
  "ExecuteTimeLog": [
   {
    "duration": 66,
    "start_time": "2024-06-12T14:45:44.025Z"
   }
  ],
  "kernelspec": {
   "display_name": "Python 3 (ipykernel)",
   "language": "python",
   "name": "python3"
  },
  "language_info": {
   "codemirror_mode": {
    "name": "ipython",
    "version": 3
   },
   "file_extension": ".py",
   "mimetype": "text/x-python",
   "name": "python",
   "nbconvert_exporter": "python",
   "pygments_lexer": "ipython3",
   "version": "3.9.19"
  },
  "toc": {
   "base_numbering": 1,
   "nav_menu": {},
   "number_sections": true,
   "sideBar": true,
   "skip_h1_title": true,
   "title_cell": "Table of Contents",
   "title_sidebar": "Contents",
   "toc_cell": false,
   "toc_position": {},
   "toc_section_display": true,
   "toc_window_display": false
  }
 },
 "nbformat": 4,
 "nbformat_minor": 4
}
